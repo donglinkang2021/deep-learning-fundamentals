{
 "cells": [
  {
   "attachments": {},
   "cell_type": "markdown",
   "metadata": {},
   "source": [
    "# 把之前在nn上部署的最好的模型从底层开始实现一遍"
   ]
  },
  {
   "cell_type": "code",
   "execution_count": 1,
   "metadata": {},
   "outputs": [],
   "source": [
    "%matplotlib inline\n",
    "import numpy as np\n",
    "import pandas as pd\n",
    "import torch\n",
    "from torch import nn\n",
    "from d2l import torch as d2l\n",
    "import os\n",
    "from sklearn.model_selection import KFold\n",
    "import matplotlib.pyplot as plt"
   ]
  },
  {
   "attachments": {},
   "cell_type": "markdown",
   "metadata": {},
   "source": [
    "### 加载数据"
   ]
  },
  {
   "cell_type": "code",
   "execution_count": 2,
   "metadata": {},
   "outputs": [],
   "source": [
    "mydir = os.getcwd() + '\\\\data01'\n",
    "\n",
    "# 读取本地文件\n",
    "train_features = torch.load('{}/train_features.pt'.format(mydir))\n",
    "test_features = torch.load('{}/test_features.pt'.format(mydir))\n",
    "train_labels = torch.load('{}/train_labels.pt'.format(mydir))\n",
    "test_data = pd.read_csv('{}/test_data.csv'.format(mydir))"
   ]
  },
  {
   "cell_type": "markdown",
   "metadata": {},
   "source": [
    "#### 定义网络"
   ]
  },
  {
   "cell_type": "code",
   "execution_count": 3,
   "metadata": {},
   "outputs": [],
   "source": [
    "def linreg(X, w, b):  #@save\n",
    "    \"\"\"线性回归模型。\"\"\"\n",
    "    return torch.matmul(X, w) + b\n",
    "\n",
    "def relu(X):  #@save\n",
    "    \"\"\"ReLU激活函数。\"\"\"\n",
    "    constant_zero = torch.zeros_like(X)\n",
    "    return torch.max(X, constant_zero)\n",
    "\n",
    "def mlp(X, w1 ,b1, w2, b2):  #@save\n",
    "    \"\"\"定义网络模型\"\"\"\n",
    "    X = X.reshape((-1, w1.shape[0]))\n",
    "    H = relu(linreg(X, w1, b1))\n",
    "    return linreg(H, w2, b2)\n",
    "\n",
    "# 不能使用nn.Moudle，自己重写模型\n",
    "class MLP:\n",
    "    def __init__(self,input_dim, hidden_dim, output_dim):\n",
    "        super().__init__()\n",
    "        self.w1 = nn.Parameter(torch.normal(0, 0.01, size=(input_dim, hidden_dim), requires_grad=True))\n",
    "        self.b1 = nn.Parameter(torch.zeros(hidden_dim, requires_grad=True))\n",
    "        self.w2 = nn.Parameter(torch.normal(0, 0.01, size=(hidden_dim, output_dim), requires_grad=True))\n",
    "        self.b2 = nn.Parameter(torch.zeros(output_dim, requires_grad=True))\n",
    "        self.params = [self.w1, self.b1, self.w2, self.b2]\n",
    "        # 保存初始化的参数\n",
    "        torch.save(self.params, '{}/params.pt'.format(mydir))\n",
    "        \n",
    "        \n",
    "    def forward(self, X):\n",
    "        return mlp(X, self.w1, self.b1, self.w2, self.b2)\n",
    "    \n",
    "    def reset_parameters(self):\n",
    "        self.params = torch.load('{}/params.pt'.format(mydir))\n",
    "        self.w1 = self.params[0]\n",
    "        self.b1 = self.params[1]\n",
    "        self.w2 = self.params[2]\n",
    "        self.b2 = self.params[3]\n"
   ]
  },
  {
   "cell_type": "markdown",
   "metadata": {},
   "source": [
    "#### 定义损失函数"
   ]
  },
  {
   "cell_type": "code",
   "execution_count": 4,
   "metadata": {},
   "outputs": [],
   "source": [
    "def squared_loss(preds, labels): \n",
    "    \"\"\"均方损失。\"\"\"\n",
    "    return (preds - labels.reshape(preds.shape)) ** 2\n",
    "\n",
    "def log_rmse(preds, labels): \n",
    "    \"\"\"对数均方根误差。\"\"\"\n",
    "    return squared_loss(torch.log(preds+1), torch.log(labels+1)).mean()"
   ]
  },
  {
   "cell_type": "markdown",
   "metadata": {},
   "source": [
    "#### 定义优化器"
   ]
  },
  {
   "cell_type": "code",
   "execution_count": 5,
   "metadata": {},
   "outputs": [],
   "source": [
    "def sgd(params, lr): \n",
    "    \"\"\"小批量随机梯度下降。\"\"\"\n",
    "    with torch.no_grad():\n",
    "        for param in params:\n",
    "            param -= lr * param.grad\n",
    "            param.grad.zero_()"
   ]
  },
  {
   "attachments": {},
   "cell_type": "markdown",
   "metadata": {},
   "source": [
    "#### 超参数"
   ]
  },
  {
   "cell_type": "code",
   "execution_count": 6,
   "metadata": {},
   "outputs": [],
   "source": [
    "learning_rate = 0.01\n",
    "batch_size = 16\n",
    "num_epochs = 50\n",
    "loss_fn = log_rmse\n",
    "optimizer = sgd\n",
    "\n",
    "input_dim = train_features.shape[1]\n",
    "hidden_dim = 400\n",
    "output_dim = 1\n",
    "model = MLP(input_dim, hidden_dim, output_dim)\n"
   ]
  },
  {
   "cell_type": "markdown",
   "metadata": {},
   "source": [
    "#### 制作mini-batch的data loader"
   ]
  },
  {
   "cell_type": "code",
   "execution_count": 7,
   "metadata": {},
   "outputs": [],
   "source": [
    "# 借鉴老师ppt中的代码\n",
    "def data_iter(batch_size, features, labels):\n",
    "    num_examples = len(features)\n",
    "    indices = list(range(num_examples))\n",
    "    # The examples are read at random, in no particular order\n",
    "    np.random.shuffle(indices)\n",
    "    for i in range(0, num_examples, batch_size):\n",
    "        batch_indices = torch.tensor(\n",
    "            indices[i:min(i + batch_size, num_examples)])\n",
    "        yield features[batch_indices], labels[batch_indices]"
   ]
  },
  {
   "cell_type": "code",
   "execution_count": 8,
   "metadata": {},
   "outputs": [
    {
     "name": "stdout",
     "output_type": "stream",
     "text": [
      "X.shape torch.Size([16, 331]) y.shape torch.Size([16, 1])\n",
      "output.shape torch.Size([16, 1])\n"
     ]
    }
   ],
   "source": [
    "for X, y in data_iter(batch_size, train_features, train_labels):\n",
    "    print(\"X.shape\", X.shape,\"y.shape\", y.shape)\n",
    "    output = model.forward(X)\n",
    "    print(\"output.shape\", output.shape)\n",
    "    break"
   ]
  },
  {
   "attachments": {},
   "cell_type": "markdown",
   "metadata": {},
   "source": [
    "#### 简单训练"
   ]
  },
  {
   "cell_type": "code",
   "execution_count": 9,
   "metadata": {},
   "outputs": [],
   "source": [
    "# model.reset_parameters()\n",
    "# learning_rate = 20\n",
    "# history = []\n",
    "# for epoch in range(100):\n",
    "#     train_loss = 0\n",
    "#     for X, y in data_iter(batch_size, train_features, train_labels):\n",
    "#         output = model.forward(X)\n",
    "#         loss = loss_fn(output, y)\n",
    "#         loss.backward()\n",
    "#         optimizer(model.params, learning_rate)\n",
    "#         train_loss += loss.item() * X.shape[0]\n",
    "\n",
    "#     train_loss /= len(train_features)\n",
    "#     history.append(train_loss)\n",
    "#     if (epoch + 1) % 20 == 0:\n",
    "#         print('epoch %d, train loss %f' % (epoch + 1, train_loss))\n",
    "\n",
    "# plt.figure(figsize=(8, 6))\n",
    "# plt.plot(range(1, len(history) + 1), history)\n",
    "# plt.xlabel(\"epoch\")\n",
    "# plt.ylabel(\"loss\")\n",
    "# plt.show()"
   ]
  },
  {
   "cell_type": "code",
   "execution_count": 10,
   "metadata": {},
   "outputs": [],
   "source": [
    "# # 现在不进行参数初始化，直接使用上一次的参数\n",
    "# learning_rate = 10\n",
    "# for epoch in range(100):\n",
    "#     train_loss = 0\n",
    "#     # learning_rate = learning_rate * 0.95\n",
    "#     for X, y in data_iter(batch_size, train_features, train_labels):\n",
    "#         output = model.forward(X)\n",
    "#         loss = loss_fn(output, y)\n",
    "#         loss.backward()\n",
    "#         optimizer(model.params, learning_rate)\n",
    "#         train_loss += loss.item() * X.shape[0]\n",
    "#     train_loss /= len(train_features)\n",
    "#     if (epoch + 1) % 10 == 0:\n",
    "#         print('epoch %d, train loss %f' % (epoch + 1, train_loss))"
   ]
  },
  {
   "attachments": {},
   "cell_type": "markdown",
   "metadata": {},
   "source": [
    "#### Kfold调参"
   ]
  },
  {
   "cell_type": "code",
   "execution_count": 11,
   "metadata": {},
   "outputs": [],
   "source": [
    "learning_rate = 10\n",
    "batch_size = 16\n",
    "num_epochs = 100\n",
    "loss_fn = log_rmse\n",
    "optimizer = sgd\n",
    "\n",
    "input_dim = train_features.shape[1]\n",
    "hidden_dim = 400\n",
    "output_dim = 1\n",
    "model = MLP(input_dim, hidden_dim, output_dim)"
   ]
  },
  {
   "cell_type": "code",
   "execution_count": 12,
   "metadata": {},
   "outputs": [
    {
     "name": "stdout",
     "output_type": "stream",
     "text": [
      "Fold 0\n",
      "Epoch | 20/100 | Train Loss: 0.0754 | Test Loss: 0.0694\n",
      "Epoch | 40/100 | Train Loss: 0.0520 | Test Loss: 0.0451\n",
      "Epoch | 60/100 | Train Loss: 0.0430 | Test Loss: 0.0366\n",
      "Epoch | 80/100 | Train Loss: 0.0386 | Test Loss: 0.0327\n",
      "Epoch | 100/100 | Train Loss: 0.0359 | Test Loss: 0.0305\n",
      "Fold 1\n",
      "Epoch | 20/100 | Train Loss: 0.0966 | Test Loss: 0.1115\n",
      "Epoch | 40/100 | Train Loss: 0.0613 | Test Loss: 0.0693\n",
      "Epoch | 60/100 | Train Loss: 0.0457 | Test Loss: 0.0509\n",
      "Epoch | 80/100 | Train Loss: 0.0384 | Test Loss: 0.0424\n",
      "Epoch | 100/100 | Train Loss: 0.0347 | Test Loss: 0.0384\n",
      "Fold 2\n",
      "Epoch | 20/100 | Train Loss: 0.0568 | Test Loss: 0.0671\n",
      "Epoch | 40/100 | Train Loss: 0.0407 | Test Loss: 0.0481\n",
      "Epoch | 60/100 | Train Loss: 0.0349 | Test Loss: 0.0416\n",
      "Epoch | 80/100 | Train Loss: 0.0321 | Test Loss: 0.0385\n",
      "Epoch | 100/100 | Train Loss: 0.0305 | Test Loss: 0.0365\n",
      "Fold 3\n",
      "Epoch | 20/100 | Train Loss: 0.0795 | Test Loss: 0.0697\n",
      "Epoch | 40/100 | Train Loss: 0.0524 | Test Loss: 0.0471\n",
      "Epoch | 60/100 | Train Loss: 0.0418 | Test Loss: 0.0369\n",
      "Epoch | 80/100 | Train Loss: 0.0370 | Test Loss: 0.0322\n",
      "Epoch | 100/100 | Train Loss: 0.0344 | Test Loss: 0.0299\n",
      "Fold 4\n",
      "Epoch | 20/100 | Train Loss: 0.1009 | Test Loss: 0.1036\n",
      "Epoch | 40/100 | Train Loss: 0.0625 | Test Loss: 0.0657\n",
      "Epoch | 60/100 | Train Loss: 0.0456 | Test Loss: 0.0498\n",
      "Epoch | 80/100 | Train Loss: 0.0379 | Test Loss: 0.0426\n",
      "Epoch | 100/100 | Train Loss: 0.0341 | Test Loss: 0.0393\n"
     ]
    }
   ],
   "source": [
    "n_splits=5 # 子集个数\n",
    "is_print=True\n",
    "print_every=20\n",
    "X = train_features\n",
    "y = train_labels\n",
    "\n",
    "kf = KFold(n_splits=n_splits) # 创建KFold对象\n",
    "\n",
    "train_losses_per_fold = [] # 记录每个fold的训练损失\n",
    "test_losses_per_fold = [] # 记录每个fold的测试损失\n",
    "mean_train_losses = np.zeros(num_epochs) # 记录每个epoch的平均训练损失\n",
    "mean_test_losses = np.zeros(num_epochs) # 记录每个epoch的平均测试损失\n",
    "\n",
    "# 开始交叉验证循环\n",
    "for fold_index, (train_index, test_index) in enumerate(kf.split(X)):\n",
    "    if is_print:\n",
    "        print(f\"Fold {fold_index}\")\n",
    "\n",
    "    model.reset_parameters() # 重置模型参数\n",
    "\n",
    "    X_train = X[train_index] # 训练集特征\n",
    "    y_train = y[train_index] # 训练集标签\n",
    "    X_test = X[test_index] # 验证集特征\n",
    "    y_test = y[test_index] # 验证集标签\n",
    "\n",
    "    train_loss_history = [] # 记录训练损失\n",
    "    test_loss_history = [] # 记录测试损失\n",
    "\n",
    "    for epoch in range(num_epochs): # 训练num_epochs个周期\n",
    "\n",
    "        train_loss = 0\n",
    "        test_loss = 0\n",
    "        \n",
    "        with torch.no_grad(): \n",
    "            \n",
    "            for batch_X, batch_y in data_iter(batch_size, X_test, y_test): \n",
    "                \n",
    "                output = model.forward(batch_X).squeeze() # 前向传播，得到输出\n",
    "                \n",
    "                loss = loss_fn(output, batch_y.float())\n",
    "\n",
    "                test_loss += loss.item() * batch_y.shape[0] # 记录测试损失\n",
    "        \n",
    "\n",
    "        for batch_X, batch_y in data_iter(batch_size, X_train, y_train): # 遍历训练集批次\n",
    "            \n",
    "            # optimizer.zero_grad() # 清空梯度\n",
    "            \n",
    "            output = model.forward(batch_X).squeeze() # 前向传播，得到输出\n",
    "            \n",
    "            loss = loss_fn(output, batch_y.float()) # 计算损失\n",
    "            \n",
    "            loss.backward() # 反向传播，计算梯度\n",
    "            \n",
    "            optimizer(model.params, learning_rate) # 更新参数\n",
    "\n",
    "            train_loss += loss.item() * batch_y.shape[0] # 记录训练损失\n",
    "\n",
    "        mean_train_loss = train_loss / X_train.shape[0] # 计算平均训练损失\n",
    "        mean_test_loss = test_loss / X_test.shape[0]# 计算平均测试损失\n",
    "        \n",
    "        if is_print and (epoch+1) % print_every == 0: # 每print_every个周期打印一次训练信息(损失\n",
    "            print(f\"Epoch | {epoch+1:2d}/{num_epochs:2d} | Train Loss: {mean_train_loss:.4f} | Test Loss: {mean_test_loss:.4f}\")\n",
    "\n",
    "        train_loss_history.append(mean_train_loss) # 记录训练损失\n",
    "        test_loss_history.append(mean_test_loss) # 记录测试损失\n",
    "\n",
    "    train_losses_per_fold.append(train_loss_history) # 记录每个fold的训练损失\n",
    "    test_losses_per_fold.append(test_loss_history) # 记录每个fold的测试损失\n",
    "\n",
    "mean_train_losses = np.mean(np.array(train_losses_per_fold), axis=0)\n",
    "mean_test_losses = np.mean(np.array(test_losses_per_fold), axis=0)"
   ]
  },
  {
   "cell_type": "code",
   "execution_count": 13,
   "metadata": {},
   "outputs": [
    {
     "data": {
      "image/png": "[encoded data removed]",
      "text/plain": [
       "<Figure size 2160x432 with 5 Axes>"
      ]
     },
     "metadata": {
      "needs_background": "light"
     },
     "output_type": "display_data"
    }
   ],
   "source": [
    "\n",
    "\n",
    "plt.figure(figsize=(30, 6))\n",
    "for i in range(n_splits):\n",
    "    plt.subplot(1, n_splits, i+1)\n",
    "    plt.plot(train_losses_per_fold[i], label=f\"Train Loss Fold {i+1}\")\n",
    "    plt.plot(test_losses_per_fold[i], label=f\"Test Loss Fold {i+1}\")\n",
    "    plt.legend()\n",
    "plt.show()"
   ]
  },
  {
   "cell_type": "code",
   "execution_count": 14,
   "metadata": {},
   "outputs": [
    {
     "data": {
      "image/png": "[encoded data removed]",
      "text/plain": [
       "<Figure size 720x432 with 1 Axes>"
      ]
     },
     "metadata": {
      "needs_background": "light"
     },
     "output_type": "display_data"
    }
   ],
   "source": [
    "plt.figure(figsize=(10, 6))\n",
    "plt.plot(mean_train_losses, label=\"Mean Train Loss\")\n",
    "plt.plot(mean_test_losses, label=\"Mean Test Loss\")\n",
    "plt.legend()\n",
    "plt.show()"
   ]
  },
  {
   "cell_type": "code",
   "execution_count": 15,
   "metadata": {},
   "outputs": [
    {
     "name": "stdout",
     "output_type": "stream",
     "text": [
      "The most possible score is  0.1868468377588689\n"
     ]
    }
   ],
   "source": [
    "print(\"The most possible score is \",np.sqrt(mean_test_losses[-1]))"
   ]
  },
  {
   "cell_type": "code",
   "execution_count": 16,
   "metadata": {},
   "outputs": [],
   "source": [
    "with torch.no_grad():\n",
    "    preds = model.forward(test_features).squeeze()"
   ]
  },
  {
   "cell_type": "code",
   "execution_count": 17,
   "metadata": {},
   "outputs": [
    {
     "name": "stdout",
     "output_type": "stream",
     "text": [
      "preds.shape:  torch.Size([1459])\n",
      "preds[:10]:  tensor([126244.0469, 153957.5625, 193121.6094, 210396.9844, 180728.0469,\n",
      "        191816.7031, 174210.2500, 192006.7656, 187974.1562, 125622.3281])\n"
     ]
    }
   ],
   "source": [
    "print(\"preds.shape: \", preds.shape)\n",
    "print(\"preds[:10]: \", preds[:10])"
   ]
  },
  {
   "cell_type": "code",
   "execution_count": 18,
   "metadata": {},
   "outputs": [
    {
     "name": "stdout",
     "output_type": "stream",
     "text": [
      "train_preds[:10]: \n",
      " tensor([216511.2344, 181882.6406, 218700.2656, 164026.1719, 255662.9844,\n",
      "        156787.0469, 238067.4531, 199913.8750, 131320.5000, 116161.3281])\n",
      "train_labels[:10]: \n",
      " tensor([[208500.],\n",
      "        [181500.],\n",
      "        [223500.],\n",
      "        [140000.],\n",
      "        [250000.],\n",
      "        [143000.],\n",
      "        [307000.],\n",
      "        [200000.],\n",
      "        [129900.],\n",
      "        [118000.]])\n"
     ]
    }
   ],
   "source": [
    "with torch.no_grad():\n",
    "    train_preds = model.forward(train_features).squeeze()\n",
    "print(\"train_preds[:10]: \\n\", train_preds[:10])\n",
    "print(\"train_labels[:10]: \\n\", train_labels[:10])"
   ]
  },
  {
   "cell_type": "code",
   "execution_count": 19,
   "metadata": {},
   "outputs": [],
   "source": [
    "test_data['SalePrice'] = pd.Series(preds.reshape(1, -1)[0])\n",
    "submission = pd.concat([test_data['Id'], test_data['SalePrice']], axis=1)\n",
    "submission.to_csv('submission_no_nn.csv', index=False)"
   ]
  }
 ],
 "metadata": {
  "kernelspec": {
   "display_name": "base",
   "language": "python",
   "name": "python3"
  },
  "language_info": {
   "codemirror_mode": {
    "name": "ipython",
    "version": 3
   },
   "file_extension": ".py",
   "mimetype": "text/x-python",
   "name": "python",
   "nbconvert_exporter": "python",
   "pygments_lexer": "ipython3",
   "version": "3.9.7"
  },
  "orig_nbformat": 4
 },
 "nbformat": 4,
 "nbformat_minor": 2
}
