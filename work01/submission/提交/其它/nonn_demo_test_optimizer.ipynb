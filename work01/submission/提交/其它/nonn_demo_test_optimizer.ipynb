{
 "cells": [
  {
   "cell_type": "code",
   "execution_count": 1,
   "metadata": {},
   "outputs": [],
   "source": [
    "import torch\n",
    "import torch.nn as nn\n",
    "from d2l import torch as d2l\n",
    "import numpy as np"
   ]
  },
  {
   "cell_type": "code",
   "execution_count": 2,
   "metadata": {},
   "outputs": [],
   "source": [
    "class Sgd:  #这里没有除于batch_size 因为我们在损失函数里面除了batch_size（平均损失）\n",
    "    def __init__(self, lr):\n",
    "        self.lr = lr\n",
    "    \n",
    "    def update(self, params):\n",
    "        \"\"\"小批量随机梯度下降。\"\"\"\n",
    "        with torch.no_grad():\n",
    "            for key in params.keys():\n",
    "                # param -= lr * param.grad\n",
    "                params[key] -= self.lr * params[key].grad\n",
    "                # 梯度清零\n",
    "                params[key].grad.zero_()\n",
    "\n",
    "class Adam:\n",
    "    \"\"\"Adam (http://arxiv.org/abs/1412.6980v8)\"\"\"\n",
    "    def __init__(self, lr=0.001, beta1=0.9, beta2=0.999):\n",
    "        self.lr = lr\n",
    "        self.beta1 = beta1\n",
    "        self.beta2 = beta2\n",
    "        self.iter = 0\n",
    "        self.m = None\n",
    "        self.v = None\n",
    "        \n",
    "    def update(self, params):\n",
    "        if self.m is None:\n",
    "            self.m, self.v = {}, {}\n",
    "            for key, val in params.items():\n",
    "                self.m[key] = torch.zeros_like(val)\n",
    "                self.v[key] = torch.zeros_like(val)\n",
    "        \n",
    "        self.iter += 1\n",
    "        lr_t  = self.lr * torch.sqrt(torch.tensor(1.0) - self.beta2**self.iter) / (1.0 - self.beta1**self.iter)         \n",
    "            \n",
    "        with torch.no_grad():    \n",
    "            for key in params.keys():\n",
    "                self.m[key] += (1 - self.beta1) * (params[key].grad - self.m[key])\n",
    "                self.v[key] += (1 - self.beta2) * (params[key].grad**2 - self.v[key])\n",
    "\n",
    "                params[key] -= lr_t * self.m[key] / (torch.sqrt(self.v[key]) + 1e-7)\n",
    "                params[key].grad.zero_()\n",
    "        \n"
   ]
  },
  {
   "cell_type": "code",
   "execution_count": 3,
   "metadata": {},
   "outputs": [],
   "source": [
    "def squared_loss(preds, labels): \n",
    "    \"\"\"均方损失。\"\"\"\n",
    "    return (preds - labels.reshape(preds.shape)) ** 2"
   ]
  },
  {
   "cell_type": "code",
   "execution_count": 4,
   "metadata": {},
   "outputs": [],
   "source": [
    "# 测试一下上面的优化算法 下面是简单的线性回归\n",
    "tmp_X = torch.normal(0, 0.01, size=(2, 5))\n",
    "tmp_y = torch.ones(2)\n",
    "tmp_w = nn.Parameter(torch.normal(0, 0.01, size=(5, 1)))\n",
    "tmp_b = nn.Parameter(torch.zeros(1))\n",
    "tmp_params = {'w': tmp_w, 'b': tmp_b}\n",
    "tmp_num_epochs = 20\n",
    "tmp_net = lambda X: torch.matmul(X, tmp_w) + tmp_b\n",
    "tmp_loss = squared_loss\n",
    "origin_w = nn.Parameter(tmp_w.data.clone())\n",
    "origin_b = nn.Parameter(tmp_b.data.clone())\n",
    "origin_params = {'w': origin_w, 'b': origin_b}\n",
    "origin_net = lambda X: torch.matmul(X, origin_w) + origin_b"
   ]
  },
  {
   "cell_type": "code",
   "execution_count": 5,
   "metadata": {},
   "outputs": [
    {
     "name": "stdout",
     "output_type": "stream",
     "text": [
      "epoch 1, loss: 0.999857\n",
      "epoch 2, loss: 0.639847\n",
      "epoch 3, loss: 0.409463\n",
      "epoch 4, loss: 0.262031\n",
      "epoch 5, loss: 0.167684\n"
     ]
    }
   ],
   "source": [
    "tmp_optimizer = Sgd(0.1)\n",
    "for epoch in range(tmp_num_epochs):\n",
    "    for X, y in d2l.load_array((tmp_X, tmp_y), 2):\n",
    "        l = tmp_loss(tmp_net(X), y).mean()\n",
    "        l.backward()\n",
    "        tmp_optimizer.update(tmp_params)\n",
    "        print('epoch %d, loss: %f' % (epoch + 1, l.item()))"
   ]
  },
  {
   "cell_type": "code",
   "execution_count": 6,
   "metadata": {},
   "outputs": [
    {
     "name": "stdout",
     "output_type": "stream",
     "text": [
      "epoch 1, loss: 0.999857\n",
      "epoch 2, loss: 0.804444\n",
      "epoch 3, loss: 0.630984\n",
      "epoch 4, loss: 0.479730\n",
      "epoch 5, loss: 0.350718\n"
     ]
    }
   ],
   "source": [
    "tmp_optimizer = Adam(0.1)\n",
    "for epoch in range(tmp_num_epochs):\n",
    "    for X, y in d2l.load_array((tmp_X, tmp_y), 2):\n",
    "        l = tmp_loss(origin_net(X), y).mean()\n",
    "        l.backward()\n",
    "        tmp_optimizer.update(origin_params)\n",
    "        print('epoch %d, loss: %f' % (epoch + 1, l.item()))"
   ]
  },
  {
   "attachments": {},
   "cell_type": "markdown",
   "metadata": {},
   "source": [
    "```python\n",
    "torch.sqrt(1.0 - 0.999**1)\n",
    "```\n",
    "\n",
    "会报错`TypeError: sqrt(): argument 'input' (position 1) must be Tensor, not float`\n",
    "\n",
    "应该改为\n",
    "\n",
    "```python\n",
    "torch.sqrt(torch.tensor(1.0) - 0.999**1)\n",
    "```"
   ]
  }
 ],
 "metadata": {
  "kernelspec": {
   "display_name": "base",
   "language": "python",
   "name": "python3"
  },
  "language_info": {
   "codemirror_mode": {
    "name": "ipython",
    "version": 3
   },
   "file_extension": ".py",
   "mimetype": "text/x-python",
   "name": "python",
   "nbconvert_exporter": "python",
   "pygments_lexer": "ipython3",
   "version": "3.9.7"
  },
  "orig_nbformat": 4
 },
 "nbformat": 4,
 "nbformat_minor": 2
}
