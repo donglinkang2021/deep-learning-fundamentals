{
 "cells": [
  {
   "attachments": {},
   "cell_type": "markdown",
   "metadata": {},
   "source": [
    "# 多层感知机测试效果"
   ]
  },
  {
   "cell_type": "code",
   "execution_count": 1,
   "metadata": {},
   "outputs": [],
   "source": [
    "%matplotlib inline\n",
    "import numpy as np\n",
    "import pandas as pd\n",
    "import torch\n",
    "from torch import nn\n",
    "from d2l import torch as d2l\n",
    "from Model import *\n",
    "from Trainer import *\n",
    "from torchinfo import summary\n",
    "import os"
   ]
  },
  {
   "cell_type": "markdown",
   "metadata": {},
   "source": [
    "### 加载数据"
   ]
  },
  {
   "cell_type": "code",
   "execution_count": 2,
   "metadata": {},
   "outputs": [],
   "source": [
    "mydir = os.getcwd() + '\\\\data01'\n",
    "\n",
    "# 读取本地文件\n",
    "train_features = torch.load('{}/train_features.pt'.format(mydir))\n",
    "test_features = torch.load('{}/test_features.pt'.format(mydir))\n",
    "train_labels = torch.load('{}/train_labels.pt'.format(mydir))\n",
    "test_data = pd.read_csv('{}/test_data.csv'.format(mydir))"
   ]
  },
  {
   "cell_type": "code",
   "execution_count": 3,
   "metadata": {},
   "outputs": [
    {
     "name": "stdout",
     "output_type": "stream",
     "text": [
      "train_features.shape:  torch.Size([1460, 331])\n",
      "test_features.shape:  torch.Size([1459, 331])\n",
      "train_labels.shape:  torch.Size([1460, 1])\n",
      "test_data.shape:  (1459, 81)\n"
     ]
    }
   ],
   "source": [
    "print(\"train_features.shape: \", train_features.shape)\n",
    "print(\"test_features.shape: \", test_features.shape)\n",
    "print(\"train_labels.shape: \", train_labels.shape)\n",
    "print(\"test_data.shape: \", test_data.shape)"
   ]
  },
  {
   "cell_type": "markdown",
   "metadata": {},
   "source": [
    "### 定义损失函数"
   ]
  },
  {
   "cell_type": "code",
   "execution_count": 4,
   "metadata": {},
   "outputs": [],
   "source": [
    "def squared_loss(preds, labels):  #@save\n",
    "    \"\"\"均方损失。\"\"\"\n",
    "    return (preds - labels.reshape(preds.shape)) ** 2\n",
    "\n",
    "def log_rmse(preds, labels):  #@save\n",
    "    \"\"\"对数均方根误差。\"\"\"\n",
    "    return squared_loss(torch.log(preds+1), torch.log(labels+1)).mean()"
   ]
  },
  {
   "cell_type": "code",
   "execution_count": 5,
   "metadata": {},
   "outputs": [],
   "source": [
    "# 定义超参数\n",
    "learning_rate = 0.01 # 学习率\n",
    "input_size = train_features.shape[-1]\n",
    "hidden_size = 256\n",
    "output_size = 1\n",
    "model=MLP3(input_size, hidden_size, output_size)\n",
    "loss_fn=log_rmse\n",
    "optimizer = torch.optim.Adam(model.parameters(), lr=0.01) # Adam优化器\n",
    "# optimizer=torch.optim.SGD(model.parameters(), lr=learning_rate) # 随机梯度下降优化器，学习率为0.01"
   ]
  },
  {
   "cell_type": "code",
   "execution_count": 6,
   "metadata": {},
   "outputs": [
    {
     "data": {
      "text/plain": [
       "==========================================================================================\n",
       "Layer (type:depth-idx)                   Output Shape              Param #\n",
       "==========================================================================================\n",
       "MLP3                                     [64, 1]                   --\n",
       "├─Linear: 1-1                            [64, 256]                 84,992\n",
       "├─ReLU: 1-2                              [64, 256]                 --\n",
       "├─Linear: 1-3                            [64, 256]                 65,792\n",
       "├─ReLU: 1-4                              [64, 256]                 --\n",
       "├─Linear: 1-5                            [64, 1]                   257\n",
       "==========================================================================================\n",
       "Total params: 151,041\n",
       "Trainable params: 151,041\n",
       "Non-trainable params: 0\n",
       "Total mult-adds (M): 9.67\n",
       "==========================================================================================\n",
       "Input size (MB): 0.08\n",
       "Forward/backward pass size (MB): 0.26\n",
       "Params size (MB): 0.60\n",
       "Estimated Total Size (MB): 0.95\n",
       "=========================================================================================="
      ]
     },
     "execution_count": 6,
     "metadata": {},
     "output_type": "execute_result"
    }
   ],
   "source": [
    "summary(model, input_size=(64,331))"
   ]
  },
  {
   "cell_type": "code",
   "execution_count": 7,
   "metadata": {},
   "outputs": [],
   "source": [
    "mytrainer = Trainer(\n",
    "    model= model, # 模型\n",
    "    X=train_features, # 特征\n",
    "    y=train_labels, # 标签\n",
    "    num_epochs=100, # 迭代次数\n",
    "    batch_size=16, # 批次大小为16\n",
    "    loss_fn= loss_fn, # 损失函数\n",
    "    optimizer= optimizer, # 优化器\n",
    "    n_splits=5, # 子集个数\n",
    "    is_print=True,\n",
    "    print_every=10\n",
    ")"
   ]
  },
  {
   "cell_type": "code",
   "execution_count": 8,
   "metadata": {},
   "outputs": [
    {
     "name": "stdout",
     "output_type": "stream",
     "text": [
      "Fold 0\n",
      "Epoch | 10/100 | Train Loss: 0.0273 | Test Loss: 0.0243\n",
      "Epoch | 20/100 | Train Loss: 0.0155 | Test Loss: 0.0156\n",
      "Epoch | 30/100 | Train Loss: 0.0122 | Test Loss: 0.0162\n",
      "Epoch | 40/100 | Train Loss: 0.0103 | Test Loss: 0.0179\n",
      "Epoch | 50/100 | Train Loss: 0.0089 | Test Loss: 0.0191\n",
      "Epoch | 60/100 | Train Loss: 0.0075 | Test Loss: 0.0195\n",
      "Epoch | 70/100 | Train Loss: 0.0060 | Test Loss: 0.0191\n",
      "Epoch | 80/100 | Train Loss: 0.0047 | Test Loss: 0.0192\n",
      "Epoch | 90/100 | Train Loss: 0.0035 | Test Loss: 0.0196\n",
      "Epoch | 100/100 | Train Loss: 0.0034 | Test Loss: 0.0201\n",
      "Fold 1\n",
      "Epoch | 10/100 | Train Loss: 0.0187 | Test Loss: 0.0252\n",
      "Epoch | 20/100 | Train Loss: 0.0136 | Test Loss: 0.0213\n",
      "Epoch | 30/100 | Train Loss: 0.0111 | Test Loss: 0.0204\n",
      "Epoch | 40/100 | Train Loss: 0.0096 | Test Loss: 0.0203\n",
      "Epoch | 50/100 | Train Loss: 0.0084 | Test Loss: 0.0206\n",
      "Epoch | 60/100 | Train Loss: 0.0073 | Test Loss: 0.0211\n",
      "Epoch | 70/100 | Train Loss: 0.0062 | Test Loss: 0.0217\n",
      "Epoch | 80/100 | Train Loss: 0.0051 | Test Loss: 0.0222\n",
      "Epoch | 90/100 | Train Loss: 0.0040 | Test Loss: 0.0231\n",
      "Epoch | 100/100 | Train Loss: 0.0033 | Test Loss: 0.0240\n",
      "Fold 2\n",
      "Epoch | 10/100 | Train Loss: 0.0151 | Test Loss: 0.0181\n",
      "Epoch | 20/100 | Train Loss: 0.0117 | Test Loss: 0.0171\n",
      "Epoch | 30/100 | Train Loss: 0.0099 | Test Loss: 0.0178\n",
      "Epoch | 40/100 | Train Loss: 0.0082 | Test Loss: 0.0192\n",
      "Epoch | 50/100 | Train Loss: 0.0065 | Test Loss: 0.0206\n",
      "Epoch | 60/100 | Train Loss: 0.0049 | Test Loss: 0.0217\n",
      "Epoch | 70/100 | Train Loss: 0.0038 | Test Loss: 0.0223\n",
      "Epoch | 80/100 | Train Loss: 0.0030 | Test Loss: 0.0232\n",
      "Epoch | 90/100 | Train Loss: 0.0025 | Test Loss: 0.0248\n",
      "Epoch | 100/100 | Train Loss: 0.0020 | Test Loss: 0.0259\n",
      "Fold 3\n",
      "Epoch | 10/100 | Train Loss: 0.0162 | Test Loss: 0.0167\n",
      "Epoch | 20/100 | Train Loss: 0.0122 | Test Loss: 0.0140\n",
      "Epoch | 30/100 | Train Loss: 0.0100 | Test Loss: 0.0136\n",
      "Epoch | 40/100 | Train Loss: 0.0084 | Test Loss: 0.0137\n",
      "Epoch | 50/100 | Train Loss: 0.0070 | Test Loss: 0.0140\n",
      "Epoch | 60/100 | Train Loss: 0.0057 | Test Loss: 0.0146\n",
      "Epoch | 70/100 | Train Loss: 0.0046 | Test Loss: 0.0152\n",
      "Epoch | 80/100 | Train Loss: 0.0036 | Test Loss: 0.0155\n",
      "Epoch | 90/100 | Train Loss: 0.0029 | Test Loss: 0.0157\n",
      "Epoch | 100/100 | Train Loss: 0.0023 | Test Loss: 0.0165\n",
      "Fold 4\n",
      "Epoch | 10/100 | Train Loss: 0.0161 | Test Loss: 0.0249\n",
      "Epoch | 20/100 | Train Loss: 0.0116 | Test Loss: 0.0221\n",
      "Epoch | 30/100 | Train Loss: 0.0094 | Test Loss: 0.0220\n",
      "Epoch | 40/100 | Train Loss: 0.0079 | Test Loss: 0.0223\n",
      "Epoch | 50/100 | Train Loss: 0.0066 | Test Loss: 0.0227\n",
      "Epoch | 60/100 | Train Loss: 0.0057 | Test Loss: 0.0232\n",
      "Epoch | 70/100 | Train Loss: 0.0050 | Test Loss: 0.0236\n",
      "Epoch | 80/100 | Train Loss: 0.0044 | Test Loss: 0.0243\n",
      "Epoch | 90/100 | Train Loss: 0.0038 | Test Loss: 0.0252\n",
      "Epoch | 100/100 | Train Loss: 0.0032 | Test Loss: 0.0256\n"
     ]
    }
   ],
   "source": [
    "mytrainer.train()"
   ]
  },
  {
   "cell_type": "code",
   "execution_count": 9,
   "metadata": {},
   "outputs": [
    {
     "data": {
      "image/png": "[encoded data removed]",
      "text/plain": [
       "<Figure size 2160x432 with 5 Axes>"
      ]
     },
     "metadata": {
      "needs_background": "light"
     },
     "output_type": "display_data"
    }
   ],
   "source": [
    "mytrainer.visualize()"
   ]
  },
  {
   "cell_type": "code",
   "execution_count": 10,
   "metadata": {},
   "outputs": [
    {
     "data": {
      "image/png": "[encoded data removed]",
      "text/plain": [
       "<Figure size 720x432 with 1 Axes>"
      ]
     },
     "metadata": {
      "needs_background": "light"
     },
     "output_type": "display_data"
    }
   ],
   "source": [
    "mytrainer.plot_mean_loss()"
   ]
  },
  {
   "cell_type": "code",
   "execution_count": 11,
   "metadata": {},
   "outputs": [
    {
     "name": "stdout",
     "output_type": "stream",
     "text": [
      "last mean test loss 0.022417409552822582\n"
     ]
    }
   ],
   "source": [
    "print(\"last mean test loss\",mytrainer.mean_test_losses[-1])"
   ]
  },
  {
   "attachments": {},
   "cell_type": "markdown",
   "metadata": {},
   "source": [
    "#### 主要指标看这"
   ]
  },
  {
   "cell_type": "code",
   "execution_count": 12,
   "metadata": {},
   "outputs": [
    {
     "name": "stdout",
     "output_type": "stream",
     "text": [
      "The most possible score is  0.14972444540829857\n"
     ]
    }
   ],
   "source": [
    "print(\"The most possible score is \",np.sqrt(mytrainer.mean_test_losses[-1]))"
   ]
  },
  {
   "cell_type": "code",
   "execution_count": 13,
   "metadata": {},
   "outputs": [
    {
     "name": "stdout",
     "output_type": "stream",
     "text": [
      "preds.shape:  torch.Size([1459])\n",
      "preds[:10]:  tensor([122504.2188, 156827.8750, 184541.2500, 193329.8438, 186983.6250,\n",
      "        170263.1562, 173128.8750, 161649.3750, 180642.0312, 131104.5312])\n"
     ]
    }
   ],
   "source": [
    "preds = mytrainer.predict(test_features)\n",
    "print(\"preds.shape: \", preds.shape)\n",
    "print(\"preds[:10]: \", preds[:10])"
   ]
  },
  {
   "cell_type": "code",
   "execution_count": 14,
   "metadata": {},
   "outputs": [
    {
     "data": {
      "text/plain": [
       "tensor([[-0.8735,  0.4581,  0.1843,  ...,  1.0000,  0.0000,  0.0000],\n",
       "        [-0.8735,  0.5009,  0.5197,  ...,  1.0000,  0.0000,  0.0000],\n",
       "        [ 0.0673,  0.2011,  0.4643,  ...,  1.0000,  0.0000,  0.0000],\n",
       "        [ 0.0673,  0.3724, -0.0241,  ...,  1.0000,  0.0000,  0.0000],\n",
       "        [ 1.4785, -1.1268, -0.6546,  ...,  1.0000,  0.0000,  0.0000]])"
      ]
     },
     "execution_count": 14,
     "metadata": {},
     "output_type": "execute_result"
    }
   ],
   "source": [
    "test_features[:5]"
   ]
  },
  {
   "cell_type": "code",
   "execution_count": 15,
   "metadata": {},
   "outputs": [
    {
     "data": {
      "text/plain": [
       "tensor([[ 0.0673, -0.1844, -0.2178,  ...,  1.0000,  0.0000,  0.0000],\n",
       "        [-0.8735,  0.4581, -0.0720,  ...,  1.0000,  0.0000,  0.0000],\n",
       "        [ 0.0673, -0.0559,  0.1372,  ...,  1.0000,  0.0000,  0.0000],\n",
       "        [ 0.3025, -0.3986, -0.0784,  ...,  0.0000,  0.0000,  0.0000],\n",
       "        [ 0.0673,  0.6294,  0.5188,  ...,  1.0000,  0.0000,  0.0000]])"
      ]
     },
     "execution_count": 15,
     "metadata": {},
     "output_type": "execute_result"
    }
   ],
   "source": [
    "train_features[:5]"
   ]
  },
  {
   "cell_type": "code",
   "execution_count": 16,
   "metadata": {},
   "outputs": [],
   "source": [
    "train_preds = mytrainer.predict(train_features)"
   ]
  },
  {
   "cell_type": "code",
   "execution_count": 17,
   "metadata": {},
   "outputs": [
    {
     "name": "stdout",
     "output_type": "stream",
     "text": [
      "train_preds[:10]: \n",
      " tensor([209950.2500, 189183.4375, 212886.4688, 145653.9062, 281412.0938,\n",
      "        142915.2812, 291051.3438, 208555.7812, 125013.4219, 119046.1719])\n",
      "train_labels[:10]: \n",
      " tensor([[208500.],\n",
      "        [181500.],\n",
      "        [223500.],\n",
      "        [140000.],\n",
      "        [250000.],\n",
      "        [143000.],\n",
      "        [307000.],\n",
      "        [200000.],\n",
      "        [129900.],\n",
      "        [118000.]])\n"
     ]
    }
   ],
   "source": [
    "print(\"train_preds[:10]: \\n\", train_preds[:10])\n",
    "print(\"train_labels[:10]: \\n\", train_labels[:10])"
   ]
  },
  {
   "cell_type": "code",
   "execution_count": 18,
   "metadata": {},
   "outputs": [],
   "source": [
    "# test_data['SalePrice'] = pd.Series(preds.reshape(1, -1)[0])\n",
    "# submission = pd.concat([test_data['Id'], test_data['SalePrice']], axis=1)\n",
    "# submission.to_csv('submission_relu_mlp_hidden400.csv', index=False)"
   ]
  },
  {
   "attachments": {},
   "cell_type": "markdown",
   "metadata": {},
   "source": [
    "用了mlp和relu作为激活函数，结果比用sigmoid或者之前单纯的线性函数要好很多\n",
    "\n",
    "![sub2](submission2.png)"
   ]
  }
 ],
 "metadata": {
  "kernelspec": {
   "display_name": "base",
   "language": "python",
   "name": "python3"
  },
  "language_info": {
   "codemirror_mode": {
    "name": "ipython",
    "version": 3
   },
   "file_extension": ".py",
   "mimetype": "text/x-python",
   "name": "python",
   "nbconvert_exporter": "python",
   "pygments_lexer": "ipython3",
   "version": "3.9.7"
  },
  "orig_nbformat": 4
 },
 "nbformat": 4,
 "nbformat_minor": 2
}
