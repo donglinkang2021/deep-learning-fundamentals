{
 "cells": [
  {
   "attachments": {},
   "cell_type": "markdown",
   "metadata": {},
   "source": [
    "# 多层感知机测试效果"
   ]
  },
  {
   "cell_type": "code",
   "execution_count": 1,
   "metadata": {},
   "outputs": [],
   "source": [
    "%matplotlib inline\n",
    "import numpy as np\n",
    "import pandas as pd\n",
    "import torch\n",
    "from torch import nn\n",
    "from d2l import torch as d2l\n",
    "from Model import *\n",
    "from Trainer import *\n",
    "from torchinfo import summary\n",
    "import os"
   ]
  },
  {
   "attachments": {},
   "cell_type": "markdown",
   "metadata": {},
   "source": [
    "### 加载数据"
   ]
  },
  {
   "cell_type": "code",
   "execution_count": 2,
   "metadata": {},
   "outputs": [],
   "source": [
    "mydir = os.getcwd() + '\\\\data01'\n",
    "\n",
    "# 读取本地文件\n",
    "train_features = torch.load('{}/train_features.pt'.format(mydir))\n",
    "test_features = torch.load('{}/test_features.pt'.format(mydir))\n",
    "train_labels = torch.load('{}/train_labels.pt'.format(mydir))\n",
    "test_data = pd.read_csv('{}/test_data.csv'.format(mydir))"
   ]
  },
  {
   "cell_type": "code",
   "execution_count": 3,
   "metadata": {},
   "outputs": [
    {
     "name": "stdout",
     "output_type": "stream",
     "text": [
      "train_features.shape:  torch.Size([1460, 331])\n",
      "test_features.shape:  torch.Size([1459, 331])\n",
      "train_labels.shape:  torch.Size([1460, 1])\n",
      "test_data.shape:  (1459, 81)\n"
     ]
    }
   ],
   "source": [
    "print(\"train_features.shape: \", train_features.shape)\n",
    "print(\"test_features.shape: \", test_features.shape)\n",
    "print(\"train_labels.shape: \", train_labels.shape)\n",
    "print(\"test_data.shape: \", test_data.shape)"
   ]
  },
  {
   "attachments": {},
   "cell_type": "markdown",
   "metadata": {},
   "source": [
    "### 定义损失函数"
   ]
  },
  {
   "cell_type": "code",
   "execution_count": 4,
   "metadata": {},
   "outputs": [],
   "source": [
    "def squared_loss(preds, labels):  #@save\n",
    "    \"\"\"均方损失。\"\"\"\n",
    "    return (preds - labels.reshape(preds.shape)) ** 2\n",
    "\n",
    "def log_rmse(preds, labels):  #@save\n",
    "    \"\"\"对数均方根误差。\"\"\"\n",
    "    return squared_loss(torch.log(preds+1), torch.log(labels+1)).mean()"
   ]
  },
  {
   "cell_type": "code",
   "execution_count": 5,
   "metadata": {},
   "outputs": [],
   "source": [
    "# 定义超参数\n",
    "learning_rate = 0.01 # 学习率\n",
    "input_size = train_features.shape[-1]\n",
    "hidden_size = 256\n",
    "output_size = 1\n",
    "# model=MLP2_batchnorm(input_size, hidden_size, output_size) 过于简单的模型不需要用batchnorm因为深度还不够\n",
    "model=MLP2(input_size, hidden_size, output_size)\n",
    "loss_fn=log_rmse\n",
    "optimizer = torch.optim.Adam(model.parameters(), lr=0.01) # Adam优化器\n",
    "# optimizer=torch.optim.SGD(model.parameters(), lr=learning_rate) # 随机梯度下降优化器，学习率为0.01"
   ]
  },
  {
   "cell_type": "code",
   "execution_count": 6,
   "metadata": {},
   "outputs": [
    {
     "data": {
      "text/plain": [
       "==========================================================================================\n",
       "Layer (type:depth-idx)                   Output Shape              Param #\n",
       "==========================================================================================\n",
       "MLP2                                     [64, 1]                   --\n",
       "├─Linear: 1-1                            [64, 256]                 84,992\n",
       "├─ReLU: 1-2                              [64, 256]                 --\n",
       "├─Linear: 1-3                            [64, 1]                   257\n",
       "==========================================================================================\n",
       "Total params: 85,249\n",
       "Trainable params: 85,249\n",
       "Non-trainable params: 0\n",
       "Total mult-adds (M): 5.46\n",
       "==========================================================================================\n",
       "Input size (MB): 0.08\n",
       "Forward/backward pass size (MB): 0.13\n",
       "Params size (MB): 0.34\n",
       "Estimated Total Size (MB): 0.56\n",
       "=========================================================================================="
      ]
     },
     "execution_count": 6,
     "metadata": {},
     "output_type": "execute_result"
    }
   ],
   "source": [
    "summary(model, input_size=(64,331))"
   ]
  },
  {
   "cell_type": "code",
   "execution_count": 7,
   "metadata": {},
   "outputs": [],
   "source": [
    "mytrainer = Trainer(\n",
    "    model= model, # 模型\n",
    "    X=train_features, # 特征\n",
    "    y=train_labels, # 标签\n",
    "    num_epochs=200, # 迭代次数\n",
    "    batch_size=16, # 批次大小为16\n",
    "    loss_fn= loss_fn, # 损失函数\n",
    "    optimizer= optimizer, # 优化器\n",
    "    n_splits=5, # 子集个数\n",
    "    is_print=True,\n",
    "    print_every=20\n",
    ")"
   ]
  },
  {
   "cell_type": "code",
   "execution_count": 8,
   "metadata": {},
   "outputs": [
    {
     "name": "stdout",
     "output_type": "stream",
     "text": [
      "Fold 0\n",
      "Epoch | 20/200 | Train Loss: 1.5181 | Test Loss: 1.6142\n",
      "Epoch | 40/200 | Train Loss: 0.2885 | Test Loss: 0.3029\n",
      "Epoch | 60/200 | Train Loss: 0.0813 | Test Loss: 0.0784\n",
      "Epoch | 80/200 | Train Loss: 0.0368 | Test Loss: 0.0320\n",
      "Epoch | 100/200 | Train Loss: 0.0249 | Test Loss: 0.0212\n",
      "Epoch | 120/200 | Train Loss: 0.0202 | Test Loss: 0.0178\n",
      "Epoch | 140/200 | Train Loss: 0.0173 | Test Loss: 0.0162\n",
      "Epoch | 160/200 | Train Loss: 0.0153 | Test Loss: 0.0156\n",
      "Epoch | 180/200 | Train Loss: 0.0140 | Test Loss: 0.0157\n",
      "Epoch | 200/200 | Train Loss: 0.0131 | Test Loss: 0.0162\n",
      "Fold 1\n",
      "Epoch | 20/200 | Train Loss: 0.2278 | Test Loss: 0.2606\n",
      "Epoch | 40/200 | Train Loss: 0.0581 | Test Loss: 0.0693\n",
      "Epoch | 60/200 | Train Loss: 0.0303 | Test Loss: 0.0353\n",
      "Epoch | 80/200 | Train Loss: 0.0227 | Test Loss: 0.0264\n",
      "Epoch | 100/200 | Train Loss: 0.0187 | Test Loss: 0.0225\n",
      "Epoch | 120/200 | Train Loss: 0.0162 | Test Loss: 0.0206\n",
      "Epoch | 140/200 | Train Loss: 0.0145 | Test Loss: 0.0196\n",
      "Epoch | 160/200 | Train Loss: 0.0132 | Test Loss: 0.0191\n",
      "Epoch | 180/200 | Train Loss: 0.0122 | Test Loss: 0.0191\n",
      "Epoch | 200/200 | Train Loss: 0.0114 | Test Loss: 0.0193\n",
      "Fold 2\n",
      "Epoch | 20/200 | Train Loss: 0.2999 | Test Loss: 0.3384\n",
      "Epoch | 40/200 | Train Loss: 0.0707 | Test Loss: 0.0814\n",
      "Epoch | 60/200 | Train Loss: 0.0332 | Test Loss: 0.0394\n",
      "Epoch | 80/200 | Train Loss: 0.0235 | Test Loss: 0.0287\n",
      "Epoch | 100/200 | Train Loss: 0.0193 | Test Loss: 0.0239\n",
      "Epoch | 120/200 | Train Loss: 0.0167 | Test Loss: 0.0211\n",
      "Epoch | 140/200 | Train Loss: 0.0150 | Test Loss: 0.0196\n",
      "Epoch | 160/200 | Train Loss: 0.0137 | Test Loss: 0.0187\n",
      "Epoch | 180/200 | Train Loss: 0.0127 | Test Loss: 0.0182\n",
      "Epoch | 200/200 | Train Loss: 0.0120 | Test Loss: 0.0179\n",
      "Fold 3\n",
      "Epoch | 20/200 | Train Loss: 0.2328 | Test Loss: 0.2108\n",
      "Epoch | 40/200 | Train Loss: 0.0572 | Test Loss: 0.0498\n",
      "Epoch | 60/200 | Train Loss: 0.0302 | Test Loss: 0.0260\n",
      "Epoch | 80/200 | Train Loss: 0.0230 | Test Loss: 0.0200\n",
      "Epoch | 100/200 | Train Loss: 0.0195 | Test Loss: 0.0172\n",
      "Epoch | 120/200 | Train Loss: 0.0172 | Test Loss: 0.0155\n",
      "Epoch | 140/200 | Train Loss: 0.0157 | Test Loss: 0.0143\n",
      "Epoch | 160/200 | Train Loss: 0.0145 | Test Loss: 0.0136\n",
      "Epoch | 180/200 | Train Loss: 0.0136 | Test Loss: 0.0134\n",
      "Epoch | 200/200 | Train Loss: 0.0129 | Test Loss: 0.0134\n",
      "Fold 4\n",
      "Epoch | 20/200 | Train Loss: 0.3013 | Test Loss: 0.3225\n",
      "Epoch | 40/200 | Train Loss: 0.0714 | Test Loss: 0.0754\n",
      "Epoch | 60/200 | Train Loss: 0.0328 | Test Loss: 0.0384\n",
      "Epoch | 80/200 | Train Loss: 0.0227 | Test Loss: 0.0301\n",
      "Epoch | 100/200 | Train Loss: 0.0184 | Test Loss: 0.0269\n",
      "Epoch | 120/200 | Train Loss: 0.0157 | Test Loss: 0.0249\n",
      "Epoch | 140/200 | Train Loss: 0.0138 | Test Loss: 0.0237\n",
      "Epoch | 160/200 | Train Loss: 0.0124 | Test Loss: 0.0231\n",
      "Epoch | 180/200 | Train Loss: 0.0115 | Test Loss: 0.0228\n",
      "Epoch | 200/200 | Train Loss: 0.0107 | Test Loss: 0.0227\n"
     ]
    }
   ],
   "source": [
    "mytrainer.train()"
   ]
  },
  {
   "cell_type": "code",
   "execution_count": 9,
   "metadata": {},
   "outputs": [
    {
     "data": {
      "image/png": "[encoded data removed]",
      "text/plain": [
       "<Figure size 2160x432 with 5 Axes>"
      ]
     },
     "metadata": {
      "needs_background": "light"
     },
     "output_type": "display_data"
    }
   ],
   "source": [
    "mytrainer.visualize()"
   ]
  },
  {
   "cell_type": "code",
   "execution_count": 10,
   "metadata": {},
   "outputs": [
    {
     "data": {
      "image/png": "[encoded data removed]",
      "text/plain": [
       "<Figure size 720x432 with 1 Axes>"
      ]
     },
     "metadata": {
      "needs_background": "light"
     },
     "output_type": "display_data"
    }
   ],
   "source": [
    "mytrainer.plot_mean_loss()"
   ]
  },
  {
   "cell_type": "code",
   "execution_count": 11,
   "metadata": {},
   "outputs": [
    {
     "name": "stdout",
     "output_type": "stream",
     "text": [
      "last mean test loss 0.017883501018155112\n"
     ]
    }
   ],
   "source": [
    "print(\"last mean test loss\",mytrainer.mean_test_losses[-1])"
   ]
  },
  {
   "attachments": {},
   "cell_type": "markdown",
   "metadata": {},
   "source": [
    "#### 主要指标看这"
   ]
  },
  {
   "cell_type": "code",
   "execution_count": 12,
   "metadata": {},
   "outputs": [
    {
     "name": "stdout",
     "output_type": "stream",
     "text": [
      "The most possible score is  0.13372920779753059\n"
     ]
    }
   ],
   "source": [
    "print(\"The most possible score is \",np.sqrt(mytrainer.mean_test_losses[-1]))"
   ]
  },
  {
   "cell_type": "code",
   "execution_count": 13,
   "metadata": {},
   "outputs": [
    {
     "name": "stdout",
     "output_type": "stream",
     "text": [
      "preds.shape:  torch.Size([1459])\n",
      "preds[:10]:  tensor([123489.4922, 164922.0781, 180488.8125, 194454.2188, 189130.1562,\n",
      "        168005.7500, 176299.9375, 159038.6562, 187212.7969, 120343.5391])\n"
     ]
    }
   ],
   "source": [
    "preds = mytrainer.predict(test_features)\n",
    "print(\"preds.shape: \", preds.shape)\n",
    "print(\"preds[:10]: \", preds[:10])"
   ]
  },
  {
   "cell_type": "code",
   "execution_count": 14,
   "metadata": {},
   "outputs": [
    {
     "data": {
      "text/plain": [
       "tensor([[-0.8735,  0.4581,  0.1843,  ...,  1.0000,  0.0000,  0.0000],\n",
       "        [-0.8735,  0.5009,  0.5197,  ...,  1.0000,  0.0000,  0.0000],\n",
       "        [ 0.0673,  0.2011,  0.4643,  ...,  1.0000,  0.0000,  0.0000],\n",
       "        [ 0.0673,  0.3724, -0.0241,  ...,  1.0000,  0.0000,  0.0000],\n",
       "        [ 1.4785, -1.1268, -0.6546,  ...,  1.0000,  0.0000,  0.0000]])"
      ]
     },
     "execution_count": 14,
     "metadata": {},
     "output_type": "execute_result"
    }
   ],
   "source": [
    "test_features[:5]"
   ]
  },
  {
   "cell_type": "code",
   "execution_count": 15,
   "metadata": {},
   "outputs": [
    {
     "data": {
      "text/plain": [
       "tensor([[ 0.0673, -0.1844, -0.2178,  ...,  1.0000,  0.0000,  0.0000],\n",
       "        [-0.8735,  0.4581, -0.0720,  ...,  1.0000,  0.0000,  0.0000],\n",
       "        [ 0.0673, -0.0559,  0.1372,  ...,  1.0000,  0.0000,  0.0000],\n",
       "        [ 0.3025, -0.3986, -0.0784,  ...,  0.0000,  0.0000,  0.0000],\n",
       "        [ 0.0673,  0.6294,  0.5188,  ...,  1.0000,  0.0000,  0.0000]])"
      ]
     },
     "execution_count": 15,
     "metadata": {},
     "output_type": "execute_result"
    }
   ],
   "source": [
    "train_features[:5]"
   ]
  },
  {
   "cell_type": "code",
   "execution_count": 16,
   "metadata": {},
   "outputs": [],
   "source": [
    "train_preds = mytrainer.predict(train_features)"
   ]
  },
  {
   "cell_type": "code",
   "execution_count": 17,
   "metadata": {},
   "outputs": [
    {
     "name": "stdout",
     "output_type": "stream",
     "text": [
      "train_preds[:10]: \n",
      " tensor([206548.0938, 193949.4219, 209760.9844, 169365.4688, 273851.8125,\n",
      "        150645.2188, 276531.2812, 219338.6719, 134081.8750, 119344.9766])\n",
      "train_labels[:10]: \n",
      " tensor([[208500.],\n",
      "        [181500.],\n",
      "        [223500.],\n",
      "        [140000.],\n",
      "        [250000.],\n",
      "        [143000.],\n",
      "        [307000.],\n",
      "        [200000.],\n",
      "        [129900.],\n",
      "        [118000.]])\n"
     ]
    }
   ],
   "source": [
    "print(\"train_preds[:10]: \\n\", train_preds[:10])\n",
    "print(\"train_labels[:10]: \\n\", train_labels[:10])"
   ]
  },
  {
   "cell_type": "code",
   "execution_count": 18,
   "metadata": {},
   "outputs": [],
   "source": [
    "# test_data['SalePrice'] = pd.Series(preds.reshape(1, -1)[0])\n",
    "# submission = pd.concat([test_data['Id'], test_data['SalePrice']], axis=1)\n",
    "# submission.to_csv('submission_relu_mlp_hidden400.csv', index=False)"
   ]
  },
  {
   "attachments": {},
   "cell_type": "markdown",
   "metadata": {},
   "source": [
    "用了mlp和relu作为激活函数，结果比用sigmoid或者之前单纯的线性函数要好很多\n",
    "\n",
    "![sub2](submission2.png)"
   ]
  }
 ],
 "metadata": {
  "kernelspec": {
   "display_name": "base",
   "language": "python",
   "name": "python3"
  },
  "language_info": {
   "codemirror_mode": {
    "name": "ipython",
    "version": 3
   },
   "file_extension": ".py",
   "mimetype": "text/x-python",
   "name": "python",
   "nbconvert_exporter": "python",
   "pygments_lexer": "ipython3",
   "version": "3.9.7"
  },
  "orig_nbformat": 4
 },
 "nbformat": 4,
 "nbformat_minor": 2
}
