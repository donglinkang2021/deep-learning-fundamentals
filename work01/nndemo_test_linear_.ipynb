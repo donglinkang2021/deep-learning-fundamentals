{
 "cells": [
  {
   "attachments": {},
   "cell_type": "markdown",
   "metadata": {},
   "source": [
    "# 这里用线性回归模型看一下结果\n",
    "\n",
    "简单测试，虽然老师不让用nn，这里先用nn试一下，方便我们调出最好的结果，然后再从底层去实现去看一下效果"
   ]
  },
  {
   "cell_type": "code",
   "execution_count": 1,
   "metadata": {},
   "outputs": [],
   "source": [
    "%matplotlib inline\n",
    "import numpy as np\n",
    "import pandas as pd\n",
    "import torch\n",
    "from torch import nn\n",
    "from d2l import torch as d2l\n",
    "from Model import *\n",
    "from Trainer import *\n",
    "from torchinfo import summary\n",
    "import os"
   ]
  },
  {
   "attachments": {},
   "cell_type": "markdown",
   "metadata": {},
   "source": [
    "### 加载数据"
   ]
  },
  {
   "cell_type": "code",
   "execution_count": 2,
   "metadata": {},
   "outputs": [],
   "source": [
    "mydir = os.getcwd() + '\\\\data01'\n",
    "\n",
    "# 读取本地文件\n",
    "train_features = torch.load('{}/train_features.pt'.format(mydir))\n",
    "test_features = torch.load('{}/test_features.pt'.format(mydir))\n",
    "train_labels = torch.load('{}/train_labels.pt'.format(mydir))\n",
    "test_data = pd.read_csv('{}/test_data.csv'.format(mydir))"
   ]
  },
  {
   "cell_type": "code",
   "execution_count": 3,
   "metadata": {},
   "outputs": [
    {
     "name": "stdout",
     "output_type": "stream",
     "text": [
      "train_features.shape:  torch.Size([1460, 331])\n",
      "test_features.shape:  torch.Size([1459, 331])\n",
      "train_labels.shape:  torch.Size([1460, 1])\n",
      "test_data.shape:  (1459, 81)\n"
     ]
    }
   ],
   "source": [
    "print(\"train_features.shape: \", train_features.shape)\n",
    "print(\"test_features.shape: \", test_features.shape)\n",
    "print(\"train_labels.shape: \", train_labels.shape)\n",
    "print(\"test_data.shape: \", test_data.shape)"
   ]
  },
  {
   "attachments": {},
   "cell_type": "markdown",
   "metadata": {},
   "source": [
    "### 定义损失函数"
   ]
  },
  {
   "cell_type": "code",
   "execution_count": 4,
   "metadata": {},
   "outputs": [],
   "source": [
    "def squared_loss(preds, labels):  #@save\n",
    "    \"\"\"均方损失。\"\"\"\n",
    "    return (preds - labels.reshape(preds.shape)) ** 2\n",
    "\n",
    "def log_rmse(preds, labels):  #@save\n",
    "    \"\"\"对数均方根误差。\"\"\"\n",
    "    return squared_loss(torch.log(preds+1), torch.log(labels+1)).mean()"
   ]
  },
  {
   "cell_type": "code",
   "execution_count": 5,
   "metadata": {},
   "outputs": [],
   "source": [
    "# 定义超参数\n",
    "learning_rate = 0.01 # 学习率\n",
    "model=LinearNet(train_features.shape[-1],1) # 线性回归模型\n",
    "loss_fn=log_rmse\n",
    "optimizer = torch.optim.Adam(model.parameters(), lr=0.01) # Adam优化器\n",
    "# optimizer=torch.optim.SGD(model.parameters(), lr=learning_rate) # 随机梯度下降优化器，学习率为0.01"
   ]
  },
  {
   "cell_type": "code",
   "execution_count": 6,
   "metadata": {},
   "outputs": [
    {
     "data": {
      "text/plain": [
       "==========================================================================================\n",
       "Layer (type:depth-idx)                   Output Shape              Param #\n",
       "==========================================================================================\n",
       "LinearNet                                [64, 1]                   --\n",
       "├─Linear: 1-1                            [64, 1]                   332\n",
       "==========================================================================================\n",
       "Total params: 332\n",
       "Trainable params: 332\n",
       "Non-trainable params: 0\n",
       "Total mult-adds (M): 0.02\n",
       "==========================================================================================\n",
       "Input size (MB): 0.08\n",
       "Forward/backward pass size (MB): 0.00\n",
       "Params size (MB): 0.00\n",
       "Estimated Total Size (MB): 0.09\n",
       "=========================================================================================="
      ]
     },
     "execution_count": 6,
     "metadata": {},
     "output_type": "execute_result"
    }
   ],
   "source": [
    "summary(model, input_size=(64,331))"
   ]
  },
  {
   "cell_type": "code",
   "execution_count": 7,
   "metadata": {},
   "outputs": [],
   "source": [
    "mytrainer = Trainer(\n",
    "    model= model, # 模型\n",
    "    X=train_features, # 特征\n",
    "    y=train_labels, # 标签\n",
    "    num_epochs=600, # 迭代次数\n",
    "    batch_size=16, # 批次大小为16\n",
    "    loss_fn= loss_fn, # 损失函数\n",
    "    optimizer= optimizer, # 优化器\n",
    "    n_splits=5, # 子集个数\n",
    "    is_print=True,\n",
    "    print_every=50\n",
    ")"
   ]
  },
  {
   "cell_type": "code",
   "execution_count": 8,
   "metadata": {},
   "outputs": [
    {
     "name": "stdout",
     "output_type": "stream",
     "text": [
      "Fold 0\n",
      "Epoch | 50/600 | Train Loss: 42.2092 | Test Loss: 42.5595\n",
      "Epoch | 100/600 | Train Loss: 31.1001 | Test Loss: 31.3659\n",
      "Epoch | 150/600 | Train Loss: 23.3725 | Test Loss: 23.5828\n",
      "Epoch | 200/600 | Train Loss: 18.1764 | Test Loss: 18.3433\n",
      "Epoch | 250/600 | Train Loss: 14.8122 | Test Loss: 14.9506\n",
      "Epoch | 300/600 | Train Loss: 12.5233 | Test Loss: 12.6431\n",
      "Epoch | 350/600 | Train Loss: 10.8612 | Test Loss: 10.9680\n",
      "Epoch | 400/600 | Train Loss: 9.5901 | Test Loss: 9.6872\n",
      "Epoch | 450/600 | Train Loss: 8.5802 | Test Loss: 8.6696\n",
      "Epoch | 500/600 | Train Loss: 7.7542 | Test Loss: 7.8373\n",
      "Epoch | 550/600 | Train Loss: 7.0635 | Test Loss: 7.1412\n",
      "Epoch | 600/600 | Train Loss: 6.4755 | Test Loss: 6.5487\n",
      "Fold 1\n",
      "Epoch | 50/600 | Train Loss: 39.5212 | Test Loss: 39.7638\n",
      "Epoch | 100/600 | Train Loss: 29.4201 | Test Loss: 29.6158\n",
      "Epoch | 150/600 | Train Loss: 22.2544 | Test Loss: 22.4148\n",
      "Epoch | 200/600 | Train Loss: 17.4640 | Test Loss: 17.5948\n",
      "Epoch | 250/600 | Train Loss: 14.3399 | Test Loss: 14.4515\n",
      "Epoch | 300/600 | Train Loss: 12.1878 | Test Loss: 12.2871\n",
      "Epoch | 350/600 | Train Loss: 10.6085 | Test Loss: 10.6992\n",
      "Epoch | 400/600 | Train Loss: 9.3916 | Test Loss: 9.4758\n",
      "Epoch | 450/600 | Train Loss: 8.4190 | Test Loss: 8.4982\n",
      "Epoch | 500/600 | Train Loss: 7.6201 | Test Loss: 7.6951\n",
      "Epoch | 550/600 | Train Loss: 6.9496 | Test Loss: 7.0211\n",
      "Epoch | 600/600 | Train Loss: 6.3772 | Test Loss: 6.4458\n",
      "Fold 2\n",
      "Epoch | 50/600 | Train Loss: 39.4967 | Test Loss: 39.8526\n",
      "Epoch | 100/600 | Train Loss: 29.3985 | Test Loss: 29.6911\n",
      "Epoch | 150/600 | Train Loss: 22.2347 | Test Loss: 22.4804\n",
      "Epoch | 200/600 | Train Loss: 17.4457 | Test Loss: 17.6532\n",
      "Epoch | 250/600 | Train Loss: 14.3229 | Test Loss: 14.5041\n",
      "Epoch | 300/600 | Train Loss: 12.1718 | Test Loss: 12.3351\n",
      "Epoch | 350/600 | Train Loss: 10.5935 | Test Loss: 10.7436\n",
      "Epoch | 400/600 | Train Loss: 9.3774 | Test Loss: 9.5171\n",
      "Epoch | 450/600 | Train Loss: 8.4056 | Test Loss: 8.5369\n",
      "Epoch | 500/600 | Train Loss: 7.6073 | Test Loss: 7.7315\n",
      "Epoch | 550/600 | Train Loss: 6.9374 | Test Loss: 7.0556\n",
      "Epoch | 600/600 | Train Loss: 6.3657 | Test Loss: 6.4785\n",
      "Fold 3\n",
      "Epoch | 50/600 | Train Loss: 39.6330 | Test Loss: 39.2760\n",
      "Epoch | 100/600 | Train Loss: 29.5177 | Test Loss: 29.1805\n",
      "Epoch | 150/600 | Train Loss: 22.3395 | Test Loss: 22.0230\n",
      "Epoch | 200/600 | Train Loss: 17.5386 | Test Loss: 17.2401\n",
      "Epoch | 250/600 | Train Loss: 14.4071 | Test Loss: 14.1260\n",
      "Epoch | 300/600 | Train Loss: 12.2493 | Test Loss: 11.9843\n",
      "Epoch | 350/600 | Train Loss: 10.6658 | Test Loss: 10.4150\n",
      "Epoch | 400/600 | Train Loss: 9.4452 | Test Loss: 9.2071\n",
      "Epoch | 450/600 | Train Loss: 8.4696 | Test Loss: 8.2427\n",
      "Epoch | 500/600 | Train Loss: 7.6680 | Test Loss: 7.4512\n",
      "Epoch | 550/600 | Train Loss: 6.9952 | Test Loss: 6.7875\n",
      "Epoch | 600/600 | Train Loss: 6.4209 | Test Loss: 6.2214\n",
      "Fold 4\n",
      "Epoch | 50/600 | Train Loss: 39.5123 | Test Loss: 39.8171\n",
      "Epoch | 100/600 | Train Loss: 29.4139 | Test Loss: 29.6465\n",
      "Epoch | 150/600 | Train Loss: 22.2489 | Test Loss: 22.4282\n",
      "Epoch | 200/600 | Train Loss: 17.4584 | Test Loss: 17.5973\n",
      "Epoch | 250/600 | Train Loss: 14.3345 | Test Loss: 14.4479\n",
      "Epoch | 300/600 | Train Loss: 12.1827 | Test Loss: 12.2799\n",
      "Epoch | 350/600 | Train Loss: 10.6039 | Test Loss: 10.6898\n",
      "Epoch | 400/600 | Train Loss: 9.3874 | Test Loss: 9.4649\n",
      "Epoch | 450/600 | Train Loss: 8.4152 | Test Loss: 8.4862\n",
      "Epoch | 500/600 | Train Loss: 7.6166 | Test Loss: 7.6823\n",
      "Epoch | 550/600 | Train Loss: 6.9464 | Test Loss: 7.0077\n",
      "Epoch | 600/600 | Train Loss: 6.3744 | Test Loss: 6.4319\n"
     ]
    }
   ],
   "source": [
    "mytrainer.train()"
   ]
  },
  {
   "cell_type": "code",
   "execution_count": 9,
   "metadata": {},
   "outputs": [
    {
     "data": {
      "image/png": "[encoded data removed]",
      "text/plain": [
       "<Figure size 2160x432 with 5 Axes>"
      ]
     },
     "metadata": {
      "needs_background": "light"
     },
     "output_type": "display_data"
    }
   ],
   "source": [
    "mytrainer.visualize()"
   ]
  },
  {
   "cell_type": "code",
   "execution_count": 10,
   "metadata": {},
   "outputs": [
    {
     "data": {
      "image/png": "[encoded data removed]",
      "text/plain": [
       "<Figure size 720x432 with 1 Axes>"
      ]
     },
     "metadata": {
      "needs_background": "light"
     },
     "output_type": "display_data"
    }
   ],
   "source": [
    "mytrainer.plot_mean_loss()"
   ]
  },
  {
   "cell_type": "code",
   "execution_count": 11,
   "metadata": {},
   "outputs": [
    {
     "name": "stdout",
     "output_type": "stream",
     "text": [
      "preds.shape:  torch.Size([1459])\n",
      "preds[:10]:  tensor([13215.7490, 13103.7441, 14262.3154, 14516.9150, 13648.9014, 14228.2178,\n",
      "        13852.1885, 14251.3662, 14116.1494, 13367.2607])\n"
     ]
    }
   ],
   "source": [
    "preds = mytrainer.predict(test_features)\n",
    "print(\"preds.shape: \", preds.shape)\n",
    "print(\"preds[:10]: \", preds[:10])"
   ]
  },
  {
   "cell_type": "code",
   "execution_count": 12,
   "metadata": {},
   "outputs": [
    {
     "data": {
      "text/plain": [
       "tensor([[-0.8735,  0.4581,  0.1843,  ...,  1.0000,  0.0000,  0.0000],\n",
       "        [-0.8735,  0.5009,  0.5197,  ...,  1.0000,  0.0000,  0.0000],\n",
       "        [ 0.0673,  0.2011,  0.4643,  ...,  1.0000,  0.0000,  0.0000],\n",
       "        [ 0.0673,  0.3724, -0.0241,  ...,  1.0000,  0.0000,  0.0000],\n",
       "        [ 1.4785, -1.1268, -0.6546,  ...,  1.0000,  0.0000,  0.0000]])"
      ]
     },
     "execution_count": 12,
     "metadata": {},
     "output_type": "execute_result"
    }
   ],
   "source": [
    "test_features[:5]"
   ]
  },
  {
   "cell_type": "code",
   "execution_count": 13,
   "metadata": {},
   "outputs": [
    {
     "data": {
      "text/plain": [
       "tensor([[ 0.0673, -0.1844, -0.2178,  ...,  1.0000,  0.0000,  0.0000],\n",
       "        [-0.8735,  0.4581, -0.0720,  ...,  1.0000,  0.0000,  0.0000],\n",
       "        [ 0.0673, -0.0559,  0.1372,  ...,  1.0000,  0.0000,  0.0000],\n",
       "        [ 0.3025, -0.3986, -0.0784,  ...,  0.0000,  0.0000,  0.0000],\n",
       "        [ 0.0673,  0.6294,  0.5188,  ...,  1.0000,  0.0000,  0.0000]])"
      ]
     },
     "execution_count": 13,
     "metadata": {},
     "output_type": "execute_result"
    }
   ],
   "source": [
    "train_features[:5]"
   ]
  },
  {
   "cell_type": "code",
   "execution_count": 14,
   "metadata": {},
   "outputs": [],
   "source": [
    "train_preds = mytrainer.predict(train_features)"
   ]
  },
  {
   "cell_type": "code",
   "execution_count": 15,
   "metadata": {},
   "outputs": [
    {
     "name": "stdout",
     "output_type": "stream",
     "text": [
      "train_preds[:10]: \n",
      " tensor([14422.9658, 13704.9502, 14438.9971, 13352.2734, 14925.5674, 13955.7070,\n",
      "        14707.9717, 13749.0742, 12798.0488, 12107.6123])\n",
      "train_labels[:10]: \n",
      " tensor([[208500.],\n",
      "        [181500.],\n",
      "        [223500.],\n",
      "        [140000.],\n",
      "        [250000.],\n",
      "        [143000.],\n",
      "        [307000.],\n",
      "        [200000.],\n",
      "        [129900.],\n",
      "        [118000.]])\n"
     ]
    }
   ],
   "source": [
    "print(\"train_preds[:10]: \\n\", train_preds[:10])\n",
    "print(\"train_labels[:10]: \\n\", train_labels[:10])"
   ]
  },
  {
   "cell_type": "code",
   "execution_count": 16,
   "metadata": {},
   "outputs": [],
   "source": [
    "test_data['SalePrice'] = pd.Series(preds.reshape(1, -1)[0])\n",
    "submission = pd.concat([test_data['Id'], test_data['SalePrice']], axis=1)\n",
    "submission.to_csv('submission1.csv', index=False)"
   ]
  },
  {
   "attachments": {},
   "cell_type": "markdown",
   "metadata": {},
   "source": [
    "在colab上也训练了一份，结果不太理想；\n",
    "\n",
    "![submission](submission1.png)"
   ]
  }
 ],
 "metadata": {
  "kernelspec": {
   "display_name": "base",
   "language": "python",
   "name": "python3"
  },
  "language_info": {
   "codemirror_mode": {
    "name": "ipython",
    "version": 3
   },
   "file_extension": ".py",
   "mimetype": "text/x-python",
   "name": "python",
   "nbconvert_exporter": "python",
   "pygments_lexer": "ipython3",
   "version": "3.9.7"
  },
  "orig_nbformat": 4
 },
 "nbformat": 4,
 "nbformat_minor": 2
}
