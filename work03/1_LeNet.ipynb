{
 "cells": [
  {
   "attachments": {},
   "cell_type": "markdown",
   "metadata": {},
   "source": [
    "# LeNet\n",
    "\n",
    "在这里，我们将实现LeNet来识别老师布置的任务CIFAR10。\n",
    "\n",
    "在开始敲代码之前，明确接下来的几点：\n",
    "\n",
    "- 我们会使用之前老师之前布置第一次作业中的kfold技术来训练我们的网络，从而得到一个评分\n",
    "- 由于不知道在cpu上训练的效果（时间长短），先在本地的cpu上训练着，后面再在colab上训练\n",
    "- 可以考虑使用pytorch的数据增强技术，但这里先不考虑，先在原数据上先训练看看效果"
   ]
  },
  {
   "cell_type": "code",
   "execution_count": 1,
   "metadata": {},
   "outputs": [],
   "source": [
    "import torch\n",
    "import torch.nn as nn\n",
    "import numpy as np\n",
    "from trainer import Trainer"
   ]
  },
  {
   "attachments": {},
   "cell_type": "markdown",
   "metadata": {},
   "source": [
    "## 数据加载"
   ]
  },
  {
   "cell_type": "code",
   "execution_count": 2,
   "metadata": {},
   "outputs": [],
   "source": [
    "train_labels = torch.load('../data/train_labels.pt')\n",
    "train_data = torch.load('../data/train_data.pt')"
   ]
  },
  {
   "attachments": {},
   "cell_type": "markdown",
   "metadata": {},
   "source": [
    "## 模型加载"
   ]
  },
  {
   "cell_type": "code",
   "execution_count": 3,
   "metadata": {},
   "outputs": [],
   "source": [
    "from torchinfo import summary\n",
    "from models import LeNet\n",
    "model = LeNet()"
   ]
  },
  {
   "cell_type": "code",
   "execution_count": 4,
   "metadata": {},
   "outputs": [
    {
     "data": {
      "text/plain": [
       "LeNet(\n",
       "  (features): Sequential(\n",
       "    (0): Conv2d(3, 6, kernel_size=(5, 5), stride=(1, 1), padding=(2, 2))\n",
       "    (1): ReLU(inplace=True)\n",
       "    (2): MaxPool2d(kernel_size=2, stride=2, padding=0, dilation=1, ceil_mode=False)\n",
       "    (3): Conv2d(6, 16, kernel_size=(5, 5), stride=(1, 1))\n",
       "    (4): ReLU(inplace=True)\n",
       "    (5): MaxPool2d(kernel_size=2, stride=2, padding=0, dilation=1, ceil_mode=False)\n",
       "  )\n",
       "  (classifier): Sequential(\n",
       "    (0): Linear(in_features=576, out_features=120, bias=True)\n",
       "    (1): ReLU(inplace=True)\n",
       "    (2): Linear(in_features=120, out_features=84, bias=True)\n",
       "    (3): ReLU(inplace=True)\n",
       "    (4): Linear(in_features=84, out_features=10, bias=True)\n",
       "  )\n",
       ")"
      ]
     },
     "execution_count": 4,
     "metadata": {},
     "output_type": "execute_result"
    }
   ],
   "source": [
    "model"
   ]
  },
  {
   "cell_type": "code",
   "execution_count": 5,
   "metadata": {},
   "outputs": [
    {
     "data": {
      "text/plain": [
       "==========================================================================================\n",
       "Layer (type:depth-idx)                   Output Shape              Param #\n",
       "==========================================================================================\n",
       "LeNet                                    [10, 10]                  --\n",
       "├─Sequential: 1-1                        [10, 16, 6, 6]            --\n",
       "│    └─Conv2d: 2-1                       [10, 6, 32, 32]           456\n",
       "│    └─ReLU: 2-2                         [10, 6, 32, 32]           --\n",
       "│    └─MaxPool2d: 2-3                    [10, 6, 16, 16]           --\n",
       "│    └─Conv2d: 2-4                       [10, 16, 12, 12]          2,416\n",
       "│    └─ReLU: 2-5                         [10, 16, 12, 12]          --\n",
       "│    └─MaxPool2d: 2-6                    [10, 16, 6, 6]            --\n",
       "├─Sequential: 1-2                        [10, 10]                  --\n",
       "│    └─Linear: 2-7                       [10, 120]                 69,240\n",
       "│    └─ReLU: 2-8                         [10, 120]                 --\n",
       "│    └─Linear: 2-9                       [10, 84]                  10,164\n",
       "│    └─ReLU: 2-10                        [10, 84]                  --\n",
       "│    └─Linear: 2-11                      [10, 10]                  850\n",
       "==========================================================================================\n",
       "Total params: 83,126\n",
       "Trainable params: 83,126\n",
       "Non-trainable params: 0\n",
       "Total mult-adds (M): 8.95\n",
       "==========================================================================================\n",
       "Input size (MB): 0.12\n",
       "Forward/backward pass size (MB): 0.69\n",
       "Params size (MB): 0.33\n",
       "Estimated Total Size (MB): 1.15\n",
       "=========================================================================================="
      ]
     },
     "execution_count": 5,
     "metadata": {},
     "output_type": "execute_result"
    }
   ],
   "source": [
    "summary(model, input_size=(10,3, 32, 32))"
   ]
  },
  {
   "cell_type": "code",
   "execution_count": 6,
   "metadata": {},
   "outputs": [
    {
     "data": {
      "text/plain": [
       "LeNet(\n",
       "  (features): Sequential(\n",
       "    (0): Conv2d(3, 6, kernel_size=(5, 5), stride=(1, 1), padding=(2, 2))\n",
       "    (1): ReLU(inplace=True)\n",
       "    (2): MaxPool2d(kernel_size=2, stride=2, padding=0, dilation=1, ceil_mode=False)\n",
       "    (3): Conv2d(6, 16, kernel_size=(5, 5), stride=(1, 1))\n",
       "    (4): ReLU(inplace=True)\n",
       "    (5): MaxPool2d(kernel_size=2, stride=2, padding=0, dilation=1, ceil_mode=False)\n",
       "  )\n",
       "  (classifier): Sequential(\n",
       "    (0): Linear(in_features=576, out_features=120, bias=True)\n",
       "    (1): ReLU(inplace=True)\n",
       "    (2): Linear(in_features=120, out_features=84, bias=True)\n",
       "    (3): ReLU(inplace=True)\n",
       "    (4): Linear(in_features=84, out_features=10, bias=True)\n",
       "  )\n",
       ")"
      ]
     },
     "execution_count": 6,
     "metadata": {},
     "output_type": "execute_result"
    }
   ],
   "source": [
    "device = torch.device(\"cuda:0\" if torch.cuda.is_available() else \"cpu\")\n",
    "\n",
    "model.to(device)"
   ]
  },
  {
   "attachments": {},
   "cell_type": "markdown",
   "metadata": {},
   "source": [
    "## 训练参数"
   ]
  },
  {
   "cell_type": "code",
   "execution_count": 7,
   "metadata": {},
   "outputs": [],
   "source": [
    "loss_fn = nn.CrossEntropyLoss()\n",
    "optimizer = torch.optim.Adam(model.parameters(), lr=1e-3)\n",
    "\n",
    "trainer = Trainer(\n",
    "    model, \n",
    "    train_data, \n",
    "    train_labels, \n",
    "    num_epochs=10, \n",
    "    batch_size=10, \n",
    "    loss_fn=loss_fn, \n",
    "    optimizer=optimizer, \n",
    "    n_splits=3, \n",
    "    is_print=True, \n",
    "    print_every=1\n",
    ")"
   ]
  },
  {
   "cell_type": "code",
   "execution_count": 8,
   "metadata": {},
   "outputs": [
    {
     "name": "stdout",
     "output_type": "stream",
     "text": [
      "Fold 0\n",
      "Epoch |  1/10 | Train Loss: 1.8215 | Test Loss: 4.3313\n",
      "Epoch |  2/10 | Train Loss: 1.6022 | Test Loss: 1.5902\n",
      "Epoch |  3/10 | Train Loss: 1.4860 | Test Loss: 1.5751\n",
      "Epoch |  4/10 | Train Loss: 1.4034 | Test Loss: 1.5115\n",
      "Epoch |  5/10 | Train Loss: 1.3449 | Test Loss: 1.4877\n",
      "Epoch |  6/10 | Train Loss: 1.2868 | Test Loss: 1.5098\n",
      "Epoch |  7/10 | Train Loss: 1.2280 | Test Loss: 1.4580\n",
      "Epoch |  8/10 | Train Loss: 1.1922 | Test Loss: 1.6189\n",
      "Epoch |  9/10 | Train Loss: 1.1471 | Test Loss: 1.5475\n",
      "Epoch | 10/10 | Train Loss: 1.1153 | Test Loss: 1.5379\n",
      "Fold 1\n",
      "Epoch |  1/10 | Train Loss: 2.0773 | Test Loss: 4.2828\n",
      "Epoch |  2/10 | Train Loss: 1.6093 | Test Loss: 1.7279\n",
      "Epoch |  3/10 | Train Loss: 1.4880 | Test Loss: 1.4940\n",
      "Epoch |  4/10 | Train Loss: 1.4068 | Test Loss: 1.4854\n",
      "Epoch |  5/10 | Train Loss: 1.3495 | Test Loss: 1.5576\n",
      "Epoch |  6/10 | Train Loss: 1.2965 | Test Loss: 1.5049\n",
      "Epoch |  7/10 | Train Loss: 1.2539 | Test Loss: 1.4389\n",
      "Epoch |  8/10 | Train Loss: 1.2003 | Test Loss: 1.5146\n",
      "Epoch |  9/10 | Train Loss: 1.1677 | Test Loss: 1.5497\n",
      "Epoch | 10/10 | Train Loss: 1.1231 | Test Loss: 1.5607\n",
      "Fold 2\n",
      "Epoch |  1/10 | Train Loss: 2.2973 | Test Loss: 4.2685\n",
      "Epoch |  2/10 | Train Loss: 1.7818 | Test Loss: 2.1390\n",
      "Epoch |  3/10 | Train Loss: 1.5264 | Test Loss: 1.5868\n",
      "Epoch |  4/10 | Train Loss: 1.4162 | Test Loss: 1.4920\n",
      "Epoch |  5/10 | Train Loss: 1.3241 | Test Loss: 1.4969\n",
      "Epoch |  6/10 | Train Loss: 1.2699 | Test Loss: 1.5840\n",
      "Epoch |  7/10 | Train Loss: 1.2240 | Test Loss: 1.5535\n",
      "Epoch |  8/10 | Train Loss: 1.1776 | Test Loss: 1.5001\n",
      "Epoch |  9/10 | Train Loss: 1.1421 | Test Loss: 1.7209\n",
      "Epoch | 10/10 | Train Loss: 1.0963 | Test Loss: 1.5493\n"
     ]
    }
   ],
   "source": [
    "trainer.train_kfold()"
   ]
  },
  {
   "cell_type": "code",
   "execution_count": 9,
   "metadata": {},
   "outputs": [
    {
     "data": {
      "image/png": "[encoded data removed]",
      "text/plain": [
       "<Figure size 2160x432 with 3 Axes>"
      ]
     },
     "metadata": {
      "needs_background": "light"
     },
     "output_type": "display_data"
    }
   ],
   "source": [
    "trainer.visualize_kfold()"
   ]
  },
  {
   "cell_type": "code",
   "execution_count": 10,
   "metadata": {},
   "outputs": [
    {
     "data": {
      "image/png": "[encoded data removed]",
      "text/plain": [
       "<Figure size 720x432 with 1 Axes>"
      ]
     },
     "metadata": {
      "needs_background": "light"
     },
     "output_type": "display_data"
    }
   ],
   "source": [
    "trainer.plot_mean_loss()"
   ]
  },
  {
   "cell_type": "code",
   "execution_count": 11,
   "metadata": {},
   "outputs": [],
   "source": [
    "# 保存模型\n",
    "torch.save(model.state_dict(), \"model_LeNet.pth\")"
   ]
  },
  {
   "attachments": {},
   "cell_type": "markdown",
   "metadata": {},
   "source": [
    "## 评估训练结果\n",
    "\n",
    "从这里可以单独开始，不需要从上面开始"
   ]
  },
  {
   "cell_type": "code",
   "execution_count": 12,
   "metadata": {},
   "outputs": [],
   "source": [
    "import torch\n",
    "import torch.nn as nn\n",
    "import numpy as np\n",
    "test_labels = torch.load('../data/test_labels.pt')\n",
    "test_data = torch.load('../data/test_data.pt')"
   ]
  },
  {
   "cell_type": "code",
   "execution_count": 13,
   "metadata": {},
   "outputs": [
    {
     "data": {
      "text/plain": [
       "<All keys matched successfully>"
      ]
     },
     "execution_count": 13,
     "metadata": {},
     "output_type": "execute_result"
    }
   ],
   "source": [
    "from models import LeNet\n",
    "model = LeNet()\n",
    "# 在测试集上评估模型的准确率\n",
    "model.load_state_dict(torch.load(\"model_LeNet.pth\"))"
   ]
  },
  {
   "cell_type": "code",
   "execution_count": 14,
   "metadata": {},
   "outputs": [
    {
     "name": "stdout",
     "output_type": "stream",
     "text": [
      "Accuracy: 0.49\n"
     ]
    }
   ],
   "source": [
    "model.eval()\n",
    "\n",
    "with torch.no_grad():\n",
    "    y_pred = model(test_data)\n",
    "    y_pred = torch.argmax(y_pred, dim=1)\n",
    "\n",
    "    accuracy = torch.sum(y_pred == test_labels).item() / len(test_labels)\n",
    "\n",
    "print(f\"Accuracy: {accuracy:.2f}\")"
   ]
  },
  {
   "cell_type": "code",
   "execution_count": 15,
   "metadata": {},
   "outputs": [],
   "source": [
    "train_labels = torch.load('../data/train_labels.pt')\n",
    "train_data = torch.load('../data/train_data.pt')"
   ]
  },
  {
   "cell_type": "code",
   "execution_count": 16,
   "metadata": {},
   "outputs": [
    {
     "name": "stdout",
     "output_type": "stream",
     "text": [
      "Accuracy: 0.55\n"
     ]
    }
   ],
   "source": [
    "model.eval()\n",
    "\n",
    "with torch.no_grad():\n",
    "    y_pred = model(train_data)\n",
    "    y_pred = torch.softmax(y_pred, dim=1)  # dim=1表示对每一行进行softmax\n",
    "    y_pred = torch.argmax(y_pred, dim=1)\n",
    "\n",
    "    accuracy = torch.sum(y_pred == train_labels).item() / len(train_labels)\n",
    "\n",
    "print(f\"Accuracy: {accuracy:.2f}\")"
   ]
  },
  {
   "attachments": {},
   "cell_type": "markdown",
   "metadata": {},
   "source": [
    "可以看到我们这一版的数据是没有经过数据增强或者其它操作，最后导致了模型的过拟合，下一步工作：\n",
    "\n",
    "- 数据增强\n",
    "- 数据normalization\n",
    "- 用简单的模型来训练，看看效果"
   ]
  }
 ],
 "metadata": {
  "kernelspec": {
   "display_name": "base",
   "language": "python",
   "name": "python3"
  },
  "language_info": {
   "codemirror_mode": {
    "name": "ipython",
    "version": 3
   },
   "file_extension": ".py",
   "mimetype": "text/x-python",
   "name": "python",
   "nbconvert_exporter": "python",
   "pygments_lexer": "ipython3",
   "version": "3.9.7"
  },
  "orig_nbformat": 4
 },
 "nbformat": 4,
 "nbformat_minor": 2
}
