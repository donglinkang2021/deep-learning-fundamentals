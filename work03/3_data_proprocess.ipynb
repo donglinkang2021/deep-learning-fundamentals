{
 "cells": [
  {
   "attachments": {},
   "cell_type": "markdown",
   "metadata": {},
   "source": [
    "## 真的没有理解dataloader里面的操作"
   ]
  },
  {
   "cell_type": "code",
   "execution_count": 1,
   "metadata": {},
   "outputs": [
    {
     "name": "stdout",
     "output_type": "stream",
     "text": [
      "Files already downloaded and verified\n",
      "Files already downloaded and verified\n"
     ]
    }
   ],
   "source": [
    "import torch\n",
    "import torchvision\n",
    "import torchvision.transforms as transforms\n",
    "\n",
    "# 定义 transform，包括随机水平翻转、随机裁剪、归一化\n",
    "transform_train = transforms.Compose([\n",
    "    transforms.RandomHorizontalFlip(),\n",
    "    transforms.RandomCrop(32, padding=4),\n",
    "    transforms.ToTensor(),\n",
    "    transforms.Normalize((0.5, 0.5, 0.5), (0.5, 0.5, 0.5))\n",
    "])\n",
    "\n",
    "# 只需要归一化\n",
    "transform_test = transforms.Compose([\n",
    "    transforms.ToTensor(),\n",
    "    transforms.Normalize((0.5, 0.5, 0.5), (0.5, 0.5, 0.5))\n",
    "])\n",
    "\n",
    "# 加载 CIFAR10 数据集\n",
    "trainset = torchvision.datasets.CIFAR10(root='./data', train=True,download=True, transform=transform_train)\n",
    "trainloader = torch.utils.data.DataLoader(trainset, batch_size=128,shuffle=True, num_workers=2)\n",
    "testset = torchvision.datasets.CIFAR10(root='./data', train=False,download=True, transform=transform_test)\n",
    "testloader = torch.utils.data.DataLoader(testset, batch_size=128,shuffle=False, num_workers=2)"
   ]
  },
  {
   "cell_type": "code",
   "execution_count": 3,
   "metadata": {},
   "outputs": [
    {
     "data": {
      "text/plain": [
       "(torch.Size([50000, 3, 32, 32]),\n",
       " torch.Size([10000, 3, 32, 32]),\n",
       " torch.Size([50000]),\n",
       " torch.Size([10000]))"
      ]
     },
     "execution_count": 3,
     "metadata": {},
     "output_type": "execute_result"
    }
   ],
   "source": [
    "device = torch.device(\"cuda:0\" if torch.cuda.is_available() else \"cpu\")\n",
    "\n",
    "with torch.no_grad():\n",
    "    for batch_idx, (inputs, targets) in enumerate(testloader):\n",
    "        inputs, targets = inputs.to(device), targets.to(device)\n",
    "        if batch_idx == 0:\n",
    "            whole_test_inputs = inputs\n",
    "            whole_test_targets = targets\n",
    "        else:\n",
    "            whole_test_inputs = torch.cat((whole_test_inputs, inputs), dim=0)\n",
    "            whole_test_targets = torch.cat((whole_test_targets, targets), dim=0)\n",
    "with torch.no_grad():\n",
    "    for batch_idx, (inputs, targets) in enumerate(trainloader):\n",
    "        inputs, targets = inputs.to(device), targets.to(device)\n",
    "        if batch_idx == 0:\n",
    "            whole_train_inputs = inputs\n",
    "            whole_train_targets = targets\n",
    "        else:\n",
    "            whole_train_inputs = torch.cat((whole_train_inputs, inputs), dim=0)\n",
    "            whole_train_targets = torch.cat((whole_train_targets, targets), dim=0)\n",
    "\n",
    "whole_train_inputs.shape,whole_test_inputs.shape,whole_train_targets.shape,whole_test_targets.shape"
   ]
  },
  {
   "cell_type": "code",
   "execution_count": 4,
   "metadata": {},
   "outputs": [
    {
     "data": {
      "text/plain": [
       "(tensor(0.8824), tensor(-1.))"
      ]
     },
     "execution_count": 4,
     "metadata": {},
     "output_type": "execute_result"
    }
   ],
   "source": [
    "whole_train_inputs[1].max(),whole_train_inputs[1].min()"
   ]
  },
  {
   "cell_type": "code",
   "execution_count": 2,
   "metadata": {},
   "outputs": [],
   "source": [
    "import torch\n",
    "import torchvision\n",
    "import torchvision.transforms as transforms\n",
    "from utils import *"
   ]
  },
  {
   "cell_type": "code",
   "execution_count": 4,
   "metadata": {},
   "outputs": [],
   "source": [
    "train_labels = torch.load('../data/train_labels.pt')\n",
    "train_data = torch.load('../data/train_data.pt')\n",
    "test_labels = torch.load('../data/test_labels.pt')\n",
    "test_data = torch.load('../data/test_data.pt')"
   ]
  },
  {
   "cell_type": "code",
   "execution_count": 12,
   "metadata": {},
   "outputs": [
    {
     "data": {
      "image/png": "[encoded data removed]",
      "text/plain": [
       "<Figure size 216x216 with 1 Axes>"
      ]
     },
     "metadata": {
      "needs_background": "light"
     },
     "output_type": "display_data"
    }
   ],
   "source": [
    "img = test_data.numpy()[3].astype(np.uint8)\n",
    "show_one_np_data(img)"
   ]
  },
  {
   "cell_type": "code",
   "execution_count": 13,
   "metadata": {},
   "outputs": [
    {
     "data": {
      "text/plain": [
       "(3, 32, 32)"
      ]
     },
     "execution_count": 13,
     "metadata": {},
     "output_type": "execute_result"
    }
   ],
   "source": [
    "img.shape"
   ]
  },
  {
   "cell_type": "code",
   "execution_count": 14,
   "metadata": {},
   "outputs": [],
   "source": [
    "transform_test = transforms.Compose([\n",
    "    transforms.ToTensor(),\n",
    "    transforms.Normalize((0.5, 0.5, 0.5), (0.5, 0.5, 0.5))\n",
    "])"
   ]
  },
  {
   "cell_type": "code",
   "execution_count": 15,
   "metadata": {},
   "outputs": [
    {
     "data": {
      "text/plain": [
       "tensor([[[ 0.2157,  0.3098,  0.3804,  ...,  0.5765,  0.5843,  0.5059],\n",
       "         [ 0.2000,  0.2784,  0.3412,  ...,  0.5843,  0.5922,  0.4824],\n",
       "         [ 0.2157,  0.2549,  0.3176,  ...,  0.6157,  0.6000,  0.4824],\n",
       "         ...,\n",
       "         [-0.3020, -0.5529, -0.5216,  ..., -0.3020, -0.5373, -0.4745],\n",
       "         [-0.3020, -0.5294, -0.5059,  ..., -0.5529, -0.5216, -0.4118],\n",
       "         [-0.2784, -0.5294, -0.5216,  ..., -0.5294, -0.4980, -0.4275]],\n",
       "\n",
       "        [[ 0.2235,  0.3804,  0.4039,  ...,  0.5373,  0.5843,  0.4353],\n",
       "         [ 0.2157,  0.4039,  0.4431,  ...,  0.6314,  0.6863,  0.4902],\n",
       "         [ 0.2078,  0.3961,  0.4510,  ...,  0.6314,  0.6863,  0.4980],\n",
       "         ...,\n",
       "         [-0.3804, -0.5843, -0.5216,  ..., -0.0667, -0.3804, -0.4196],\n",
       "         [-0.3569, -0.5451, -0.4824,  ..., -0.4824, -0.4980, -0.4588],\n",
       "         [-0.3882, -0.5922, -0.5451,  ..., -0.5059, -0.4902, -0.4667]],\n",
       "\n",
       "        [[ 0.1686,  0.4667,  0.5137,  ...,  0.6392,  0.6627,  0.3412],\n",
       "         [ 0.2314,  0.6000,  0.6863,  ...,  0.7412,  0.7804,  0.4353],\n",
       "         [ 0.2000,  0.5765,  0.6706,  ...,  0.6863,  0.7569,  0.4431],\n",
       "         ...,\n",
       "         [-0.5137, -0.5922, -0.5373,  ..., -0.2078, -0.5137, -0.6078],\n",
       "         [-0.5137, -0.5843, -0.5451,  ..., -0.5451, -0.5765, -0.6000],\n",
       "         [-0.4980, -0.6000, -0.6000,  ..., -0.6078, -0.5922, -0.6078]]])"
      ]
     },
     "execution_count": 15,
     "metadata": {},
     "output_type": "execute_result"
    }
   ],
   "source": [
    "img = np.transpose(img, (1, 2, 0))\n",
    "transform_test(img)"
   ]
  }
 ],
 "metadata": {
  "kernelspec": {
   "display_name": "base",
   "language": "python",
   "name": "python3"
  },
  "language_info": {
   "codemirror_mode": {
    "name": "ipython",
    "version": 3
   },
   "file_extension": ".py",
   "mimetype": "text/x-python",
   "name": "python",
   "nbconvert_exporter": "python",
   "pygments_lexer": "ipython3",
   "version": "3.9.7"
  },
  "orig_nbformat": 4
 },
 "nbformat": 4,
 "nbformat_minor": 2
}
