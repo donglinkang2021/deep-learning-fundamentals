{
  "cells": [
    {
      "cell_type": "code",
      "source": [
        "!nvidia-smi"
      ],
      "metadata": {
        "colab": {
          "base_uri": "https://localhost:8080/"
        },
        "id": "OxP-29Lcd4fV",
        "outputId": "46bdab68-ae7b-4d51-f9c4-0a0c67f1d855"
      },
      "execution_count": 4,
      "outputs": [
        {
          "output_type": "stream",
          "name": "stdout",
          "text": [
            "Mon Apr 17 07:21:59 2023       \n",
            "+-----------------------------------------------------------------------------+\n",
            "| NVIDIA-SMI 525.85.12    Driver Version: 525.85.12    CUDA Version: 12.0     |\n",
            "|-------------------------------+----------------------+----------------------+\n",
            "| GPU  Name        Persistence-M| Bus-Id        Disp.A | Volatile Uncorr. ECC |\n",
            "| Fan  Temp  Perf  Pwr:Usage/Cap|         Memory-Usage | GPU-Util  Compute M. |\n",
            "|                               |                      |               MIG M. |\n",
            "|===============================+======================+======================|\n",
            "|   0  Tesla T4            Off  | 00000000:00:04.0 Off |                    0 |\n",
            "| N/A   39C    P8     9W /  70W |      0MiB / 15360MiB |      0%      Default |\n",
            "|                               |                      |                  N/A |\n",
            "+-------------------------------+----------------------+----------------------+\n",
            "                                                                               \n",
            "+-----------------------------------------------------------------------------+\n",
            "| Processes:                                                                  |\n",
            "|  GPU   GI   CI        PID   Type   Process name                  GPU Memory |\n",
            "|        ID   ID                                                   Usage      |\n",
            "|=============================================================================|\n",
            "|  No running processes found                                                 |\n",
            "+-----------------------------------------------------------------------------+\n"
          ]
        }
      ]
    },
    {
      "cell_type": "code",
      "source": [
        "!pip install torchinfo"
      ],
      "metadata": {
        "colab": {
          "base_uri": "https://localhost:8080/"
        },
        "id": "yomLP4IMd9Aa",
        "outputId": "65069101-cafc-4145-be9c-8b620e8b544b"
      },
      "execution_count": 3,
      "outputs": [
        {
          "output_type": "stream",
          "name": "stdout",
          "text": [
            "Looking in indexes: https://pypi.org/simple, https://us-python.pkg.dev/colab-wheels/public/simple/\n",
            "Collecting torchinfo\n",
            "  Downloading torchinfo-1.7.2-py3-none-any.whl (22 kB)\n",
            "Installing collected packages: torchinfo\n",
            "Successfully installed torchinfo-1.7.2\n"
          ]
        }
      ]
    },
    {
      "cell_type": "markdown",
      "metadata": {
        "id": "YNCYUTZfdvER"
      },
      "source": [
        "# ResNet\n",
        "\n",
        "到最后了还是忍不住想用ResNet试一下，因为ResNet给人的美感太强了，虽然自己已经交作业了，不过还是很想看看ResNet的效果。这个notebook估计自己想这样做，先自己从头训练一下看看效果，再用预训练的模型试一下。\n",
        "\n",
        "## 从头开始的ResNet"
      ]
    },
    {
      "cell_type": "code",
      "execution_count": 2,
      "metadata": {
        "id": "YXPd1_3wdvES"
      },
      "outputs": [],
      "source": [
        "import torch\n",
        "from torch import nn\n",
        "from torch.nn import functional as F"
      ]
    },
    {
      "cell_type": "markdown",
      "metadata": {
        "id": "jDfN97HLdvET"
      },
      "source": [
        "### 定义残差块\n",
        "\n",
        "这里借鉴了李沐老师的动手学习深度学习的代码，架构如下：\n",
        "\n",
        "![resnet](resnet-block.svg)\n"
      ]
    },
    {
      "cell_type": "code",
      "execution_count": null,
      "metadata": {
        "id": "Dj1VagsHdvET"
      },
      "outputs": [],
      "source": [
        "class Residual(nn.Module):  \n",
        "    def __init__(self, input_channels, num_channels,\n",
        "                 use_1x1conv=False, strides=1):\n",
        "        super().__init__()\n",
        "        self.conv1 = nn.Conv2d(input_channels, num_channels,\n",
        "                               kernel_size=3, padding=1, stride=strides)\n",
        "        self.conv2 = nn.Conv2d(num_channels, num_channels,\n",
        "                               kernel_size=3, padding=1)\n",
        "        if use_1x1conv:\n",
        "            self.conv3 = nn.Conv2d(input_channels, num_channels,\n",
        "                                   kernel_size=1, stride=strides)\n",
        "        else:\n",
        "            self.conv3 = None\n",
        "        self.bn1 = nn.BatchNorm2d(num_channels)\n",
        "        self.bn2 = nn.BatchNorm2d(num_channels)\n",
        "\n",
        "    def forward(self, X):\n",
        "        Y = F.relu(self.bn1(self.conv1(X)))\n",
        "        Y = self.bn2(self.conv2(Y))\n",
        "        if self.conv3:\n",
        "            X = self.conv3(X)\n",
        "        Y += X\n",
        "        return F.relu(Y)"
      ]
    },
    {
      "cell_type": "markdown",
      "metadata": {
        "id": "_8n-bBn1dvEU"
      },
      "source": [
        "#### 残差块小测试\n",
        "\n",
        "我们测试一下输入输出的维度是怎么样的："
      ]
    },
    {
      "cell_type": "code",
      "execution_count": null,
      "metadata": {
        "id": "uwbpI6YvdvEU",
        "outputId": "213949cc-da25-4cb4-9c24-204cb37a4ee1",
        "colab": {
          "base_uri": "https://localhost:8080/"
        }
      },
      "outputs": [
        {
          "output_type": "execute_result",
          "data": {
            "text/plain": [
              "torch.Size([4, 3, 6, 6])"
            ]
          },
          "metadata": {},
          "execution_count": 5
        }
      ],
      "source": [
        "X = torch.rand((4, 3, 6, 6))\n",
        "resBlock = Residual(3, 3)\n",
        "resBlock(X).shape # torch.Size([4, 3, 6, 6]) # same shape"
      ]
    },
    {
      "cell_type": "code",
      "execution_count": null,
      "metadata": {
        "id": "G1kDPz42dvEU",
        "outputId": "b21a2e05-b259-4894-9093-d4b1b9d6cc53",
        "colab": {
          "base_uri": "https://localhost:8080/"
        }
      },
      "outputs": [
        {
          "output_type": "execute_result",
          "data": {
            "text/plain": [
              "torch.Size([4, 6, 3, 3])"
            ]
          },
          "metadata": {},
          "execution_count": 6
        }
      ],
      "source": [
        "resBlock = Residual(3, 6, use_1x1conv=True, strides=2)\n",
        "resBlock(X).shape # torch.Size([4, 6, 3, 3]) # 1/2 shape"
      ]
    },
    {
      "cell_type": "markdown",
      "metadata": {
        "id": "2sdpIjm1dvEU"
      },
      "source": [
        "复习一下`nn.Conv2d`的输入输出大小计算公式\n",
        "\n",
        "$$\n",
        "\\text{out}(N_i, C_{\\text{out}_j}) = \\text{bias}(C_{\\text{out}_j}) +\n",
        "        \\sum_{k = 0}^{C_{\\text{in}} - 1} \\text{weight}(C_{\\text{out}_j}, k) \\star \\text{input}(N_i, k)\n",
        "$$\n",
        "\n",
        "$$\n",
        "H_{out} = \\left\\lfloor\\frac{H_{in}  + 2 \\times \\text{padding}[0] - \\text{dilation}[0]\n",
        "                        \\times (\\text{kernel\\_size}[0] - 1) - 1}{\\text{stride}[0]} + 1\\right\\rfloor \n",
        "$$\n",
        "\n",
        "$$\n",
        "W_{out} = \\left\\lfloor\\frac{W_{in}  + 2 \\times \\text{padding}[1] - \\text{dilation}[1]\n",
        "                        \\times (\\text{kernel\\_size}[1] - 1) - 1}{\\text{stride}[1]} + 1\\right\\rfloor\n",
        "$$"
      ]
    },
    {
      "cell_type": "code",
      "execution_count": null,
      "metadata": {
        "id": "ipyD3XFRdvEV",
        "outputId": "6d1a9682-c055-4705-8746-1a227a1fd997",
        "colab": {
          "base_uri": "https://localhost:8080/"
        }
      },
      "outputs": [
        {
          "output_type": "execute_result",
          "data": {
            "text/plain": [
              "torch.Size([4, 3, 6, 6])"
            ]
          },
          "metadata": {},
          "execution_count": 7
        }
      ],
      "source": [
        "nn.Conv2d(3, 3, kernel_size=3, padding=1, stride=1)(X).shape # torch.Size([4, 3, 6, 6]) # same shape"
      ]
    },
    {
      "cell_type": "code",
      "execution_count": null,
      "metadata": {
        "id": "70Le6BHNdvEV",
        "outputId": "c1806746-94b4-49f5-cafb-20e5370a0b1d",
        "colab": {
          "base_uri": "https://localhost:8080/"
        }
      },
      "outputs": [
        {
          "output_type": "execute_result",
          "data": {
            "text/plain": [
              "torch.Size([4, 3, 3, 3])"
            ]
          },
          "metadata": {},
          "execution_count": 8
        }
      ],
      "source": [
        "nn.Conv2d(3, 3, kernel_size=3, padding=1, stride=2)(X).shape # torch.Size([4, 3, 3, 3]) # 1/2 shape"
      ]
    },
    {
      "cell_type": "markdown",
      "metadata": {
        "id": "QvTpbCkgdvEV"
      },
      "source": [
        "### 定义ResNet的block\n",
        "\n",
        "ResNet在第一个block的时候是和谷歌的Inception是一样的，不同的是ResNet在卷积层之后加了一个BatchNorm层。"
      ]
    },
    {
      "cell_type": "code",
      "execution_count": null,
      "metadata": {
        "id": "B2tYxUlldvEV"
      },
      "outputs": [],
      "source": [
        "block1 = nn.Sequential(nn.Conv2d(3, 64, kernel_size=7, stride=2, padding=3),\n",
        "                          nn.BatchNorm2d(64), nn.ReLU(),\n",
        "                            nn.MaxPool2d(kernel_size=3, stride=2, padding=1))"
      ]
    },
    {
      "cell_type": "code",
      "execution_count": null,
      "metadata": {
        "colab": {
          "base_uri": "https://localhost:8080/"
        },
        "id": "U07RU6medvEV",
        "outputId": "e12bfc35-c594-4f73-a691-89b3148491cf"
      },
      "outputs": [
        {
          "output_type": "execute_result",
          "data": {
            "text/plain": [
              "torch.Size([4, 64, 56, 56])"
            ]
          },
          "metadata": {},
          "execution_count": 10
        }
      ],
      "source": [
        "X = torch.rand((4, 3, 224, 224))\n",
        "block1(X).shape # torch.Size([4, 64, 56, 56])"
      ]
    },
    {
      "cell_type": "code",
      "execution_count": null,
      "metadata": {
        "id": "TH96dT86dvEW"
      },
      "outputs": [],
      "source": [
        "# 定义除了block1之外的block网络结构\n",
        "def resnet_block(input_channels, num_channels, num_residuals,\n",
        "                 first_block=False):\n",
        "    blk = []\n",
        "    for i in range(num_residuals):\n",
        "        if i == 0 and not first_block:\n",
        "            blk.append(Residual(input_channels, num_channels,\n",
        "                                use_1x1conv=True, strides=2))\n",
        "        else:\n",
        "            blk.append(Residual(num_channels, num_channels))\n",
        "    return blk"
      ]
    },
    {
      "cell_type": "code",
      "execution_count": null,
      "metadata": {
        "id": "eiCY1x8odvEW"
      },
      "outputs": [],
      "source": [
        "# 接着在ResNet加入所有残差块，这里每个模块使用2个残差块。这样我们下面每个模块就有4个卷积层，下面就一共16个卷积层\n",
        "block2 = nn.Sequential(*resnet_block(64, 64, 2, first_block=True))\n",
        "block3 = nn.Sequential(*resnet_block(64, 128, 2))\n",
        "block4 = nn.Sequential(*resnet_block(128, 256, 2))\n",
        "block5 = nn.Sequential(*resnet_block(256, 512, 2))"
      ]
    },
    {
      "cell_type": "markdown",
      "metadata": {
        "id": "MZZStknEdvEW"
      },
      "source": [
        "#### 残差block小测试"
      ]
    },
    {
      "cell_type": "code",
      "execution_count": null,
      "metadata": {
        "id": "zI-lSySUdvEW",
        "outputId": "5afd579a-b749-4733-ce62-f46abc9b77d7",
        "colab": {
          "base_uri": "https://localhost:8080/"
        }
      },
      "outputs": [
        {
          "output_type": "execute_result",
          "data": {
            "text/plain": [
              "torch.Size([4, 64, 56, 56])"
            ]
          },
          "metadata": {},
          "execution_count": 13
        }
      ],
      "source": [
        "X = torch.rand((4, 64, 56, 56))\n",
        "block2(X).shape # torch.Size([4, 64, 56, 56])"
      ]
    },
    {
      "cell_type": "code",
      "execution_count": null,
      "metadata": {
        "id": "xqbMgrg7dvEW",
        "outputId": "89a1085c-301b-45b8-ebf8-214128e9ee0c",
        "colab": {
          "base_uri": "https://localhost:8080/"
        }
      },
      "outputs": [
        {
          "output_type": "execute_result",
          "data": {
            "text/plain": [
              "torch.Size([4, 128, 28, 28])"
            ]
          },
          "metadata": {},
          "execution_count": 14
        }
      ],
      "source": [
        "block3(X).shape # torch.Size([4, 128, 28, 28])"
      ]
    },
    {
      "cell_type": "code",
      "execution_count": null,
      "metadata": {
        "id": "QR5fhUlAdvEW",
        "outputId": "c172b1ad-13a6-4d25-bf89-d46fa3435f40",
        "colab": {
          "base_uri": "https://localhost:8080/"
        }
      },
      "outputs": [
        {
          "output_type": "execute_result",
          "data": {
            "text/plain": [
              "torch.Size([4, 256, 14, 14])"
            ]
          },
          "metadata": {},
          "execution_count": 15
        }
      ],
      "source": [
        "X = torch.rand((4, 128, 28, 28))\n",
        "block4(X).shape # torch.Size([4, 256, 14, 14])"
      ]
    },
    {
      "cell_type": "code",
      "execution_count": null,
      "metadata": {
        "id": "WOHKl7uydvEX",
        "outputId": "362d85e5-13e1-4fc3-867c-ae8166ef3fe2",
        "colab": {
          "base_uri": "https://localhost:8080/"
        }
      },
      "outputs": [
        {
          "output_type": "execute_result",
          "data": {
            "text/plain": [
              "torch.Size([4, 512, 7, 7])"
            ]
          },
          "metadata": {},
          "execution_count": 16
        }
      ],
      "source": [
        "X = torch.rand((4, 256, 14, 14))\n",
        "block5(X).shape # torch.Size([4, 512, 7, 7])"
      ]
    },
    {
      "cell_type": "code",
      "execution_count": null,
      "metadata": {
        "id": "z4HXSnnjdvEX",
        "outputId": "8775f470-2d9c-45da-d465-7b756c746925",
        "colab": {
          "base_uri": "https://localhost:8080/"
        }
      },
      "outputs": [
        {
          "output_type": "execute_result",
          "data": {
            "text/plain": [
              "torch.Size([4, 512, 1, 1])"
            ]
          },
          "metadata": {},
          "execution_count": 17
        }
      ],
      "source": [
        "X = torch.rand((4, 512, 7, 7))\n",
        "nn.AdaptiveAvgPool2d((1, 1))(X).shape # torch.Size([4, 512, 1, 1])"
      ]
    },
    {
      "cell_type": "markdown",
      "metadata": {
        "id": "DV8vYcbxdvEX"
      },
      "source": [
        "### 定义ResNet18"
      ]
    },
    {
      "cell_type": "code",
      "execution_count": null,
      "metadata": {
        "id": "XVXl_XG2dvEX"
      },
      "outputs": [],
      "source": [
        "ResNet18 = nn.Sequential(block1, block2, block3, block4, block5,\n",
        "                          nn.AdaptiveAvgPool2d((1, 1)),\n",
        "                            nn.Flatten(),\n",
        "                            nn.Linear(512, 10))"
      ]
    },
    {
      "cell_type": "code",
      "execution_count": null,
      "metadata": {
        "colab": {
          "base_uri": "https://localhost:8080/"
        },
        "id": "LZSmsbjVdvEX",
        "outputId": "7364fcd6-16a4-4724-b4dc-b2ba10109273"
      },
      "outputs": [
        {
          "output_type": "stream",
          "name": "stdout",
          "text": [
            "Sequential output shape:\t torch.Size([1, 64, 56, 56])\n",
            "Sequential output shape:\t torch.Size([1, 64, 56, 56])\n",
            "Sequential output shape:\t torch.Size([1, 128, 28, 28])\n",
            "Sequential output shape:\t torch.Size([1, 256, 14, 14])\n",
            "Sequential output shape:\t torch.Size([1, 512, 7, 7])\n",
            "AdaptiveAvgPool2d output shape:\t torch.Size([1, 512, 1, 1])\n",
            "Flatten output shape:\t torch.Size([1, 512])\n",
            "Linear output shape:\t torch.Size([1, 10])\n"
          ]
        }
      ],
      "source": [
        "X = torch.rand(size=(1, 3, 224, 224))\n",
        "for layer in ResNet18:\n",
        "    X = layer(X)\n",
        "    print(layer.__class__.__name__,'output shape:\\t', X.shape)"
      ]
    },
    {
      "cell_type": "code",
      "execution_count": null,
      "metadata": {
        "colab": {
          "base_uri": "https://localhost:8080/"
        },
        "id": "scPaAyUcdvEX",
        "outputId": "da57b18c-710c-4581-b91f-d613f1d2a39c"
      },
      "outputs": [
        {
          "output_type": "stream",
          "name": "stderr",
          "text": [
            "/usr/local/lib/python3.9/dist-packages/torchinfo/torchinfo.py:477: UserWarning: TypedStorage is deprecated. It will be removed in the future and UntypedStorage will be the only storage class. This should only matter to you if you are using storages directly.  To access UntypedStorage directly, use tensor.untyped_storage() instead of tensor.storage()\n",
            "  action_fn=lambda data: sys.getsizeof(data.storage()),\n",
            "/usr/local/lib/python3.9/dist-packages/torch/storage.py:665: UserWarning: TypedStorage is deprecated. It will be removed in the future and UntypedStorage will be the only storage class. This should only matter to you if you are using storages directly.  To access UntypedStorage directly, use tensor.untyped_storage() instead of tensor.storage()\n",
            "  return super().__sizeof__() + self.nbytes()\n"
          ]
        },
        {
          "output_type": "execute_result",
          "data": {
            "text/plain": [
              "==========================================================================================\n",
              "Layer (type:depth-idx)                   Output Shape              Param #\n",
              "==========================================================================================\n",
              "Sequential                               [1, 10]                   --\n",
              "├─Sequential: 1-1                        [1, 64, 56, 56]           --\n",
              "│    └─Conv2d: 2-1                       [1, 64, 112, 112]         9,472\n",
              "│    └─BatchNorm2d: 2-2                  [1, 64, 112, 112]         128\n",
              "│    └─ReLU: 2-3                         [1, 64, 112, 112]         --\n",
              "│    └─MaxPool2d: 2-4                    [1, 64, 56, 56]           --\n",
              "├─Sequential: 1-2                        [1, 64, 56, 56]           --\n",
              "│    └─Residual: 2-5                     [1, 64, 56, 56]           --\n",
              "│    │    └─Conv2d: 3-1                  [1, 64, 56, 56]           36,928\n",
              "│    │    └─BatchNorm2d: 3-2             [1, 64, 56, 56]           128\n",
              "│    │    └─Conv2d: 3-3                  [1, 64, 56, 56]           36,928\n",
              "│    │    └─BatchNorm2d: 3-4             [1, 64, 56, 56]           128\n",
              "│    └─Residual: 2-6                     [1, 64, 56, 56]           --\n",
              "│    │    └─Conv2d: 3-5                  [1, 64, 56, 56]           36,928\n",
              "│    │    └─BatchNorm2d: 3-6             [1, 64, 56, 56]           128\n",
              "│    │    └─Conv2d: 3-7                  [1, 64, 56, 56]           36,928\n",
              "│    │    └─BatchNorm2d: 3-8             [1, 64, 56, 56]           128\n",
              "├─Sequential: 1-3                        [1, 128, 28, 28]          --\n",
              "│    └─Residual: 2-7                     [1, 128, 28, 28]          --\n",
              "│    │    └─Conv2d: 3-9                  [1, 128, 28, 28]          73,856\n",
              "│    │    └─BatchNorm2d: 3-10            [1, 128, 28, 28]          256\n",
              "│    │    └─Conv2d: 3-11                 [1, 128, 28, 28]          147,584\n",
              "│    │    └─BatchNorm2d: 3-12            [1, 128, 28, 28]          256\n",
              "│    │    └─Conv2d: 3-13                 [1, 128, 28, 28]          8,320\n",
              "│    └─Residual: 2-8                     [1, 128, 28, 28]          --\n",
              "│    │    └─Conv2d: 3-14                 [1, 128, 28, 28]          147,584\n",
              "│    │    └─BatchNorm2d: 3-15            [1, 128, 28, 28]          256\n",
              "│    │    └─Conv2d: 3-16                 [1, 128, 28, 28]          147,584\n",
              "│    │    └─BatchNorm2d: 3-17            [1, 128, 28, 28]          256\n",
              "├─Sequential: 1-4                        [1, 256, 14, 14]          --\n",
              "│    └─Residual: 2-9                     [1, 256, 14, 14]          --\n",
              "│    │    └─Conv2d: 3-18                 [1, 256, 14, 14]          295,168\n",
              "│    │    └─BatchNorm2d: 3-19            [1, 256, 14, 14]          512\n",
              "│    │    └─Conv2d: 3-20                 [1, 256, 14, 14]          590,080\n",
              "│    │    └─BatchNorm2d: 3-21            [1, 256, 14, 14]          512\n",
              "│    │    └─Conv2d: 3-22                 [1, 256, 14, 14]          33,024\n",
              "│    └─Residual: 2-10                    [1, 256, 14, 14]          --\n",
              "│    │    └─Conv2d: 3-23                 [1, 256, 14, 14]          590,080\n",
              "│    │    └─BatchNorm2d: 3-24            [1, 256, 14, 14]          512\n",
              "│    │    └─Conv2d: 3-25                 [1, 256, 14, 14]          590,080\n",
              "│    │    └─BatchNorm2d: 3-26            [1, 256, 14, 14]          512\n",
              "├─Sequential: 1-5                        [1, 512, 7, 7]            --\n",
              "│    └─Residual: 2-11                    [1, 512, 7, 7]            --\n",
              "│    │    └─Conv2d: 3-27                 [1, 512, 7, 7]            1,180,160\n",
              "│    │    └─BatchNorm2d: 3-28            [1, 512, 7, 7]            1,024\n",
              "│    │    └─Conv2d: 3-29                 [1, 512, 7, 7]            2,359,808\n",
              "│    │    └─BatchNorm2d: 3-30            [1, 512, 7, 7]            1,024\n",
              "│    │    └─Conv2d: 3-31                 [1, 512, 7, 7]            131,584\n",
              "│    └─Residual: 2-12                    [1, 512, 7, 7]            --\n",
              "│    │    └─Conv2d: 3-32                 [1, 512, 7, 7]            2,359,808\n",
              "│    │    └─BatchNorm2d: 3-33            [1, 512, 7, 7]            1,024\n",
              "│    │    └─Conv2d: 3-34                 [1, 512, 7, 7]            2,359,808\n",
              "│    │    └─BatchNorm2d: 3-35            [1, 512, 7, 7]            1,024\n",
              "├─AdaptiveAvgPool2d: 1-6                 [1, 512, 1, 1]            --\n",
              "├─Flatten: 1-7                           [1, 512]                  --\n",
              "├─Linear: 1-8                            [1, 10]                   5,130\n",
              "==========================================================================================\n",
              "Total params: 11,184,650\n",
              "Trainable params: 11,184,650\n",
              "Non-trainable params: 0\n",
              "Total mult-adds (G): 1.82\n",
              "==========================================================================================\n",
              "Input size (MB): 0.60\n",
              "Forward/backward pass size (MB): 38.33\n",
              "Params size (MB): 44.74\n",
              "Estimated Total Size (MB): 83.68\n",
              "=========================================================================================="
            ]
          },
          "metadata": {},
          "execution_count": 20
        }
      ],
      "source": [
        "from torchinfo import summary\n",
        "summary(ResNet18, input_size=(1, 3, 224, 224))"
      ]
    },
    {
      "cell_type": "markdown",
      "metadata": {
        "id": "uD4IYpqGdvEY"
      },
      "source": [
        "## 训练过程"
      ]
    },
    {
      "cell_type": "code",
      "execution_count": null,
      "metadata": {
        "id": "teOQFhWGdvEY"
      },
      "outputs": [],
      "source": [
        "learning_rate = 0.001\n",
        "batch_size = 128\n",
        "num_epochs = 5"
      ]
    },
    {
      "cell_type": "markdown",
      "metadata": {
        "id": "kCYWnS_edvEY"
      },
      "source": [
        "### 加载数据集及可视化"
      ]
    },
    {
      "cell_type": "code",
      "execution_count": 6,
      "metadata": {
        "colab": {
          "base_uri": "https://localhost:8080/"
        },
        "id": "hq-uor-7dvEY",
        "outputId": "2dd1e5bc-8c10-45f0-ac2f-de0b18d77b28"
      },
      "outputs": [
        {
          "output_type": "stream",
          "name": "stdout",
          "text": [
            "Files already downloaded and verified\n",
            "Files already downloaded and verified\n"
          ]
        }
      ],
      "source": [
        "import torch\n",
        "import torchvision\n",
        "import torchvision.transforms as transforms\n",
        "\n",
        "# 定义 transform，包括缩放、中心裁剪、随机水平翻转、归一化\n",
        "transform_train = transforms.Compose(\n",
        "    [\n",
        "        transforms.Resize(256),\n",
        "        transforms.CenterCrop(224),\n",
        "        transforms.RandomHorizontalFlip(p=0.5),\n",
        "        transforms.ToTensor(),\n",
        "        transforms.Normalize((0.485, 0.456, 0.406), (0.229, 0.224, 0.225))\n",
        "    ]\n",
        ")\n",
        "\n",
        "# 只需要归一化和中心裁剪\n",
        "transform_test = transforms.Compose([\n",
        "    transforms.Resize(256),\n",
        "    transforms.CenterCrop(224),\n",
        "    transforms.ToTensor(),\n",
        "    transforms.Normalize((0.485, 0.456, 0.406), (0.229, 0.224, 0.225))\n",
        "])\n",
        "\n",
        "# 加载 CIFAR10 数据集\n",
        "trainset = torchvision.datasets.CIFAR10(root='./data', train=True,download=True, transform=transform_train)\n",
        "testset = torchvision.datasets.CIFAR10(root='./data', train=False,download=True, transform=transform_test)\n",
        "# trainloader = torch.utils.data.DataLoader(trainset, batch_size=batch_size,shuffle=True, num_workers=2)\n",
        "# testloader = torch.utils.data.DataLoader(testset, batch_size=batch_size,shuffle=False, num_workers=2)"
      ]
    },
    {
      "cell_type": "code",
      "source": [
        "def display(dataset = trainset):\n",
        "    # 展示一下数据集\n",
        "    import matplotlib.pyplot as plt\n",
        "    import numpy as np\n",
        "\n",
        "    indexs = np.random.randint(0, len(dataset), 9)\n",
        "\n",
        "    imgs = [dataset.data[i] for i in indexs]\n",
        "    labels = [dataset.targets[i] for i in indexs]\n",
        "    classes = dataset.classes\n",
        "\n",
        "    fig = plt.figure(figsize=(15, 15))\n",
        "    for i in range(9):\n",
        "        ax = fig.add_subplot(3, 3, i+1)\n",
        "        ax.imshow(imgs[i])\n",
        "        ax.set_title(classes[labels[i]])\n",
        "\n",
        "display()"
      ],
      "metadata": {
        "colab": {
          "base_uri": "https://localhost:8080/",
          "height": 1000
        },
        "id": "oC3b08WnehX1",
        "outputId": "b9c13e4f-5d3f-4dc4-e9f3-1d5f07f5f10b"
      },
      "execution_count": 7,
      "outputs": [
        {
          "output_type": "display_data",
          "data": {
            "text/plain": [
              "<Figure size 1500x1500 with 9 Axes>"
            ],
            "image/png": "[encoded data removed]"
          },
          "metadata": {}
        }
      ]
    },
    {
      "cell_type": "markdown",
      "metadata": {
        "id": "TVaYdp5mdvEY"
      },
      "source": [
        "### 定义训练函数"
      ]
    },
    {
      "cell_type": "code",
      "execution_count": 8,
      "metadata": {
        "id": "QcS9FnSZdvEY"
      },
      "outputs": [],
      "source": [
        "device = 'cuda' if torch.cuda.is_available() else 'cpu'\n",
        "\n",
        "### 下面训练和验证的代码部分参考了微软家的pytorch教程\n",
        "# https://learn.microsoft.com/en-us/training/modules/intro-computer-vision-pytorch/6-transfer-learning\n",
        "def train_epoch(net,dataloader,lr=0.01,optimizer=None,loss_fn = nn.NLLLoss()):\n",
        "    optimizer = optimizer or torch.optim.Adam(net.parameters(),lr=lr)\n",
        "    net.train()\n",
        "    total_loss,acc,count = 0,0,0\n",
        "    for features,labels in dataloader:\n",
        "        optimizer.zero_grad()\n",
        "        lbls = labels.to(device)\n",
        "        out = net(features.to(device))\n",
        "        loss = loss_fn(out,lbls) #cross_entropy(out,labels)\n",
        "        loss.backward()\n",
        "        optimizer.step()\n",
        "        total_loss+=loss\n",
        "        _,predicted = torch.max(out,1)\n",
        "        acc+=(predicted==lbls).sum()\n",
        "        count+=len(labels)\n",
        "    return total_loss.item()/count, acc.item()/count\n",
        "\n",
        "def validate(net, dataloader,loss_fn=nn.NLLLoss()):\n",
        "    net.eval()\n",
        "    count,acc,loss = 0,0,0\n",
        "    with torch.no_grad():\n",
        "        for features,labels in dataloader:\n",
        "            lbls = labels.to(device)\n",
        "            out = net(features.to(device))\n",
        "            loss += loss_fn(out,lbls) \n",
        "            pred = torch.max(out,1)[1]\n",
        "            acc += (pred==lbls).sum()\n",
        "            count += len(labels)\n",
        "    return loss.item()/count, acc.item()/count\n",
        "\n",
        "def train(net,train_loader,test_loader,optimizer=None,lr=0.01,epochs=10,loss_fn=nn.NLLLoss()):\n",
        "    optimizer = optimizer or torch.optim.Adam(net.parameters(),lr=lr)\n",
        "    res = { 'train_loss' : [], 'train_acc': [], 'val_loss': [], 'val_acc': []}\n",
        "    for ep in range(epochs):\n",
        "        tl,ta = train_epoch(net,train_loader,optimizer=optimizer,lr=lr,loss_fn=loss_fn)\n",
        "        vl,va = validate(net,test_loader,loss_fn=loss_fn)\n",
        "        print(f\"Epoch {ep:2}, Train acc={ta:.3f}, Val acc={va:.3f}, Train loss={tl:.3f}, Val loss={vl:.3f}\")\n",
        "        res['train_loss'].append(tl)\n",
        "        res['train_acc'].append(ta)\n",
        "        res['val_loss'].append(vl)\n",
        "        res['val_acc'].append(va)\n",
        "    return res"
      ]
    },
    {
      "cell_type": "code",
      "execution_count": 9,
      "metadata": {
        "id": "Mpzsy3budvEZ"
      },
      "outputs": [],
      "source": [
        "def train_long(net,train_loader,test_loader,epochs=5,lr=0.01,optimizer=None,loss_fn = nn.NLLLoss(),print_freq=10):\n",
        "    optimizer = optimizer or torch.optim.Adam(net.parameters(),lr=lr)\n",
        "    for epoch in range(epochs):\n",
        "        net.train()\n",
        "        total_loss,acc,count = 0,0,0\n",
        "        for i, (features,labels) in enumerate(train_loader):\n",
        "            lbls = labels.to(device)\n",
        "            optimizer.zero_grad()\n",
        "            out = net(features.to(device))\n",
        "            loss = loss_fn(out,lbls)\n",
        "            loss.backward()\n",
        "            optimizer.step()\n",
        "            total_loss+=loss\n",
        "            _,predicted = torch.max(out,1)\n",
        "            acc+=(predicted==lbls).sum()\n",
        "            count+=len(labels)\n",
        "            if i%print_freq==0:\n",
        "                print(\"Epoch {}, minibatch {}: train acc = {}, train loss = {}\".format(epoch,i,acc.item()/count,total_loss.item()/count))\n",
        "        vl,va = validate(net,test_loader,loss_fn)\n",
        "        print(\"Epoch {} done, validation acc = {}, validation loss = {}\".format(epoch,va,vl))"
      ]
    },
    {
      "cell_type": "code",
      "execution_count": null,
      "metadata": {
        "colab": {
          "base_uri": "https://localhost:8080/"
        },
        "id": "yOg5ukK3dvEZ",
        "outputId": "8527e8a0-bfdc-4fae-9f4c-ea4e57fd1cd7"
      },
      "outputs": [
        {
          "output_type": "stream",
          "name": "stdout",
          "text": [
            "Epoch 0, minibatch 0: train acc = 0.1015625, train loss = 0.00915361475199461\n",
            "Epoch 0, minibatch 50: train acc = 0.14736519607843138, train loss = 0.009552977833093381\n",
            "Epoch 0, minibatch 100: train acc = 0.1975943688118812, train loss = 0.00863521405965975\n",
            "Epoch 0, minibatch 150: train acc = 0.23828125, train loss = 0.008086427947543315\n",
            "Epoch 0 done, validation acc = 0.3742, validation loss = 0.006700816345214844\n",
            "Epoch 1, minibatch 0: train acc = 0.37109375, train loss = 0.006364266853779554\n",
            "Epoch 1, minibatch 50: train acc = 0.4114583333333333, train loss = 0.006121984883850696\n",
            "Epoch 1, minibatch 100: train acc = 0.4303449876237624, train loss = 0.005993126642585981\n",
            "Epoch 1, minibatch 150: train acc = 0.44603683774834435, train loss = 0.0058372593083918485\n",
            "Epoch 1 done, validation acc = 0.431, validation loss = 0.006391253280639648\n",
            "Epoch 2, minibatch 0: train acc = 0.515625, train loss = 0.005131948739290237\n",
            "Epoch 2, minibatch 50: train acc = 0.5314031862745098, train loss = 0.004963635813956167\n",
            "Epoch 2, minibatch 100: train acc = 0.5476485148514851, train loss = 0.004861502659202802\n",
            "Epoch 2, minibatch 150: train acc = 0.5630949917218543, train loss = 0.004713623728973187\n",
            "Epoch 2 done, validation acc = 0.5369, validation loss = 0.005201816940307617\n",
            "Epoch 3, minibatch 0: train acc = 0.609375, train loss = 0.004008614923804998\n",
            "Epoch 3, minibatch 50: train acc = 0.6282169117647058, train loss = 0.004039923057836645\n",
            "Epoch 3, minibatch 100: train acc = 0.637917698019802, train loss = 0.003962518850175461\n",
            "Epoch 3, minibatch 150: train acc = 0.6447899420529801, train loss = 0.0038837226021368773\n",
            "Epoch 3 done, validation acc = 0.6235, validation loss = 0.004358991622924805\n",
            "Epoch 4, minibatch 0: train acc = 0.73046875, train loss = 0.0033437861129641533\n",
            "Epoch 4, minibatch 50: train acc = 0.7024356617647058, train loss = 0.0032962435016445084\n",
            "Epoch 4, minibatch 100: train acc = 0.7037824876237624, train loss = 0.00328226372747138\n",
            "Epoch 4, minibatch 150: train acc = 0.7088162251655629, train loss = 0.0032347004539919214\n",
            "Epoch 4 done, validation acc = 0.6871, validation loss = 0.0035628978729248047\n",
            "Epoch 5, minibatch 0: train acc = 0.7421875, train loss = 0.003041293937712908\n",
            "Epoch 5, minibatch 50: train acc = 0.7542892156862745, train loss = 0.0027255307809979307\n",
            "Epoch 5, minibatch 100: train acc = 0.7587020420792079, train loss = 0.0026879921407982855\n",
            "Epoch 5, minibatch 150: train acc = 0.7622102649006622, train loss = 0.0026441482913415163\n",
            "Epoch 5 done, validation acc = 0.7357, validation loss = 0.0030352359771728516\n",
            "Epoch 6, minibatch 0: train acc = 0.79296875, train loss = 0.002260435838252306\n",
            "Epoch 6, minibatch 50: train acc = 0.7969515931372549, train loss = 0.002303679638049182\n",
            "Epoch 6, minibatch 100: train acc = 0.7966429455445545, train loss = 0.0022995960299331364\n",
            "Epoch 6, minibatch 150: train acc = 0.7956850165562914, train loss = 0.0022929792372596183\n",
            "Epoch 6 done, validation acc = 0.7452, validation loss = 0.002980936622619629\n",
            "Epoch 7, minibatch 0: train acc = 0.83984375, train loss = 0.0018582092598080635\n",
            "Epoch 7, minibatch 50: train acc = 0.8301164215686274, train loss = 0.0019334800103131462\n",
            "Epoch 7, minibatch 100: train acc = 0.8282410272277227, train loss = 0.0019236708631609927\n",
            "Epoch 7, minibatch 150: train acc = 0.8299358443708609, train loss = 0.0019096195303051676\n",
            "Epoch 7 done, validation acc = 0.7381, validation loss = 0.0031891998291015623\n",
            "Epoch 8, minibatch 0: train acc = 0.8671875, train loss = 0.0015917742857709527\n",
            "Epoch 8, minibatch 50: train acc = 0.8574601715686274, train loss = 0.0016228600459940294\n",
            "Epoch 8, minibatch 100: train acc = 0.8505956064356436, train loss = 0.0016782817864181973\n",
            "Epoch 8, minibatch 150: train acc = 0.8496223096026491, train loss = 0.0016795882326088205\n",
            "Epoch 8 done, validation acc = 0.7759, validation loss = 0.0027928468704223634\n",
            "Epoch 9, minibatch 0: train acc = 0.91015625, train loss = 0.001159842242486775\n",
            "Epoch 9, minibatch 50: train acc = 0.8792126225490197, train loss = 0.0013705489097857008\n",
            "Epoch 9, minibatch 100: train acc = 0.8745745668316832, train loss = 0.0014024499324288698\n",
            "Epoch 9, minibatch 150: train acc = 0.87109375, train loss = 0.0014320380048246572\n",
            "Epoch 9 done, validation acc = 0.8166, validation loss = 0.002176685905456543\n"
          ]
        }
      ],
      "source": [
        "loss_fn = nn.CrossEntropyLoss() # 使用交叉熵损失函数\n",
        "optimizer = torch.optim.Adam(ResNet18.parameters(), lr=0.01) # 使用 Adam 优化器\n",
        "epochs = 10\n",
        "batch_size = 256\n",
        "trainloader = torch.utils.data.DataLoader(trainset, batch_size=batch_size,shuffle=True, num_workers=2)\n",
        "testloader = torch.utils.data.DataLoader(testset, batch_size=batch_size,shuffle=False, num_workers=2)\n",
        "train_long(ResNet18,trainloader,testloader,loss_fn=torch.nn.CrossEntropyLoss(),epochs=epochs,print_freq=50)"
      ]
    },
    {
      "cell_type": "code",
      "source": [
        "train_long(ResNet18,trainloader,testloader,loss_fn=torch.nn.CrossEntropyLoss(),epochs=epochs,print_freq=50)"
      ],
      "metadata": {
        "id": "FnJFBVRggNx-",
        "colab": {
          "base_uri": "https://localhost:8080/"
        },
        "outputId": "5d31b181-ed06-4efb-cd65-d2c625c2451e"
      },
      "execution_count": null,
      "outputs": [
        {
          "output_type": "stream",
          "name": "stdout",
          "text": [
            "Epoch 0, minibatch 0: train acc = 0.890625, train loss = 0.0010258532129228115\n",
            "Epoch 0, minibatch 50: train acc = 0.8748468137254902, train loss = 0.0013938610460243973\n",
            "Epoch 0, minibatch 100: train acc = 0.8794477103960396, train loss = 0.0013546806455838798\n",
            "Epoch 0, minibatch 150: train acc = 0.8786216887417219, train loss = 0.0013682154432827275\n",
            "Epoch 0 done, validation acc = 0.808, validation loss = 0.002359017562866211\n",
            "Epoch 1, minibatch 0: train acc = 0.92578125, train loss = 0.000928666559047997\n",
            "Epoch 1, minibatch 50: train acc = 0.9063265931372549, train loss = 0.001065797519450094\n",
            "Epoch 1, minibatch 100: train acc = 0.904006806930693, train loss = 0.0010919823209838112\n",
            "Epoch 1, minibatch 150: train acc = 0.9022144039735099, train loss = 0.001102832867609744\n",
            "Epoch 1 done, validation acc = 0.807, validation loss = 0.002357396697998047\n",
            "Epoch 2, minibatch 0: train acc = 0.90625, train loss = 0.0009684089454822242\n",
            "Epoch 2, minibatch 50: train acc = 0.9191176470588235, train loss = 0.0008862066064395156\n",
            "Epoch 2, minibatch 100: train acc = 0.919322400990099, train loss = 0.0008999490649393289\n",
            "Epoch 2, minibatch 150: train acc = 0.9164683360927153, train loss = 0.0009332946594187755\n",
            "Epoch 2 done, validation acc = 0.8142, validation loss = 0.0025195171356201173\n",
            "Epoch 3, minibatch 0: train acc = 0.94140625, train loss = 0.0005324219237081707\n",
            "Epoch 3, minibatch 50: train acc = 0.9330575980392157, train loss = 0.000742298203940485\n",
            "Epoch 3, minibatch 100: train acc = 0.9334390470297029, train loss = 0.0007368373398733611\n",
            "Epoch 3, minibatch 150: train acc = 0.9324037665562914, train loss = 0.000749059860280018\n",
            "Epoch 3 done, validation acc = 0.762, validation loss = 0.0036288856506347658\n",
            "Epoch 4, minibatch 0: train acc = 0.8984375, train loss = 0.0009478090214543045\n",
            "Epoch 4, minibatch 50: train acc = 0.9410232843137255, train loss = 0.0006648595718776478\n",
            "Epoch 4, minibatch 100: train acc = 0.9389696782178217, train loss = 0.0006813465221093433\n",
            "Epoch 4, minibatch 150: train acc = 0.9391556291390728, train loss = 0.0006792233479733499\n",
            "Epoch 4 done, validation acc = 0.7985, validation loss = 0.0026645368576049804\n",
            "Epoch 5, minibatch 0: train acc = 0.94921875, train loss = 0.0006362854619510472\n",
            "Epoch 5, minibatch 50: train acc = 0.9500612745098039, train loss = 0.0005712979199255214\n",
            "Epoch 5, minibatch 100: train acc = 0.9498762376237624, train loss = 0.0005698543742741689\n",
            "Epoch 5, minibatch 150: train acc = 0.9484685430463576, train loss = 0.0005757383360767996\n",
            "Epoch 5 done, validation acc = 0.8206, validation loss = 0.0026573991775512697\n",
            "Epoch 6, minibatch 0: train acc = 0.9453125, train loss = 0.0005226703360676765\n",
            "Epoch 6, minibatch 50: train acc = 0.9588694852941176, train loss = 0.00047533992020522845\n",
            "Epoch 6, minibatch 100: train acc = 0.9577274133663366, train loss = 0.0004866551423426902\n",
            "Epoch 6, minibatch 150: train acc = 0.9567984271523179, train loss = 0.0004945666288697956\n",
            "Epoch 6 done, validation acc = 0.8075, validation loss = 0.0029737899780273437\n",
            "Epoch 7, minibatch 0: train acc = 0.94140625, train loss = 0.0006736291106790304\n",
            "Epoch 7, minibatch 50: train acc = 0.9642310049019608, train loss = 0.00040734687126150316\n",
            "Epoch 7, minibatch 100: train acc = 0.9629873143564357, train loss = 0.0004216874073637594\n",
            "Epoch 7, minibatch 150: train acc = 0.9599544701986755, train loss = 0.0004519273015047541\n",
            "Epoch 7 done, validation acc = 0.8158, validation loss = 0.0030073719024658204\n",
            "Epoch 8, minibatch 0: train acc = 0.95703125, train loss = 0.00037555780727416277\n",
            "Epoch 8, minibatch 50: train acc = 0.9631587009803921, train loss = 0.0004105314831523334\n",
            "Epoch 8, minibatch 100: train acc = 0.963644801980198, train loss = 0.00040733784732252065\n",
            "Epoch 8, minibatch 150: train acc = 0.9629552980132451, train loss = 0.000410524375786055\n",
            "Epoch 8 done, validation acc = 0.818, validation loss = 0.0032137107849121095\n",
            "Epoch 9, minibatch 0: train acc = 0.98046875, train loss = 0.0002625620400067419\n",
            "Epoch 9, minibatch 50: train acc = 0.9721200980392157, train loss = 0.00030784948053313234\n",
            "Epoch 9, minibatch 100: train acc = 0.9731590346534653, train loss = 0.0003001779354739897\n",
            "Epoch 9, minibatch 150: train acc = 0.9699658526490066, train loss = 0.00033834704894893217\n",
            "Epoch 9 done, validation acc = 0.818, validation loss = 0.003187801933288574\n"
          ]
        }
      ]
    },
    {
      "cell_type": "markdown",
      "source": [
        "## 总结规划下一步\n",
        "\n",
        "> 可以看到一共跑了20轮的结果也不是很好，0.818的准确率，在这个程度上还比不上用VGG迁移模型的结果。19+28=47min\n",
        "\n",
        "下面我们计划用一下ResNet的预训练模型来重新试一下。"
      ],
      "metadata": {
        "id": "TKsO-1dK441Z"
      }
    },
    {
      "cell_type": "code",
      "source": [
        "import torchvision.models as models\n",
        "resnet18 = models.resnet18(weights=models.ResNet18_Weights.DEFAULT)\n",
        "resnet50 = models.resnet50(weights=models.ResNet50_Weights.DEFAULT)\n",
        "resnet101 = models.resnet101(weights=models.ResNet101_Weights.DEFAULT)"
      ],
      "metadata": {
        "id": "CvfX8uCX5bXQ",
        "colab": {
          "base_uri": "https://localhost:8080/"
        },
        "outputId": "39cf5047-5cb5-4959-af9c-2bba83b3547f"
      },
      "execution_count": 23,
      "outputs": [
        {
          "output_type": "stream",
          "name": "stderr",
          "text": [
            "Downloading: \"https://download.pytorch.org/models/resnet50-11ad3fa6.pth\" to /root/.cache/torch/hub/checkpoints/resnet50-11ad3fa6.pth\n",
            "100%|██████████| 97.8M/97.8M [00:00<00:00, 190MB/s]\n",
            "Downloading: \"https://download.pytorch.org/models/resnet101-cd907fc2.pth\" to /root/.cache/torch/hub/checkpoints/resnet101-cd907fc2.pth\n",
            "100%|██████████| 171M/171M [00:00<00:00, 240MB/s]\n"
          ]
        }
      ]
    },
    {
      "cell_type": "code",
      "source": [
        "from torchinfo import summary\n",
        "summary(resnet18, input_size=(1, 3, 224, 224))"
      ],
      "metadata": {
        "colab": {
          "base_uri": "https://localhost:8080/"
        },
        "id": "t4iSYA9FGOar",
        "outputId": "69709fee-7612-40de-a84d-2aee9de9abe9"
      },
      "execution_count": 24,
      "outputs": [
        {
          "output_type": "stream",
          "name": "stderr",
          "text": [
            "/usr/local/lib/python3.9/dist-packages/torchinfo/torchinfo.py:477: UserWarning: TypedStorage is deprecated. It will be removed in the future and UntypedStorage will be the only storage class. This should only matter to you if you are using storages directly.  To access UntypedStorage directly, use tensor.untyped_storage() instead of tensor.storage()\n",
            "  action_fn=lambda data: sys.getsizeof(data.storage()),\n",
            "/usr/local/lib/python3.9/dist-packages/torch/storage.py:665: UserWarning: TypedStorage is deprecated. It will be removed in the future and UntypedStorage will be the only storage class. This should only matter to you if you are using storages directly.  To access UntypedStorage directly, use tensor.untyped_storage() instead of tensor.storage()\n",
            "  return super().__sizeof__() + self.nbytes()\n"
          ]
        },
        {
          "output_type": "execute_result",
          "data": {
            "text/plain": [
              "==========================================================================================\n",
              "Layer (type:depth-idx)                   Output Shape              Param #\n",
              "==========================================================================================\n",
              "ResNet                                   [1, 1000]                 --\n",
              "├─Conv2d: 1-1                            [1, 64, 112, 112]         9,408\n",
              "├─BatchNorm2d: 1-2                       [1, 64, 112, 112]         128\n",
              "├─ReLU: 1-3                              [1, 64, 112, 112]         --\n",
              "├─MaxPool2d: 1-4                         [1, 64, 56, 56]           --\n",
              "├─Sequential: 1-5                        [1, 64, 56, 56]           --\n",
              "│    └─BasicBlock: 2-1                   [1, 64, 56, 56]           --\n",
              "│    │    └─Conv2d: 3-1                  [1, 64, 56, 56]           36,864\n",
              "│    │    └─BatchNorm2d: 3-2             [1, 64, 56, 56]           128\n",
              "│    │    └─ReLU: 3-3                    [1, 64, 56, 56]           --\n",
              "│    │    └─Conv2d: 3-4                  [1, 64, 56, 56]           36,864\n",
              "│    │    └─BatchNorm2d: 3-5             [1, 64, 56, 56]           128\n",
              "│    │    └─ReLU: 3-6                    [1, 64, 56, 56]           --\n",
              "│    └─BasicBlock: 2-2                   [1, 64, 56, 56]           --\n",
              "│    │    └─Conv2d: 3-7                  [1, 64, 56, 56]           36,864\n",
              "│    │    └─BatchNorm2d: 3-8             [1, 64, 56, 56]           128\n",
              "│    │    └─ReLU: 3-9                    [1, 64, 56, 56]           --\n",
              "│    │    └─Conv2d: 3-10                 [1, 64, 56, 56]           36,864\n",
              "│    │    └─BatchNorm2d: 3-11            [1, 64, 56, 56]           128\n",
              "│    │    └─ReLU: 3-12                   [1, 64, 56, 56]           --\n",
              "├─Sequential: 1-6                        [1, 128, 28, 28]          --\n",
              "│    └─BasicBlock: 2-3                   [1, 128, 28, 28]          --\n",
              "│    │    └─Conv2d: 3-13                 [1, 128, 28, 28]          73,728\n",
              "│    │    └─BatchNorm2d: 3-14            [1, 128, 28, 28]          256\n",
              "│    │    └─ReLU: 3-15                   [1, 128, 28, 28]          --\n",
              "│    │    └─Conv2d: 3-16                 [1, 128, 28, 28]          147,456\n",
              "│    │    └─BatchNorm2d: 3-17            [1, 128, 28, 28]          256\n",
              "│    │    └─Sequential: 3-18             [1, 128, 28, 28]          8,448\n",
              "│    │    └─ReLU: 3-19                   [1, 128, 28, 28]          --\n",
              "│    └─BasicBlock: 2-4                   [1, 128, 28, 28]          --\n",
              "│    │    └─Conv2d: 3-20                 [1, 128, 28, 28]          147,456\n",
              "│    │    └─BatchNorm2d: 3-21            [1, 128, 28, 28]          256\n",
              "│    │    └─ReLU: 3-22                   [1, 128, 28, 28]          --\n",
              "│    │    └─Conv2d: 3-23                 [1, 128, 28, 28]          147,456\n",
              "│    │    └─BatchNorm2d: 3-24            [1, 128, 28, 28]          256\n",
              "│    │    └─ReLU: 3-25                   [1, 128, 28, 28]          --\n",
              "├─Sequential: 1-7                        [1, 256, 14, 14]          --\n",
              "│    └─BasicBlock: 2-5                   [1, 256, 14, 14]          --\n",
              "│    │    └─Conv2d: 3-26                 [1, 256, 14, 14]          294,912\n",
              "│    │    └─BatchNorm2d: 3-27            [1, 256, 14, 14]          512\n",
              "│    │    └─ReLU: 3-28                   [1, 256, 14, 14]          --\n",
              "│    │    └─Conv2d: 3-29                 [1, 256, 14, 14]          589,824\n",
              "│    │    └─BatchNorm2d: 3-30            [1, 256, 14, 14]          512\n",
              "│    │    └─Sequential: 3-31             [1, 256, 14, 14]          33,280\n",
              "│    │    └─ReLU: 3-32                   [1, 256, 14, 14]          --\n",
              "│    └─BasicBlock: 2-6                   [1, 256, 14, 14]          --\n",
              "│    │    └─Conv2d: 3-33                 [1, 256, 14, 14]          589,824\n",
              "│    │    └─BatchNorm2d: 3-34            [1, 256, 14, 14]          512\n",
              "│    │    └─ReLU: 3-35                   [1, 256, 14, 14]          --\n",
              "│    │    └─Conv2d: 3-36                 [1, 256, 14, 14]          589,824\n",
              "│    │    └─BatchNorm2d: 3-37            [1, 256, 14, 14]          512\n",
              "│    │    └─ReLU: 3-38                   [1, 256, 14, 14]          --\n",
              "├─Sequential: 1-8                        [1, 512, 7, 7]            --\n",
              "│    └─BasicBlock: 2-7                   [1, 512, 7, 7]            --\n",
              "│    │    └─Conv2d: 3-39                 [1, 512, 7, 7]            1,179,648\n",
              "│    │    └─BatchNorm2d: 3-40            [1, 512, 7, 7]            1,024\n",
              "│    │    └─ReLU: 3-41                   [1, 512, 7, 7]            --\n",
              "│    │    └─Conv2d: 3-42                 [1, 512, 7, 7]            2,359,296\n",
              "│    │    └─BatchNorm2d: 3-43            [1, 512, 7, 7]            1,024\n",
              "│    │    └─Sequential: 3-44             [1, 512, 7, 7]            132,096\n",
              "│    │    └─ReLU: 3-45                   [1, 512, 7, 7]            --\n",
              "│    └─BasicBlock: 2-8                   [1, 512, 7, 7]            --\n",
              "│    │    └─Conv2d: 3-46                 [1, 512, 7, 7]            2,359,296\n",
              "│    │    └─BatchNorm2d: 3-47            [1, 512, 7, 7]            1,024\n",
              "│    │    └─ReLU: 3-48                   [1, 512, 7, 7]            --\n",
              "│    │    └─Conv2d: 3-49                 [1, 512, 7, 7]            2,359,296\n",
              "│    │    └─BatchNorm2d: 3-50            [1, 512, 7, 7]            1,024\n",
              "│    │    └─ReLU: 3-51                   [1, 512, 7, 7]            --\n",
              "├─AdaptiveAvgPool2d: 1-9                 [1, 512, 1, 1]            --\n",
              "├─Linear: 1-10                           [1, 1000]                 513,000\n",
              "==========================================================================================\n",
              "Total params: 11,689,512\n",
              "Trainable params: 11,689,512\n",
              "Non-trainable params: 0\n",
              "Total mult-adds (G): 1.81\n",
              "==========================================================================================\n",
              "Input size (MB): 0.60\n",
              "Forward/backward pass size (MB): 39.75\n",
              "Params size (MB): 46.76\n",
              "Estimated Total Size (MB): 87.11\n",
              "=========================================================================================="
            ]
          },
          "metadata": {},
          "execution_count": 24
        }
      ]
    },
    {
      "cell_type": "markdown",
      "source": [
        "### resnet18\n",
        "\n",
        "试图改一下resnet中最后的分类器。"
      ],
      "metadata": {
        "id": "ZmKJ13IpG0hH"
      }
    },
    {
      "cell_type": "code",
      "source": [
        "resnet18 = resnet18.to(device)"
      ],
      "metadata": {
        "id": "dR3GA-O_NOnI"
      },
      "execution_count": 25,
      "outputs": []
    },
    {
      "cell_type": "code",
      "source": [
        "resnet18.fc = nn.Linear(512,10).to(device)"
      ],
      "metadata": {
        "id": "5ca5WxvpG8Uj"
      },
      "execution_count": 26,
      "outputs": []
    },
    {
      "cell_type": "code",
      "source": [
        "for x in resnet18.parameters():\n",
        "    x.requires_grad = False\n",
        "\n",
        "for x in resnet18.fc.parameters():\n",
        "    x.requires_grad = True"
      ],
      "metadata": {
        "id": "0KG4JmzdJta9"
      },
      "execution_count": 27,
      "outputs": []
    },
    {
      "cell_type": "code",
      "source": [
        "summary(resnet18, input_size=(128, 3, 224, 224))"
      ],
      "metadata": {
        "colab": {
          "base_uri": "https://localhost:8080/"
        },
        "id": "rqlgQT3UJ8Dk",
        "outputId": "bb5f7309-154c-421b-caf1-6851568dfb05"
      },
      "execution_count": 30,
      "outputs": [
        {
          "output_type": "execute_result",
          "data": {
            "text/plain": [
              "==========================================================================================\n",
              "Layer (type:depth-idx)                   Output Shape              Param #\n",
              "==========================================================================================\n",
              "ResNet                                   [128, 10]                 --\n",
              "├─Conv2d: 1-1                            [128, 64, 112, 112]       (9,408)\n",
              "├─BatchNorm2d: 1-2                       [128, 64, 112, 112]       (128)\n",
              "├─ReLU: 1-3                              [128, 64, 112, 112]       --\n",
              "├─MaxPool2d: 1-4                         [128, 64, 56, 56]         --\n",
              "├─Sequential: 1-5                        [128, 64, 56, 56]         --\n",
              "│    └─BasicBlock: 2-1                   [128, 64, 56, 56]         --\n",
              "│    │    └─Conv2d: 3-1                  [128, 64, 56, 56]         (36,864)\n",
              "│    │    └─BatchNorm2d: 3-2             [128, 64, 56, 56]         (128)\n",
              "│    │    └─ReLU: 3-3                    [128, 64, 56, 56]         --\n",
              "│    │    └─Conv2d: 3-4                  [128, 64, 56, 56]         (36,864)\n",
              "│    │    └─BatchNorm2d: 3-5             [128, 64, 56, 56]         (128)\n",
              "│    │    └─ReLU: 3-6                    [128, 64, 56, 56]         --\n",
              "│    └─BasicBlock: 2-2                   [128, 64, 56, 56]         --\n",
              "│    │    └─Conv2d: 3-7                  [128, 64, 56, 56]         (36,864)\n",
              "│    │    └─BatchNorm2d: 3-8             [128, 64, 56, 56]         (128)\n",
              "│    │    └─ReLU: 3-9                    [128, 64, 56, 56]         --\n",
              "│    │    └─Conv2d: 3-10                 [128, 64, 56, 56]         (36,864)\n",
              "│    │    └─BatchNorm2d: 3-11            [128, 64, 56, 56]         (128)\n",
              "│    │    └─ReLU: 3-12                   [128, 64, 56, 56]         --\n",
              "├─Sequential: 1-6                        [128, 128, 28, 28]        --\n",
              "│    └─BasicBlock: 2-3                   [128, 128, 28, 28]        --\n",
              "│    │    └─Conv2d: 3-13                 [128, 128, 28, 28]        (73,728)\n",
              "│    │    └─BatchNorm2d: 3-14            [128, 128, 28, 28]        (256)\n",
              "│    │    └─ReLU: 3-15                   [128, 128, 28, 28]        --\n",
              "│    │    └─Conv2d: 3-16                 [128, 128, 28, 28]        (147,456)\n",
              "│    │    └─BatchNorm2d: 3-17            [128, 128, 28, 28]        (256)\n",
              "│    │    └─Sequential: 3-18             [128, 128, 28, 28]        (8,448)\n",
              "│    │    └─ReLU: 3-19                   [128, 128, 28, 28]        --\n",
              "│    └─BasicBlock: 2-4                   [128, 128, 28, 28]        --\n",
              "│    │    └─Conv2d: 3-20                 [128, 128, 28, 28]        (147,456)\n",
              "│    │    └─BatchNorm2d: 3-21            [128, 128, 28, 28]        (256)\n",
              "│    │    └─ReLU: 3-22                   [128, 128, 28, 28]        --\n",
              "│    │    └─Conv2d: 3-23                 [128, 128, 28, 28]        (147,456)\n",
              "│    │    └─BatchNorm2d: 3-24            [128, 128, 28, 28]        (256)\n",
              "│    │    └─ReLU: 3-25                   [128, 128, 28, 28]        --\n",
              "├─Sequential: 1-7                        [128, 256, 14, 14]        --\n",
              "│    └─BasicBlock: 2-5                   [128, 256, 14, 14]        --\n",
              "│    │    └─Conv2d: 3-26                 [128, 256, 14, 14]        (294,912)\n",
              "│    │    └─BatchNorm2d: 3-27            [128, 256, 14, 14]        (512)\n",
              "│    │    └─ReLU: 3-28                   [128, 256, 14, 14]        --\n",
              "│    │    └─Conv2d: 3-29                 [128, 256, 14, 14]        (589,824)\n",
              "│    │    └─BatchNorm2d: 3-30            [128, 256, 14, 14]        (512)\n",
              "│    │    └─Sequential: 3-31             [128, 256, 14, 14]        (33,280)\n",
              "│    │    └─ReLU: 3-32                   [128, 256, 14, 14]        --\n",
              "│    └─BasicBlock: 2-6                   [128, 256, 14, 14]        --\n",
              "│    │    └─Conv2d: 3-33                 [128, 256, 14, 14]        (589,824)\n",
              "│    │    └─BatchNorm2d: 3-34            [128, 256, 14, 14]        (512)\n",
              "│    │    └─ReLU: 3-35                   [128, 256, 14, 14]        --\n",
              "│    │    └─Conv2d: 3-36                 [128, 256, 14, 14]        (589,824)\n",
              "│    │    └─BatchNorm2d: 3-37            [128, 256, 14, 14]        (512)\n",
              "│    │    └─ReLU: 3-38                   [128, 256, 14, 14]        --\n",
              "├─Sequential: 1-8                        [128, 512, 7, 7]          --\n",
              "│    └─BasicBlock: 2-7                   [128, 512, 7, 7]          --\n",
              "│    │    └─Conv2d: 3-39                 [128, 512, 7, 7]          (1,179,648)\n",
              "│    │    └─BatchNorm2d: 3-40            [128, 512, 7, 7]          (1,024)\n",
              "│    │    └─ReLU: 3-41                   [128, 512, 7, 7]          --\n",
              "│    │    └─Conv2d: 3-42                 [128, 512, 7, 7]          (2,359,296)\n",
              "│    │    └─BatchNorm2d: 3-43            [128, 512, 7, 7]          (1,024)\n",
              "│    │    └─Sequential: 3-44             [128, 512, 7, 7]          (132,096)\n",
              "│    │    └─ReLU: 3-45                   [128, 512, 7, 7]          --\n",
              "│    └─BasicBlock: 2-8                   [128, 512, 7, 7]          --\n",
              "│    │    └─Conv2d: 3-46                 [128, 512, 7, 7]          (2,359,296)\n",
              "│    │    └─BatchNorm2d: 3-47            [128, 512, 7, 7]          (1,024)\n",
              "│    │    └─ReLU: 3-48                   [128, 512, 7, 7]          --\n",
              "│    │    └─Conv2d: 3-49                 [128, 512, 7, 7]          (2,359,296)\n",
              "│    │    └─BatchNorm2d: 3-50            [128, 512, 7, 7]          (1,024)\n",
              "│    │    └─ReLU: 3-51                   [128, 512, 7, 7]          --\n",
              "├─AdaptiveAvgPool2d: 1-9                 [128, 512, 1, 1]          --\n",
              "├─Linear: 1-10                           [128, 10]                 5,130\n",
              "==========================================================================================\n",
              "Total params: 11,181,642\n",
              "Trainable params: 5,130\n",
              "Non-trainable params: 11,176,512\n",
              "Total mult-adds (G): 232.14\n",
              "==========================================================================================\n",
              "Input size (MB): 77.07\n",
              "Forward/backward pass size (MB): 5086.65\n",
              "Params size (MB): 44.73\n",
              "Estimated Total Size (MB): 5208.45\n",
              "=========================================================================================="
            ]
          },
          "metadata": {},
          "execution_count": 30
        }
      ]
    },
    {
      "cell_type": "code",
      "source": [
        "loss_fn = nn.CrossEntropyLoss() # 使用交叉熵损失函数\n",
        "optimizer = torch.optim.Adam(resnet18.parameters(), lr=0.001) # 使用 Adam 优化器\n",
        "epochs = 3\n",
        "batch_size = 128\n",
        "trainloader = torch.utils.data.DataLoader(trainset, batch_size=batch_size,shuffle=True, num_workers=2)\n",
        "testloader = torch.utils.data.DataLoader(testset, batch_size=batch_size,shuffle=False, num_workers=2)\n",
        "train_long(resnet18,trainloader,testloader,epochs=epochs,optimizer = optimizer,loss_fn=torch.nn.CrossEntropyLoss(),print_freq=50)"
      ],
      "metadata": {
        "colab": {
          "base_uri": "https://localhost:8080/"
        },
        "id": "TMPlDEYBFun8",
        "outputId": "07a29c70-cf43-4698-d398-622f9a747591"
      },
      "execution_count": 31,
      "outputs": [
        {
          "output_type": "stream",
          "name": "stdout",
          "text": [
            "Epoch 0, minibatch 0: train acc = 0.1328125, train loss = 0.01911235600709915\n",
            "Epoch 0, minibatch 50: train acc = 0.44332107843137253, train loss = 0.013426314381992115\n",
            "Epoch 0, minibatch 100: train acc = 0.5496596534653465, train loss = 0.011156915438057172\n",
            "Epoch 0, minibatch 150: train acc = 0.5987686258278145, train loss = 0.009954570934472495\n",
            "Epoch 0, minibatch 200: train acc = 0.6278762437810945, train loss = 0.009208872543638618\n",
            "Epoch 0, minibatch 250: train acc = 0.6491222609561753, train loss = 0.008655056060547847\n",
            "Epoch 0, minibatch 300: train acc = 0.6635953073089701, train loss = 0.00825174464735874\n",
            "Epoch 0, minibatch 350: train acc = 0.6758814102564102, train loss = 0.00794188928739977\n",
            "Epoch 0 done, validation acc = 0.7521, validation loss = 0.005845168304443359\n",
            "Epoch 1, minibatch 0: train acc = 0.71875, train loss = 0.006415348965674639\n",
            "Epoch 1, minibatch 50: train acc = 0.7519914215686274, train loss = 0.0057582586419348625\n",
            "Epoch 1, minibatch 100: train acc = 0.7493038366336634, train loss = 0.005733533070819212\n",
            "Epoch 1, minibatch 150: train acc = 0.753983857615894, train loss = 0.005651286500968681\n",
            "Epoch 1, minibatch 200: train acc = 0.7554804104477612, train loss = 0.005617440043397211\n",
            "Epoch 1, minibatch 250: train acc = 0.7566608565737052, train loss = 0.005594793068935197\n",
            "Epoch 1, minibatch 300: train acc = 0.7565147425249169, train loss = 0.0055788486106847215\n",
            "Epoch 1, minibatch 350: train acc = 0.7590366809116809, train loss = 0.005539457682530765\n",
            "Epoch 1 done, validation acc = 0.7703, validation loss = 0.005424020767211914\n",
            "Epoch 2, minibatch 0: train acc = 0.765625, train loss = 0.005494900979101658\n",
            "Epoch 2, minibatch 50: train acc = 0.7665441176470589, train loss = 0.005398335994458666\n",
            "Epoch 2, minibatch 100: train acc = 0.7693378712871287, train loss = 0.005342307067153477\n",
            "Epoch 2, minibatch 150: train acc = 0.7696605960264901, train loss = 0.005286090816093597\n",
            "Epoch 2, minibatch 200: train acc = 0.7685401119402985, train loss = 0.005303919611878656\n",
            "Epoch 2, minibatch 250: train acc = 0.7687686752988048, train loss = 0.005276579305945165\n",
            "Epoch 2, minibatch 300: train acc = 0.7700114202657807, train loss = 0.005250721674820909\n",
            "Epoch 2, minibatch 350: train acc = 0.76994301994302, train loss = 0.005232268928462624\n",
            "Epoch 2 done, validation acc = 0.778, validation loss = 0.005166674041748047\n"
          ]
        }
      ]
    },
    {
      "cell_type": "code",
      "source": [
        "optimizer.param_groups[0]['lr']"
      ],
      "metadata": {
        "colab": {
          "base_uri": "https://localhost:8080/"
        },
        "id": "xwOhCFMoKJQ0",
        "outputId": "ea0f26a3-a3b8-4901-bf89-01c82f70a40b"
      },
      "execution_count": 32,
      "outputs": [
        {
          "output_type": "execute_result",
          "data": {
            "text/plain": [
              "0.001"
            ]
          },
          "metadata": {},
          "execution_count": 32
        }
      ]
    },
    {
      "cell_type": "code",
      "source": [
        "optimizer.param_groups[0]['lr'] = 1e-5"
      ],
      "metadata": {
        "id": "L-oXWl4KO-W5"
      },
      "execution_count": 33,
      "outputs": []
    },
    {
      "cell_type": "code",
      "source": [
        "train_long(resnet18,trainloader,testloader,epochs=2,optimizer = optimizer,loss_fn=torch.nn.CrossEntropyLoss(),print_freq=50)"
      ],
      "metadata": {
        "colab": {
          "base_uri": "https://localhost:8080/"
        },
        "id": "A3erKmv0PBr_",
        "outputId": "828a0bf9-945d-4921-9554-d9721ea520d4"
      },
      "execution_count": 34,
      "outputs": [
        {
          "output_type": "stream",
          "name": "stdout",
          "text": [
            "Epoch 0, minibatch 0: train acc = 0.734375, train loss = 0.005999831948429346\n",
            "Epoch 0, minibatch 50: train acc = 0.7775735294117647, train loss = 0.00509604577924691\n",
            "Epoch 0, minibatch 100: train acc = 0.7850402227722773, train loss = 0.004953683602927935\n",
            "Epoch 0, minibatch 150: train acc = 0.7843543046357616, train loss = 0.004964422311214422\n",
            "Epoch 0, minibatch 200: train acc = 0.7826103855721394, train loss = 0.004985396541766266\n",
            "Epoch 0, minibatch 250: train acc = 0.7825883964143426, train loss = 0.004975365927494854\n",
            "Epoch 0, minibatch 300: train acc = 0.7821324750830565, train loss = 0.004972671353539755\n",
            "Epoch 0, minibatch 350: train acc = 0.7818732193732194, train loss = 0.004977933701626596\n",
            "Epoch 0 done, validation acc = 0.7805, validation loss = 0.005105568695068359\n",
            "Epoch 1, minibatch 0: train acc = 0.7734375, train loss = 0.004417629446834326\n",
            "Epoch 1, minibatch 50: train acc = 0.7771139705882353, train loss = 0.0049811771102980075\n",
            "Epoch 1, minibatch 100: train acc = 0.7792388613861386, train loss = 0.004998945953822372\n",
            "Epoch 1, minibatch 150: train acc = 0.7786630794701986, train loss = 0.005001139956594303\n",
            "Epoch 1, minibatch 200: train acc = 0.7803560323383084, train loss = 0.004980459735168153\n",
            "Epoch 1, minibatch 250: train acc = 0.7807831175298805, train loss = 0.004976102555415545\n",
            "Epoch 1, minibatch 300: train acc = 0.7822362956810631, train loss = 0.004952004977634975\n",
            "Epoch 1, minibatch 350: train acc = 0.7819622507122507, train loss = 0.004957786312809697\n",
            "Epoch 1 done, validation acc = 0.778, validation loss = 0.005101254653930664\n"
          ]
        }
      ]
    },
    {
      "cell_type": "code",
      "source": [
        "## 尝试开始微调\n",
        "for x in resnet18.parameters():\n",
        "    x.requires_grad = True\n",
        "\n",
        "loss_fn = nn.CrossEntropyLoss() # 使用交叉熵损失函数\n",
        "optimizer = torch.optim.Adam(resnet18.parameters(), lr=0.001) # 使用 Adam 优化器\n",
        "epochs = 2\n",
        "batch_size = 128\n",
        "trainloader = torch.utils.data.DataLoader(trainset, batch_size=batch_size,shuffle=True, num_workers=2)\n",
        "testloader = torch.utils.data.DataLoader(testset, batch_size=batch_size,shuffle=False, num_workers=2)\n",
        "train_long(resnet18,trainloader,testloader,epochs=epochs,optimizer = optimizer,loss_fn=torch.nn.CrossEntropyLoss(),print_freq=50)\n"
      ],
      "metadata": {
        "id": "YFPnJ0d2SxbE"
      },
      "execution_count": null,
      "outputs": []
    },
    {
      "cell_type": "markdown",
      "source": [
        "> 可以看到靠预训练模型前期训练测试集准确率提升确实很快，但是在后期却不如之前自己定义的从头开始训练的数据，就是以为提取特征从层没有很好的去fit我们的CIFAR10数据集\n",
        "\n",
        "### resnet50\n",
        "\n"
      ],
      "metadata": {
        "id": "P4dVL4fPP-ot"
      }
    },
    {
      "cell_type": "code",
      "source": [
        "resnet50 = resnet50.to(device)"
      ],
      "metadata": {
        "id": "pOG5hiMfPGxC"
      },
      "execution_count": 36,
      "outputs": []
    },
    {
      "cell_type": "code",
      "source": [
        "resnet50.fc"
      ],
      "metadata": {
        "colab": {
          "base_uri": "https://localhost:8080/"
        },
        "id": "oVzdJ6_6Q2G3",
        "outputId": "f0670cbb-957b-4233-c40f-7d73716e68b9"
      },
      "execution_count": 37,
      "outputs": [
        {
          "output_type": "execute_result",
          "data": {
            "text/plain": [
              "Linear(in_features=2048, out_features=1000, bias=True)"
            ]
          },
          "metadata": {},
          "execution_count": 37
        }
      ]
    },
    {
      "cell_type": "code",
      "source": [
        "resnet50.fc = nn.Linear(2048,10).to(device)"
      ],
      "metadata": {
        "id": "qlsA926hQivd"
      },
      "execution_count": 38,
      "outputs": []
    },
    {
      "cell_type": "code",
      "source": [
        "for x in resnet50.parameters():\n",
        "    x.requires_grad = False\n",
        "\n",
        "for x in resnet50.fc.parameters():\n",
        "    x.requires_grad = True"
      ],
      "metadata": {
        "id": "skzZZpK1Q5RY"
      },
      "execution_count": 39,
      "outputs": []
    },
    {
      "cell_type": "code",
      "source": [
        "summary(resnet50, input_size=(128, 3, 224, 224))"
      ],
      "metadata": {
        "colab": {
          "base_uri": "https://localhost:8080/"
        },
        "id": "1pt7yTH-Q_HT",
        "outputId": "20095c56-4e9f-421f-eeda-906934c322e0"
      },
      "execution_count": 40,
      "outputs": [
        {
          "output_type": "stream",
          "name": "stderr",
          "text": [
            "/usr/local/lib/python3.9/dist-packages/torchinfo/torchinfo.py:477: UserWarning: TypedStorage is deprecated. It will be removed in the future and UntypedStorage will be the only storage class. This should only matter to you if you are using storages directly.  To access UntypedStorage directly, use tensor.untyped_storage() instead of tensor.storage()\n",
            "  action_fn=lambda data: sys.getsizeof(data.storage()),\n",
            "/usr/local/lib/python3.9/dist-packages/torch/storage.py:665: UserWarning: TypedStorage is deprecated. It will be removed in the future and UntypedStorage will be the only storage class. This should only matter to you if you are using storages directly.  To access UntypedStorage directly, use tensor.untyped_storage() instead of tensor.storage()\n",
            "  return super().__sizeof__() + self.nbytes()\n"
          ]
        },
        {
          "output_type": "execute_result",
          "data": {
            "text/plain": [
              "==========================================================================================\n",
              "Layer (type:depth-idx)                   Output Shape              Param #\n",
              "==========================================================================================\n",
              "ResNet                                   [128, 10]                 --\n",
              "├─Conv2d: 1-1                            [128, 64, 112, 112]       (9,408)\n",
              "├─BatchNorm2d: 1-2                       [128, 64, 112, 112]       (128)\n",
              "├─ReLU: 1-3                              [128, 64, 112, 112]       --\n",
              "├─MaxPool2d: 1-4                         [128, 64, 56, 56]         --\n",
              "├─Sequential: 1-5                        [128, 256, 56, 56]        --\n",
              "│    └─Bottleneck: 2-1                   [128, 256, 56, 56]        --\n",
              "│    │    └─Conv2d: 3-1                  [128, 64, 56, 56]         (4,096)\n",
              "│    │    └─BatchNorm2d: 3-2             [128, 64, 56, 56]         (128)\n",
              "│    │    └─ReLU: 3-3                    [128, 64, 56, 56]         --\n",
              "│    │    └─Conv2d: 3-4                  [128, 64, 56, 56]         (36,864)\n",
              "│    │    └─BatchNorm2d: 3-5             [128, 64, 56, 56]         (128)\n",
              "│    │    └─ReLU: 3-6                    [128, 64, 56, 56]         --\n",
              "│    │    └─Conv2d: 3-7                  [128, 256, 56, 56]        (16,384)\n",
              "│    │    └─BatchNorm2d: 3-8             [128, 256, 56, 56]        (512)\n",
              "│    │    └─Sequential: 3-9              [128, 256, 56, 56]        (16,896)\n",
              "│    │    └─ReLU: 3-10                   [128, 256, 56, 56]        --\n",
              "│    └─Bottleneck: 2-2                   [128, 256, 56, 56]        --\n",
              "│    │    └─Conv2d: 3-11                 [128, 64, 56, 56]         (16,384)\n",
              "│    │    └─BatchNorm2d: 3-12            [128, 64, 56, 56]         (128)\n",
              "│    │    └─ReLU: 3-13                   [128, 64, 56, 56]         --\n",
              "│    │    └─Conv2d: 3-14                 [128, 64, 56, 56]         (36,864)\n",
              "│    │    └─BatchNorm2d: 3-15            [128, 64, 56, 56]         (128)\n",
              "│    │    └─ReLU: 3-16                   [128, 64, 56, 56]         --\n",
              "│    │    └─Conv2d: 3-17                 [128, 256, 56, 56]        (16,384)\n",
              "│    │    └─BatchNorm2d: 3-18            [128, 256, 56, 56]        (512)\n",
              "│    │    └─ReLU: 3-19                   [128, 256, 56, 56]        --\n",
              "│    └─Bottleneck: 2-3                   [128, 256, 56, 56]        --\n",
              "│    │    └─Conv2d: 3-20                 [128, 64, 56, 56]         (16,384)\n",
              "│    │    └─BatchNorm2d: 3-21            [128, 64, 56, 56]         (128)\n",
              "│    │    └─ReLU: 3-22                   [128, 64, 56, 56]         --\n",
              "│    │    └─Conv2d: 3-23                 [128, 64, 56, 56]         (36,864)\n",
              "│    │    └─BatchNorm2d: 3-24            [128, 64, 56, 56]         (128)\n",
              "│    │    └─ReLU: 3-25                   [128, 64, 56, 56]         --\n",
              "│    │    └─Conv2d: 3-26                 [128, 256, 56, 56]        (16,384)\n",
              "│    │    └─BatchNorm2d: 3-27            [128, 256, 56, 56]        (512)\n",
              "│    │    └─ReLU: 3-28                   [128, 256, 56, 56]        --\n",
              "├─Sequential: 1-6                        [128, 512, 28, 28]        --\n",
              "│    └─Bottleneck: 2-4                   [128, 512, 28, 28]        --\n",
              "│    │    └─Conv2d: 3-29                 [128, 128, 56, 56]        (32,768)\n",
              "│    │    └─BatchNorm2d: 3-30            [128, 128, 56, 56]        (256)\n",
              "│    │    └─ReLU: 3-31                   [128, 128, 56, 56]        --\n",
              "│    │    └─Conv2d: 3-32                 [128, 128, 28, 28]        (147,456)\n",
              "│    │    └─BatchNorm2d: 3-33            [128, 128, 28, 28]        (256)\n",
              "│    │    └─ReLU: 3-34                   [128, 128, 28, 28]        --\n",
              "│    │    └─Conv2d: 3-35                 [128, 512, 28, 28]        (65,536)\n",
              "│    │    └─BatchNorm2d: 3-36            [128, 512, 28, 28]        (1,024)\n",
              "│    │    └─Sequential: 3-37             [128, 512, 28, 28]        (132,096)\n",
              "│    │    └─ReLU: 3-38                   [128, 512, 28, 28]        --\n",
              "│    └─Bottleneck: 2-5                   [128, 512, 28, 28]        --\n",
              "│    │    └─Conv2d: 3-39                 [128, 128, 28, 28]        (65,536)\n",
              "│    │    └─BatchNorm2d: 3-40            [128, 128, 28, 28]        (256)\n",
              "│    │    └─ReLU: 3-41                   [128, 128, 28, 28]        --\n",
              "│    │    └─Conv2d: 3-42                 [128, 128, 28, 28]        (147,456)\n",
              "│    │    └─BatchNorm2d: 3-43            [128, 128, 28, 28]        (256)\n",
              "│    │    └─ReLU: 3-44                   [128, 128, 28, 28]        --\n",
              "│    │    └─Conv2d: 3-45                 [128, 512, 28, 28]        (65,536)\n",
              "│    │    └─BatchNorm2d: 3-46            [128, 512, 28, 28]        (1,024)\n",
              "│    │    └─ReLU: 3-47                   [128, 512, 28, 28]        --\n",
              "│    └─Bottleneck: 2-6                   [128, 512, 28, 28]        --\n",
              "│    │    └─Conv2d: 3-48                 [128, 128, 28, 28]        (65,536)\n",
              "│    │    └─BatchNorm2d: 3-49            [128, 128, 28, 28]        (256)\n",
              "│    │    └─ReLU: 3-50                   [128, 128, 28, 28]        --\n",
              "│    │    └─Conv2d: 3-51                 [128, 128, 28, 28]        (147,456)\n",
              "│    │    └─BatchNorm2d: 3-52            [128, 128, 28, 28]        (256)\n",
              "│    │    └─ReLU: 3-53                   [128, 128, 28, 28]        --\n",
              "│    │    └─Conv2d: 3-54                 [128, 512, 28, 28]        (65,536)\n",
              "│    │    └─BatchNorm2d: 3-55            [128, 512, 28, 28]        (1,024)\n",
              "│    │    └─ReLU: 3-56                   [128, 512, 28, 28]        --\n",
              "│    └─Bottleneck: 2-7                   [128, 512, 28, 28]        --\n",
              "│    │    └─Conv2d: 3-57                 [128, 128, 28, 28]        (65,536)\n",
              "│    │    └─BatchNorm2d: 3-58            [128, 128, 28, 28]        (256)\n",
              "│    │    └─ReLU: 3-59                   [128, 128, 28, 28]        --\n",
              "│    │    └─Conv2d: 3-60                 [128, 128, 28, 28]        (147,456)\n",
              "│    │    └─BatchNorm2d: 3-61            [128, 128, 28, 28]        (256)\n",
              "│    │    └─ReLU: 3-62                   [128, 128, 28, 28]        --\n",
              "│    │    └─Conv2d: 3-63                 [128, 512, 28, 28]        (65,536)\n",
              "│    │    └─BatchNorm2d: 3-64            [128, 512, 28, 28]        (1,024)\n",
              "│    │    └─ReLU: 3-65                   [128, 512, 28, 28]        --\n",
              "├─Sequential: 1-7                        [128, 1024, 14, 14]       --\n",
              "│    └─Bottleneck: 2-8                   [128, 1024, 14, 14]       --\n",
              "│    │    └─Conv2d: 3-66                 [128, 256, 28, 28]        (131,072)\n",
              "│    │    └─BatchNorm2d: 3-67            [128, 256, 28, 28]        (512)\n",
              "│    │    └─ReLU: 3-68                   [128, 256, 28, 28]        --\n",
              "│    │    └─Conv2d: 3-69                 [128, 256, 14, 14]        (589,824)\n",
              "│    │    └─BatchNorm2d: 3-70            [128, 256, 14, 14]        (512)\n",
              "│    │    └─ReLU: 3-71                   [128, 256, 14, 14]        --\n",
              "│    │    └─Conv2d: 3-72                 [128, 1024, 14, 14]       (262,144)\n",
              "│    │    └─BatchNorm2d: 3-73            [128, 1024, 14, 14]       (2,048)\n",
              "│    │    └─Sequential: 3-74             [128, 1024, 14, 14]       (526,336)\n",
              "│    │    └─ReLU: 3-75                   [128, 1024, 14, 14]       --\n",
              "│    └─Bottleneck: 2-9                   [128, 1024, 14, 14]       --\n",
              "│    │    └─Conv2d: 3-76                 [128, 256, 14, 14]        (262,144)\n",
              "│    │    └─BatchNorm2d: 3-77            [128, 256, 14, 14]        (512)\n",
              "│    │    └─ReLU: 3-78                   [128, 256, 14, 14]        --\n",
              "│    │    └─Conv2d: 3-79                 [128, 256, 14, 14]        (589,824)\n",
              "│    │    └─BatchNorm2d: 3-80            [128, 256, 14, 14]        (512)\n",
              "│    │    └─ReLU: 3-81                   [128, 256, 14, 14]        --\n",
              "│    │    └─Conv2d: 3-82                 [128, 1024, 14, 14]       (262,144)\n",
              "│    │    └─BatchNorm2d: 3-83            [128, 1024, 14, 14]       (2,048)\n",
              "│    │    └─ReLU: 3-84                   [128, 1024, 14, 14]       --\n",
              "│    └─Bottleneck: 2-10                  [128, 1024, 14, 14]       --\n",
              "│    │    └─Conv2d: 3-85                 [128, 256, 14, 14]        (262,144)\n",
              "│    │    └─BatchNorm2d: 3-86            [128, 256, 14, 14]        (512)\n",
              "│    │    └─ReLU: 3-87                   [128, 256, 14, 14]        --\n",
              "│    │    └─Conv2d: 3-88                 [128, 256, 14, 14]        (589,824)\n",
              "│    │    └─BatchNorm2d: 3-89            [128, 256, 14, 14]        (512)\n",
              "│    │    └─ReLU: 3-90                   [128, 256, 14, 14]        --\n",
              "│    │    └─Conv2d: 3-91                 [128, 1024, 14, 14]       (262,144)\n",
              "│    │    └─BatchNorm2d: 3-92            [128, 1024, 14, 14]       (2,048)\n",
              "│    │    └─ReLU: 3-93                   [128, 1024, 14, 14]       --\n",
              "│    └─Bottleneck: 2-11                  [128, 1024, 14, 14]       --\n",
              "│    │    └─Conv2d: 3-94                 [128, 256, 14, 14]        (262,144)\n",
              "│    │    └─BatchNorm2d: 3-95            [128, 256, 14, 14]        (512)\n",
              "│    │    └─ReLU: 3-96                   [128, 256, 14, 14]        --\n",
              "│    │    └─Conv2d: 3-97                 [128, 256, 14, 14]        (589,824)\n",
              "│    │    └─BatchNorm2d: 3-98            [128, 256, 14, 14]        (512)\n",
              "│    │    └─ReLU: 3-99                   [128, 256, 14, 14]        --\n",
              "│    │    └─Conv2d: 3-100                [128, 1024, 14, 14]       (262,144)\n",
              "│    │    └─BatchNorm2d: 3-101           [128, 1024, 14, 14]       (2,048)\n",
              "│    │    └─ReLU: 3-102                  [128, 1024, 14, 14]       --\n",
              "│    └─Bottleneck: 2-12                  [128, 1024, 14, 14]       --\n",
              "│    │    └─Conv2d: 3-103                [128, 256, 14, 14]        (262,144)\n",
              "│    │    └─BatchNorm2d: 3-104           [128, 256, 14, 14]        (512)\n",
              "│    │    └─ReLU: 3-105                  [128, 256, 14, 14]        --\n",
              "│    │    └─Conv2d: 3-106                [128, 256, 14, 14]        (589,824)\n",
              "│    │    └─BatchNorm2d: 3-107           [128, 256, 14, 14]        (512)\n",
              "│    │    └─ReLU: 3-108                  [128, 256, 14, 14]        --\n",
              "│    │    └─Conv2d: 3-109                [128, 1024, 14, 14]       (262,144)\n",
              "│    │    └─BatchNorm2d: 3-110           [128, 1024, 14, 14]       (2,048)\n",
              "│    │    └─ReLU: 3-111                  [128, 1024, 14, 14]       --\n",
              "│    └─Bottleneck: 2-13                  [128, 1024, 14, 14]       --\n",
              "│    │    └─Conv2d: 3-112                [128, 256, 14, 14]        (262,144)\n",
              "│    │    └─BatchNorm2d: 3-113           [128, 256, 14, 14]        (512)\n",
              "│    │    └─ReLU: 3-114                  [128, 256, 14, 14]        --\n",
              "│    │    └─Conv2d: 3-115                [128, 256, 14, 14]        (589,824)\n",
              "│    │    └─BatchNorm2d: 3-116           [128, 256, 14, 14]        (512)\n",
              "│    │    └─ReLU: 3-117                  [128, 256, 14, 14]        --\n",
              "│    │    └─Conv2d: 3-118                [128, 1024, 14, 14]       (262,144)\n",
              "│    │    └─BatchNorm2d: 3-119           [128, 1024, 14, 14]       (2,048)\n",
              "│    │    └─ReLU: 3-120                  [128, 1024, 14, 14]       --\n",
              "├─Sequential: 1-8                        [128, 2048, 7, 7]         --\n",
              "│    └─Bottleneck: 2-14                  [128, 2048, 7, 7]         --\n",
              "│    │    └─Conv2d: 3-121                [128, 512, 14, 14]        (524,288)\n",
              "│    │    └─BatchNorm2d: 3-122           [128, 512, 14, 14]        (1,024)\n",
              "│    │    └─ReLU: 3-123                  [128, 512, 14, 14]        --\n",
              "│    │    └─Conv2d: 3-124                [128, 512, 7, 7]          (2,359,296)\n",
              "│    │    └─BatchNorm2d: 3-125           [128, 512, 7, 7]          (1,024)\n",
              "│    │    └─ReLU: 3-126                  [128, 512, 7, 7]          --\n",
              "│    │    └─Conv2d: 3-127                [128, 2048, 7, 7]         (1,048,576)\n",
              "│    │    └─BatchNorm2d: 3-128           [128, 2048, 7, 7]         (4,096)\n",
              "│    │    └─Sequential: 3-129            [128, 2048, 7, 7]         (2,101,248)\n",
              "│    │    └─ReLU: 3-130                  [128, 2048, 7, 7]         --\n",
              "│    └─Bottleneck: 2-15                  [128, 2048, 7, 7]         --\n",
              "│    │    └─Conv2d: 3-131                [128, 512, 7, 7]          (1,048,576)\n",
              "│    │    └─BatchNorm2d: 3-132           [128, 512, 7, 7]          (1,024)\n",
              "│    │    └─ReLU: 3-133                  [128, 512, 7, 7]          --\n",
              "│    │    └─Conv2d: 3-134                [128, 512, 7, 7]          (2,359,296)\n",
              "│    │    └─BatchNorm2d: 3-135           [128, 512, 7, 7]          (1,024)\n",
              "│    │    └─ReLU: 3-136                  [128, 512, 7, 7]          --\n",
              "│    │    └─Conv2d: 3-137                [128, 2048, 7, 7]         (1,048,576)\n",
              "│    │    └─BatchNorm2d: 3-138           [128, 2048, 7, 7]         (4,096)\n",
              "│    │    └─ReLU: 3-139                  [128, 2048, 7, 7]         --\n",
              "│    └─Bottleneck: 2-16                  [128, 2048, 7, 7]         --\n",
              "│    │    └─Conv2d: 3-140                [128, 512, 7, 7]          (1,048,576)\n",
              "│    │    └─BatchNorm2d: 3-141           [128, 512, 7, 7]          (1,024)\n",
              "│    │    └─ReLU: 3-142                  [128, 512, 7, 7]          --\n",
              "│    │    └─Conv2d: 3-143                [128, 512, 7, 7]          (2,359,296)\n",
              "│    │    └─BatchNorm2d: 3-144           [128, 512, 7, 7]          (1,024)\n",
              "│    │    └─ReLU: 3-145                  [128, 512, 7, 7]          --\n",
              "│    │    └─Conv2d: 3-146                [128, 2048, 7, 7]         (1,048,576)\n",
              "│    │    └─BatchNorm2d: 3-147           [128, 2048, 7, 7]         (4,096)\n",
              "│    │    └─ReLU: 3-148                  [128, 2048, 7, 7]         --\n",
              "├─AdaptiveAvgPool2d: 1-9                 [128, 2048, 1, 1]         --\n",
              "├─Linear: 1-10                           [128, 10]                 20,490\n",
              "==========================================================================================\n",
              "Total params: 23,528,522\n",
              "Trainable params: 20,490\n",
              "Non-trainable params: 23,508,032\n",
              "Total mult-adds (G): 523.16\n",
              "==========================================================================================\n",
              "Input size (MB): 77.07\n",
              "Forward/backward pass size (MB): 22761.45\n",
              "Params size (MB): 94.11\n",
              "Estimated Total Size (MB): 22932.63\n",
              "=========================================================================================="
            ]
          },
          "metadata": {},
          "execution_count": 40
        }
      ]
    },
    {
      "cell_type": "code",
      "source": [
        "loss_fn = nn.CrossEntropyLoss() # 使用交叉熵损失函数\n",
        "optimizer = torch.optim.Adam(resnet50.parameters(), lr=0.001) # 使用 Adam 优化器\n",
        "epochs = 3\n",
        "batch_size = 128\n",
        "trainloader = torch.utils.data.DataLoader(trainset, batch_size=batch_size,shuffle=True, num_workers=2)\n",
        "testloader = torch.utils.data.DataLoader(testset, batch_size=batch_size,shuffle=False, num_workers=2)\n",
        "train_long(resnet50,trainloader,testloader,epochs=epochs,optimizer = optimizer,loss_fn=torch.nn.CrossEntropyLoss(),print_freq=50)"
      ],
      "metadata": {
        "colab": {
          "base_uri": "https://localhost:8080/"
        },
        "id": "hCr62OewRD1H",
        "outputId": "1f0d7597-7ea5-4e8b-8b51-4378ec7c22dc"
      },
      "execution_count": 41,
      "outputs": [
        {
          "output_type": "stream",
          "name": "stdout",
          "text": [
            "Epoch 0, minibatch 0: train acc = 0.0859375, train loss = 0.018274305388331413\n",
            "Epoch 0, minibatch 50: train acc = 0.5246629901960784, train loss = 0.012859863393446979\n",
            "Epoch 0, minibatch 100: train acc = 0.5928991336633663, train loss = 0.010874475582991497\n",
            "Epoch 0, minibatch 150: train acc = 0.6276903973509934, train loss = 0.009791635519621388\n",
            "Epoch 0, minibatch 200: train acc = 0.6489816542288557, train loss = 0.009124735694619553\n",
            "Epoch 0, minibatch 250: train acc = 0.664093625498008, train loss = 0.008640561920713144\n",
            "Epoch 0, minibatch 300: train acc = 0.6750674833887044, train loss = 0.008282415098526154\n",
            "Epoch 0, minibatch 350: train acc = 0.6840500356125356, train loss = 0.00799721326583471\n",
            "Epoch 0 done, validation acc = 0.7416, validation loss = 0.006082545852661133\n",
            "Epoch 1, minibatch 0: train acc = 0.7734375, train loss = 0.005886969622224569\n",
            "Epoch 1, minibatch 50: train acc = 0.7544424019607843, train loss = 0.005847047356998219\n",
            "Epoch 1, minibatch 100: train acc = 0.7529393564356436, train loss = 0.005834206496134843\n",
            "Epoch 1, minibatch 150: train acc = 0.753828642384106, train loss = 0.00578155896521562\n",
            "Epoch 1, minibatch 200: train acc = 0.757851368159204, train loss = 0.005695002589059707\n",
            "Epoch 1, minibatch 250: train acc = 0.7571277390438247, train loss = 0.00569679490123612\n",
            "Epoch 1, minibatch 300: train acc = 0.7585651993355482, train loss = 0.005668619146378729\n",
            "Epoch 1, minibatch 350: train acc = 0.7600605413105413, train loss = 0.005622868184690122\n",
            "Epoch 1 done, validation acc = 0.765, validation loss = 0.005443666839599609\n",
            "Epoch 2, minibatch 0: train acc = 0.7734375, train loss = 0.004930603783577681\n",
            "Epoch 2, minibatch 50: train acc = 0.7774203431372549, train loss = 0.005174248241910748\n",
            "Epoch 2, minibatch 100: train acc = 0.7790841584158416, train loss = 0.005110781971770938\n",
            "Epoch 2, minibatch 150: train acc = 0.7799048013245033, train loss = 0.005094149649537952\n",
            "Epoch 2, minibatch 200: train acc = 0.7803560323383084, train loss = 0.005106712455180154\n",
            "Epoch 2, minibatch 250: train acc = 0.780253984063745, train loss = 0.005107552406797371\n",
            "Epoch 2, minibatch 300: train acc = 0.7799003322259136, train loss = 0.005111376708528132\n",
            "Epoch 2, minibatch 350: train acc = 0.7816061253561254, train loss = 0.005077996145286452\n",
            "Epoch 2 done, validation acc = 0.7742, validation loss = 0.005197613525390625\n"
          ]
        }
      ]
    },
    {
      "cell_type": "code",
      "source": [
        "## 尝试开始微调\n",
        "for x in resnet50.parameters():\n",
        "    x.requires_grad = True\n"
      ],
      "metadata": {
        "id": "-9ujUj-RRfeA"
      },
      "execution_count": 42,
      "outputs": []
    },
    {
      "cell_type": "code",
      "source": [
        "\n",
        "loss_fn = nn.CrossEntropyLoss() # 使用交叉熵损失函数\n",
        "optimizer = torch.optim.Adam(resnet50.parameters(), lr=0.001) # 使用 Adam 优化器\n",
        "epochs = 1\n",
        "batch_size = 128\n",
        "trainloader = torch.utils.data.DataLoader(trainset, batch_size=batch_size,shuffle=True, num_workers=2)\n",
        "testloader = torch.utils.data.DataLoader(testset, batch_size=batch_size,shuffle=False, num_workers=2)\n",
        "train_long(resnet50,trainloader,testloader,epochs=epochs,optimizer = optimizer,loss_fn=torch.nn.CrossEntropyLoss(),print_freq=50)\n"
      ],
      "metadata": {
        "colab": {
          "base_uri": "https://localhost:8080/"
        },
        "id": "cI3F_yuXTu8x",
        "outputId": "d6994b41-554e-45de-cae4-d803b987dd4f"
      },
      "execution_count": 43,
      "outputs": [
        {
          "output_type": "stream",
          "name": "stdout",
          "text": [
            "Epoch 0, minibatch 0: train acc = 0.7109375, train loss = 0.005541874095797539\n",
            "Epoch 0, minibatch 50: train acc = 0.7948835784313726, train loss = 0.004714654649005216\n",
            "Epoch 0, minibatch 100: train acc = 0.8270420792079208, train loss = 0.003959574026636558\n",
            "Epoch 0, minibatch 150: train acc = 0.8397144039735099, train loss = 0.0036680801025289573\n",
            "Epoch 0, minibatch 200: train acc = 0.8485307835820896, train loss = 0.0034899643404566827\n",
            "Epoch 0, minibatch 250: train acc = 0.8565425796812749, train loss = 0.0033150878085558156\n",
            "Epoch 0, minibatch 300: train acc = 0.8616330980066446, train loss = 0.003207599997916491\n",
            "Epoch 0, minibatch 350: train acc = 0.8665420227920227, train loss = 0.0030967662816713338\n",
            "Epoch 0 done, validation acc = 0.8838, validation loss = 0.002771183204650879\n"
          ]
        }
      ]
    },
    {
      "cell_type": "code",
      "source": [
        "train_long(resnet50,trainloader,testloader,epochs=10,optimizer = optimizer,loss_fn=torch.nn.CrossEntropyLoss(),print_freq=50)\n"
      ],
      "metadata": {
        "colab": {
          "base_uri": "https://localhost:8080/",
          "height": 805
        },
        "id": "nq3QaM8BTxBD",
        "outputId": "0ad9a7c9-1ae8-4702-a515-90d759b5b5bd"
      },
      "execution_count": 44,
      "outputs": [
        {
          "output_type": "stream",
          "name": "stdout",
          "text": [
            "Epoch 0, minibatch 0: train acc = 0.9453125, train loss = 0.0011647266801446676\n",
            "Epoch 0, minibatch 50: train acc = 0.9234068627450981, train loss = 0.001740895942145703\n",
            "Epoch 0, minibatch 100: train acc = 0.921565594059406, train loss = 0.001744380534285366\n",
            "Epoch 0, minibatch 150: train acc = 0.9210989238410596, train loss = 0.0017407810845911898\n",
            "Epoch 0, minibatch 200: train acc = 0.9219527363184079, train loss = 0.0017409203064382374\n",
            "Epoch 0, minibatch 250: train acc = 0.921906125498008, train loss = 0.0017588054278932245\n",
            "Epoch 0, minibatch 300: train acc = 0.9223421926910299, train loss = 0.0017499711822433724\n",
            "Epoch 0, minibatch 350: train acc = 0.9221198361823362, train loss = 0.0017640470099924636\n",
            "Epoch 0 done, validation acc = 0.8777, validation loss = 0.0028677675247192383\n",
            "Epoch 1, minibatch 0: train acc = 0.9453125, train loss = 0.0015196764143183827\n",
            "Epoch 1, minibatch 50: train acc = 0.9483762254901961, train loss = 0.0012008991895937453\n",
            "Epoch 1, minibatch 100: train acc = 0.9445389851485149, train loss = 0.0012683326950167666\n",
            "Epoch 1, minibatch 150: train acc = 0.9451572847682119, train loss = 0.0012677063215647312\n",
            "Epoch 1, minibatch 200: train acc = 0.9442241915422885, train loss = 0.0012929919940322192\n",
            "Epoch 1, minibatch 250: train acc = 0.9432270916334662, train loss = 0.0013212745645606661\n",
            "Epoch 1, minibatch 300: train acc = 0.9420421511627907, train loss = 0.0013308920139490173\n",
            "Epoch 1, minibatch 350: train acc = 0.9414173789173789, train loss = 0.0013409776565356131\n",
            "Epoch 1 done, validation acc = 0.8992, validation loss = 0.0023987213134765623\n",
            "Epoch 2, minibatch 0: train acc = 0.9609375, train loss = 0.0010240646079182625\n",
            "Epoch 2, minibatch 50: train acc = 0.9564950980392157, train loss = 0.0009622412423292795\n",
            "Epoch 2, minibatch 100: train acc = 0.958230198019802, train loss = 0.0009374293212843413\n",
            "Epoch 2, minibatch 150: train acc = 0.9577297185430463, train loss = 0.0009394252537102099\n",
            "Epoch 2, minibatch 200: train acc = 0.956972947761194, train loss = 0.0009611190403278787\n",
            "Epoch 2, minibatch 250: train acc = 0.9562998007968128, train loss = 0.0009738007389691721\n",
            "Epoch 2, minibatch 300: train acc = 0.9552533222591362, train loss = 0.001001889721499725\n",
            "Epoch 2, minibatch 350: train acc = 0.9550391737891738, train loss = 0.0010029927447990136\n",
            "Epoch 2 done, validation acc = 0.9009, validation loss = 0.002342751121520996\n",
            "Epoch 3, minibatch 0: train acc = 0.953125, train loss = 0.000949316076003015\n"
          ]
        },
        {
          "output_type": "error",
          "ename": "KeyboardInterrupt",
          "evalue": "ignored",
          "traceback": [
            "\u001b[0;31m---------------------------------------------------------------------------\u001b[0m",
            "\u001b[0;31mKeyboardInterrupt\u001b[0m                         Traceback (most recent call last)",
            "\u001b[0;32m<ipython-input-44-ed44de61933c>\u001b[0m in \u001b[0;36m<cell line: 1>\u001b[0;34m()\u001b[0m\n\u001b[0;32m----> 1\u001b[0;31m \u001b[0mtrain_long\u001b[0m\u001b[0;34m(\u001b[0m\u001b[0mresnet50\u001b[0m\u001b[0;34m,\u001b[0m\u001b[0mtrainloader\u001b[0m\u001b[0;34m,\u001b[0m\u001b[0mtestloader\u001b[0m\u001b[0;34m,\u001b[0m\u001b[0mepochs\u001b[0m\u001b[0;34m=\u001b[0m\u001b[0;36m10\u001b[0m\u001b[0;34m,\u001b[0m\u001b[0moptimizer\u001b[0m \u001b[0;34m=\u001b[0m \u001b[0moptimizer\u001b[0m\u001b[0;34m,\u001b[0m\u001b[0mloss_fn\u001b[0m\u001b[0;34m=\u001b[0m\u001b[0mtorch\u001b[0m\u001b[0;34m.\u001b[0m\u001b[0mnn\u001b[0m\u001b[0;34m.\u001b[0m\u001b[0mCrossEntropyLoss\u001b[0m\u001b[0;34m(\u001b[0m\u001b[0;34m)\u001b[0m\u001b[0;34m,\u001b[0m\u001b[0mprint_freq\u001b[0m\u001b[0;34m=\u001b[0m\u001b[0;36m50\u001b[0m\u001b[0;34m)\u001b[0m\u001b[0;34m\u001b[0m\u001b[0;34m\u001b[0m\u001b[0m\n\u001b[0m",
            "\u001b[0;32m<ipython-input-9-a3944f4f860c>\u001b[0m in \u001b[0;36mtrain_long\u001b[0;34m(net, train_loader, test_loader, epochs, lr, optimizer, loss_fn, print_freq)\u001b[0m\n\u001b[1;32m      5\u001b[0m         \u001b[0mtotal_loss\u001b[0m\u001b[0;34m,\u001b[0m\u001b[0macc\u001b[0m\u001b[0;34m,\u001b[0m\u001b[0mcount\u001b[0m \u001b[0;34m=\u001b[0m \u001b[0;36m0\u001b[0m\u001b[0;34m,\u001b[0m\u001b[0;36m0\u001b[0m\u001b[0;34m,\u001b[0m\u001b[0;36m0\u001b[0m\u001b[0;34m\u001b[0m\u001b[0;34m\u001b[0m\u001b[0m\n\u001b[1;32m      6\u001b[0m         \u001b[0;32mfor\u001b[0m \u001b[0mi\u001b[0m\u001b[0;34m,\u001b[0m \u001b[0;34m(\u001b[0m\u001b[0mfeatures\u001b[0m\u001b[0;34m,\u001b[0m\u001b[0mlabels\u001b[0m\u001b[0;34m)\u001b[0m \u001b[0;32min\u001b[0m \u001b[0menumerate\u001b[0m\u001b[0;34m(\u001b[0m\u001b[0mtrain_loader\u001b[0m\u001b[0;34m)\u001b[0m\u001b[0;34m:\u001b[0m\u001b[0;34m\u001b[0m\u001b[0;34m\u001b[0m\u001b[0m\n\u001b[0;32m----> 7\u001b[0;31m             \u001b[0mlbls\u001b[0m \u001b[0;34m=\u001b[0m \u001b[0mlabels\u001b[0m\u001b[0;34m.\u001b[0m\u001b[0mto\u001b[0m\u001b[0;34m(\u001b[0m\u001b[0mdevice\u001b[0m\u001b[0;34m)\u001b[0m\u001b[0;34m\u001b[0m\u001b[0;34m\u001b[0m\u001b[0m\n\u001b[0m\u001b[1;32m      8\u001b[0m             \u001b[0moptimizer\u001b[0m\u001b[0;34m.\u001b[0m\u001b[0mzero_grad\u001b[0m\u001b[0;34m(\u001b[0m\u001b[0;34m)\u001b[0m\u001b[0;34m\u001b[0m\u001b[0;34m\u001b[0m\u001b[0m\n\u001b[1;32m      9\u001b[0m             \u001b[0mout\u001b[0m \u001b[0;34m=\u001b[0m \u001b[0mnet\u001b[0m\u001b[0;34m(\u001b[0m\u001b[0mfeatures\u001b[0m\u001b[0;34m.\u001b[0m\u001b[0mto\u001b[0m\u001b[0;34m(\u001b[0m\u001b[0mdevice\u001b[0m\u001b[0;34m)\u001b[0m\u001b[0;34m)\u001b[0m\u001b[0;34m\u001b[0m\u001b[0;34m\u001b[0m\u001b[0m\n",
            "\u001b[0;31mKeyboardInterrupt\u001b[0m: "
          ]
        }
      ]
    },
    {
      "cell_type": "markdown",
      "source": [
        "> 使用ResNet50达到90%以上了,很不错的模型了。"
      ],
      "metadata": {
        "id": "j-zjgGwIcYso"
      }
    }
  ],
  "metadata": {
    "kernelspec": {
      "display_name": "base",
      "language": "python",
      "name": "python3"
    },
    "language_info": {
      "codemirror_mode": {
        "name": "ipython",
        "version": 3
      },
      "file_extension": ".py",
      "mimetype": "text/x-python",
      "name": "python",
      "nbconvert_exporter": "python",
      "pygments_lexer": "ipython3",
      "version": "3.9.7"
    },
    "orig_nbformat": 4,
    "colab": {
      "provenance": [],
      "toc_visible": true
    },
    "accelerator": "GPU",
    "gpuClass": "standard"
  },
  "nbformat": 4,
  "nbformat_minor": 0
}