{
 "cells": [
  {
   "cell_type": "markdown",
   "id": "5405222a",
   "metadata": {},
   "source": [
    "# 作业三：实战CNN —— CIFAR-10图像分类\n",
    "\n",
    "\n",
    "| 姓名 | 学号 |\n",
    "| :--: | :--: |\n",
    "| 张三 | 0000000000 |\n",
    "\n",
    "\n",
    "### 要求：\n",
    "\n",
    "<font color=Red>完成以下notebook，CIFAR数据集的下载和处理代码已经给出，请同学们自行完成训练过程。作业提交 jupyter notebook 文件。</font>"
   ]
  },
  {
   "cell_type": "markdown",
   "id": "fa7ecce8",
   "metadata": {},
   "source": [
    "CIFAR-10 是由 Hinton 的学生 Alex Krizhevsky 和 Ilya Sutskever 整理的一个用于识别普适物体的小型数据集。\n",
    "\n",
    "一共包含 10 个类别的 RGB 彩色图 片：飞机（ airlane ）、汽车（ automobile ）、鸟类（ bird ）、猫（ cat ）、鹿（ deer ）、狗（ dog ）、蛙类（ frog ）、马（ horse ）、船（ ship ）和卡车（ truck ）。图片的尺寸为 32×32 ，数据集中一共有 50000 张训练圄片和 10000 张测试图片。\n",
    "\n",
    "## 下载和缓存数据集\n",
    "\n",
    "这里实现了几个函数来下载 CIFAR-10 数据集， CIFAR_URL是下载数据集的网址。"
   ]
  },
  {
   "cell_type": "code",
   "execution_count": 1,
   "id": "eecb5240",
   "metadata": {},
   "outputs": [],
   "source": [
    "import os\n",
    "from PIL import Image\n",
    "import matplotlib.pyplot as plt\n",
    "import numpy as np\n",
    "import torch\n",
    "from torch import nn\n",
    "from torch.utils.data import DataLoader\n",
    "from torchvision import transforms\n",
    "import torch.optim as optim\n",
    "import time\n",
    "\n",
    "CIFAR_URL = 'https://www.cs.toronto.edu/~kriz/cifar-10-python.tar.gz'"
   ]
  },
  {
   "cell_type": "markdown",
   "id": "329818e4",
   "metadata": {},
   "source": [
    "下面的`download`函数用来下载并解压缩数据集，\n",
    "将数据集缓存在本地目录（默认情况下为`../data`）中。\n",
    "如果缓存目录中已经存在此数据集文件，并且其名称与下载文件名匹配，\n",
    "我们将使用缓存的文件，以避免重复的下载。\n",
    "\n",
    "下载完成后函数执行解压缩，为避免重复解压缩，同样检查是否有文件名相匹配。"
   ]
  },
  {
   "cell_type": "code",
   "execution_count": 2,
   "id": "ddefb87d",
   "metadata": {},
   "outputs": [
    {
     "name": "stdout",
     "output_type": "stream",
     "text": [
      "CIFAR exist\n",
      "CIFAR unpacked\n"
     ]
    }
   ],
   "source": [
    "def downloadCIFAR():\n",
    "    if not os.path.exists('../data'):\n",
    "        os.system('mkdir ../data')\n",
    "        print('make dic')\n",
    "    if not os.path.exists('../data/cifar-10-python.tar.gz'):\n",
    "        print('downloading CIFAR')\n",
    "        os.system('wget {}'.format(CIFAR_URL))\n",
    "        os.system('mv ./cifar-10-python.tar.gz ../data/cifar-10-python.tar.gz')\n",
    "    else:\n",
    "        print('CIFAR exist')\n",
    "    if not os.path.exists('../data/cifar-10-batches-py'):\n",
    "        print('unpacking CIFAR')\n",
    "        os.system('tar -zxvf ../data/cifar-10-python.tar.gz -C ../data/')\n",
    "    else:\n",
    "        print('CIFAR unpacked')\n",
    "        \n",
    "downloadCIFAR()"
   ]
  },
  {
   "cell_type": "markdown",
   "id": "886ed197",
   "metadata": {},
   "source": [
    "## 数据处理\n",
    "\n",
    "下面的代码用作处理数据。\n",
    " \n",
    "CIFAR数据保存为 `pkl` 格式，需要加载 `pickle` 来读取文件，下面的 `unpickle` 函数实现了读取 `pkl` 文件并返回 `List` 的功能。\n",
    "\n",
    "可以尝试展示一下读取的数据，下面的 `show_img` 函数实现了读取数据并展示图片和label的功能"
   ]
  },
  {
   "cell_type": "code",
   "execution_count": 3,
   "id": "f97eaeb7",
   "metadata": {
    "scrolled": true
   },
   "outputs": [
    {
     "data": {
      "image/png": "[encoded data removed]",
      "text/plain": [
       "<Figure size 432x288 with 1 Axes>"
      ]
     },
     "metadata": {
      "needs_background": "light"
     },
     "output_type": "display_data"
    }
   ],
   "source": [
    "def unpickle(file):\n",
    "    import pickle\n",
    "    with open(file, 'rb') as fo:\n",
    "        dict = pickle.load(fo, encoding='bytes')\n",
    "    return dict\n",
    "\n",
    "\n",
    "def show_img(num):\n",
    "    dict = unpickle('../data/cifar-10-batches-py/data_batch_1')\n",
    "    info = unpickle('../data/cifar-10-batches-py/batches.meta')\n",
    "    np_img = dict[b'data'][num].reshape([3, 32, 32])\n",
    "    np_img = np_img.transpose(1, 2, 0)\n",
    "    label = info[b'label_names'][dict[b'labels'][num]]\n",
    "    \n",
    "    plt.imshow(np_img)\n",
    "    plt.axis('on')\n",
    "    plt.title(label)\n",
    "    plt.show()\n",
    "\n",
    "    \n",
    "show_img(6)"
   ]
  },
  {
   "cell_type": "markdown",
   "id": "047d25e1",
   "metadata": {},
   "source": [
    "下面的代码实现了将读取到的数据转为torch.tensor以及一系列形状操作。\n",
    "\n",
    "<font color=Red>完成作业时可以参考下面的代码，也可以自己实现相关功能。<font>"
   ]
  },
  {
   "cell_type": "code",
   "execution_count": 4,
   "id": "f5b8d3b8",
   "metadata": {},
   "outputs": [
    {
     "name": "stdout",
     "output_type": "stream",
     "text": [
      "torch.Size([50000]) torch.Size([50000, 3, 32, 32]) torch.Size([10000]) torch.Size([10000, 3, 32, 32])\n"
     ]
    }
   ],
   "source": [
    "def get_label_data(train_val, num=0):\n",
    "    if train_val == 'train':\n",
    "        dict = unpickle('../data/cifar-10-batches-py/data_batch_{}'.format(num))\n",
    "        return torch.tensor(dict[b'labels'], dtype=torch.long), torch.tensor(dict[b'data'], \n",
    "                                                                                dtype=torch.float32).reshape(10000, 3, 32, 32)\n",
    "    else:\n",
    "        dict = unpickle('../data/cifar-10-batches-py/test_batch')\n",
    "        return torch.tensor(dict[b'labels'], dtype=torch.long), torch.tensor(dict[b'data'], \n",
    "                                                                                dtype=torch.float32).reshape(10000, 3, 32, 32)\n",
    "\n",
    "def load_data():\n",
    "    for i in range(5):\n",
    "        if i == 0:\n",
    "            train_labels, train_data = get_label_data('train', i + 1)\n",
    "        else:\n",
    "            res = get_label_data('train', i + 1)\n",
    "            train_labels = torch.concat((train_labels, res[0]), dim=0)\n",
    "            train_data = torch.concat((train_data, res[1]), dim=0)\n",
    "    test_labels, test_data = get_label_data('test')\n",
    "    return train_labels, train_data, test_labels, test_data\n",
    "\n",
    "train_labels, train_data, test_labels, test_data = load_data()\n",
    "print(train_labels.shape, train_data.shape, test_labels.shape, test_data.shape)"
   ]
  },
  {
   "cell_type": "markdown",
   "id": "fb340f01",
   "metadata": {},
   "source": [
    "# <font color=Red>训练（自行完成）<font>\n",
    "\n",
    "看到这里，请同学自己完成从**定义data loader、定义网络、定义损失函数、定义优化器到进行训练等一系列深度学习流水线**。\n",
    "    \n",
    "神经网络请使用 ***卷积神经网络*** ，可以使用现有论文模型，也可以自己提出改进或提出新模型。\n",
    "\n",
    "不限制手写或使用 `torch.nn`等高级API，视手写代码占比有一定程度加分（最多加1分）。"
   ]
  },
  {
   "cell_type": "code",
   "execution_count": null,
   "id": "a3f03990",
   "metadata": {},
   "outputs": [],
   "source": []
  },
  {
   "cell_type": "markdown",
   "id": "f3aaff4a",
   "metadata": {},
   "source": [
    "## 提示\n",
    "\n",
    "卷积神经网络和线性回归以及多层感知机相比训练时间可能稍微会有点长，建议使用GPU训练。"
   ]
  },
  {
   "cell_type": "markdown",
   "id": "a7ae4999",
   "metadata": {},
   "source": [
    "## 训练结果\n",
    "\n",
    "请将训练的 loss 下降过程以及 acc 打印出来，并展示在下方"
   ]
  },
  {
   "cell_type": "code",
   "execution_count": 9,
   "id": "7d19e83a",
   "metadata": {},
   "outputs": [
    {
     "name": "stdout",
     "output_type": "stream",
     "text": [
      "train() called: model=CNNModel, opt=Adam(lr=0.000100), epochs=40, device=cuda\n",
      "\n",
      "Epoch   1/ 40, train loss:  1.76, train acc:  0.35, val loss:  1.31, val acc:  0.53\n",
      "Epoch   2/ 40, train loss:  1.19, train acc:  0.57, val loss:  1.11, val acc:  0.60\n",
      "Epoch   4/ 40, train loss:  0.80, train acc:  0.72, val loss:  0.96, val acc:  0.67\n",
      "Epoch   6/ 40, train loss:  0.59, train acc:  0.79, val loss:  1.05, val acc:  0.69\n",
      "Epoch   8/ 40, train loss:  0.44, train acc:  0.85, val loss:  1.01, val acc:  0.71\n",
      "Epoch  10/ 40, train loss:  0.31, train acc:  0.89, val loss:  1.07, val acc:  0.73\n",
      "Epoch  12/ 40, train loss:  0.23, train acc:  0.92, val loss:  1.21, val acc:  0.73\n",
      "Epoch  14/ 40, train loss:  0.17, train acc:  0.94, val loss:  1.44, val acc:  0.72\n",
      "Epoch  16/ 40, train loss:  0.12, train acc:  0.96, val loss:  1.29, val acc:  0.75\n",
      "Epoch  18/ 40, train loss:  0.10, train acc:  0.96, val loss:  1.35, val acc:  0.74\n",
      "Epoch  20/ 40, train loss:  0.08, train acc:  0.97, val loss:  1.39, val acc:  0.75\n",
      "Epoch  22/ 40, train loss:  0.07, train acc:  0.98, val loss:  1.46, val acc:  0.76\n",
      "Epoch  24/ 40, train loss:  0.06, train acc:  0.98, val loss:  1.56, val acc:  0.74\n",
      "Epoch  26/ 40, train loss:  0.06, train acc:  0.98, val loss:  1.51, val acc:  0.75\n",
      "Epoch  28/ 40, train loss:  0.05, train acc:  0.98, val loss:  1.52, val acc:  0.75\n",
      "Epoch  30/ 40, train loss:  0.05, train acc:  0.98, val loss:  1.59, val acc:  0.76\n",
      "Epoch  32/ 40, train loss:  0.05, train acc:  0.98, val loss:  1.53, val acc:  0.76\n",
      "Epoch  34/ 40, train loss:  0.04, train acc:  0.99, val loss:  1.57, val acc:  0.76\n",
      "Epoch  36/ 40, train loss:  0.04, train acc:  0.99, val loss:  1.64, val acc:  0.76\n",
      "Epoch  38/ 40, train loss:  0.04, train acc:  0.99, val loss:  1.62, val acc:  0.76\n",
      "Epoch  40/ 40, train loss:  0.04, train acc:  0.99, val loss:  1.65, val acc:  0.76\n",
      "\n",
      "Time total:     559.69 sec\n",
      "Time per epoch: 13.99 sec\n"
     ]
    }
   ],
   "source": [
    "clf = train(model, optimizer, loss_fn, train_ds,test_ds, epochs=40, device=device)"
   ]
  },
  {
   "cell_type": "markdown",
   "id": "0ec94e04",
   "metadata": {},
   "source": [
    "可以尝试画出 loss 和 acc 变动的曲线。"
   ]
  },
  {
   "cell_type": "code",
   "execution_count": 10,
   "id": "de3a61c5",
   "metadata": {},
   "outputs": [
    {
     "data": {
      "image/png": "[encoded data removed]",
      "text/plain": [
       "<Figure size 432x288 with 1 Axes>"
      ]
     },
     "metadata": {
      "needs_background": "light"
     },
     "output_type": "display_data"
    },
    {
     "data": {
      "image/png": "[encoded data removed]",
      "text/plain": [
       "<Figure size 432x288 with 1 Axes>"
      ]
     },
     "metadata": {
      "needs_background": "light"
     },
     "output_type": "display_data"
    }
   ],
   "source": [
    "# 绘图代码"
   ]
  },
  {
   "cell_type": "markdown",
   "id": "f4a6af54",
   "metadata": {},
   "source": [
    "## 提交方式\n",
    "<font color=Red>包含运行结果的Jupyter notebook文件请命名为 `work3_<姓名>_<学号>.ipynb` 提交到乐学平时小作业3中</font>"
   ]
  }
 ],
 "metadata": {
  "kernelspec": {
   "display_name": "Python [conda env:22dl] *",
   "language": "python",
   "name": "conda-env-22dl-py"
  },
  "language_info": {
   "codemirror_mode": {
    "name": "ipython",
    "version": 3
   },
   "file_extension": ".py",
   "mimetype": "text/x-python",
   "name": "python",
   "nbconvert_exporter": "python",
   "pygments_lexer": "ipython3",
   "version": "3.8.13"
  }
 },
 "nbformat": 4,
 "nbformat_minor": 5
}
